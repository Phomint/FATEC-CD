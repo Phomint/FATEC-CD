{
 "nbformat": 4,
 "nbformat_minor": 0,
 "metadata": {
  "colab": {
   "name": "Classificação_Textos_do_Twitter_com_spaCy_IA.ipynb",
   "provenance": [],
   "collapsed_sections": []
  },
  "kernelspec": {
   "name": "python3",
   "display_name": "Python 3"
  },
  "accelerator": "GPU"
 },
 "cells": [
  {
   "cell_type": "markdown",
   "metadata": {
    "id": "AGgw36kc8udU",
    "pycharm": {
     "name": "#%% md\n"
    }
   },
   "source": [
    "# Classificação de textos do Twitter com spaCy"
   ]
  },
  {
   "cell_type": "markdown",
   "metadata": {
    "id": "JtJGnXGi8zt9",
    "pycharm": {
     "name": "#%% md\n"
    }
   },
   "source": [
    "# Importação e instalação das bibliotecas"
   ]
  },
  {
   "cell_type": "code",
   "metadata": {
    "id": "DelYAveq8yuX",
    "pycharm": {
     "name": "#%%\n"
    }
   },
   "source": [
    "import pandas as pd\n",
    "import string\n",
    "import random\n",
    "import spacy\n",
    "import seaborn as sns\n",
    "import numpy as np\n",
    "import re"
   ],
   "execution_count": 2,
   "outputs": []
  },
  {
   "cell_type": "markdown",
   "metadata": {
    "id": "iE3VMD8t86ky",
    "pycharm": {
     "name": "#%% md\n"
    }
   },
   "source": [
    "# Carregamento das bases de dados\n",
    "\n",
    "- Link Kaggle: https://www.kaggle.com/augustop/portuguese-tweets-for-sentiment-analysis#TweetsNeutralHash.csv"
   ]
  },
  {
   "cell_type": "markdown",
   "metadata": {
    "id": "472HCiGNxsGm",
    "pycharm": {
     "name": "#%% md\n"
    }
   },
   "source": [
    "## Base de treinamento\n",
    "\n",
    "- Negative label: 0\n",
    "- Positive label: 1"
   ]
  },
  {
   "cell_type": "code",
   "metadata": {
    "id": "jqsZesTIj1D1",
    "pycharm": {
     "name": "#%%\n"
    }
   },
   "source": [
    "base_treinamento = pd.read_csv('./inputs/Train50.csv', delimiter=';')"
   ],
   "execution_count": 3,
   "outputs": []
  },
  {
   "cell_type": "code",
   "metadata": {
    "id": "kkNNr-fokG5Z",
    "colab": {
     "base_uri": "https://localhost:8080/"
    },
    "outputId": "fc0e5a9a-e8fc-4e5b-bab2-24fc5cdb05f3",
    "executionInfo": {
     "status": "ok",
     "timestamp": 1649789038604,
     "user_tz": 180,
     "elapsed": 287,
     "user": {
      "displayName": "Miguel Neves",
      "userId": "15077574897414878761"
     }
    },
    "pycharm": {
     "name": "#%%\n"
    }
   },
   "source": [
    "base_treinamento.shape"
   ],
   "execution_count": 4,
   "outputs": [
    {
     "data": {
      "text/plain": "(50000, 5)"
     },
     "execution_count": 4,
     "metadata": {},
     "output_type": "execute_result"
    }
   ]
  },
  {
   "cell_type": "code",
   "metadata": {
    "id": "ian62Lo5kKXp",
    "colab": {
     "base_uri": "https://localhost:8080/",
     "height": 206
    },
    "outputId": "f0b23467-7c95-4bc3-ce8e-5ad14c059877",
    "executionInfo": {
     "status": "ok",
     "timestamp": 1649789042820,
     "user_tz": 180,
     "elapsed": 367,
     "user": {
      "displayName": "Miguel Neves",
      "userId": "15077574897414878761"
     }
    },
    "pycharm": {
     "name": "#%%\n"
    }
   },
   "source": [
    "base_treinamento.head()"
   ],
   "execution_count": 5,
   "outputs": [
    {
     "data": {
      "text/plain": "                    id                                         tweet_text  \\\n0  1050785521201541121  @Laranjito76 A pessoa certa para isso seria o ...   \n1  1050785431955140608  @behin_d_curtain Para mim, é precisamente o co...   \n2  1050785401248645120  Vou fazer um video hoje... estou pensando em f...   \n3  1050785370982547461  aaaaaaaa amei tanto essas polaroids, nem sei e...   \n4  1050785368902131713  Valoriza o coração do menininho que vc tem. El...   \n\n                       tweet_date  sentiment query_used  \n0  Fri Oct 12 16:29:25 +0000 2018          1         :)  \n1  Fri Oct 12 16:29:04 +0000 2018          1         :)  \n2  Fri Oct 12 16:28:56 +0000 2018          1         :)  \n3  Fri Oct 12 16:28:49 +0000 2018          1         :)  \n4  Fri Oct 12 16:28:49 +0000 2018          1         :)  ",
      "text/html": "<div>\n<style scoped>\n    .dataframe tbody tr th:only-of-type {\n        vertical-align: middle;\n    }\n\n    .dataframe tbody tr th {\n        vertical-align: top;\n    }\n\n    .dataframe thead th {\n        text-align: right;\n    }\n</style>\n<table border=\"1\" class=\"dataframe\">\n  <thead>\n    <tr style=\"text-align: right;\">\n      <th></th>\n      <th>id</th>\n      <th>tweet_text</th>\n      <th>tweet_date</th>\n      <th>sentiment</th>\n      <th>query_used</th>\n    </tr>\n  </thead>\n  <tbody>\n    <tr>\n      <th>0</th>\n      <td>1050785521201541121</td>\n      <td>@Laranjito76 A pessoa certa para isso seria o ...</td>\n      <td>Fri Oct 12 16:29:25 +0000 2018</td>\n      <td>1</td>\n      <td>:)</td>\n    </tr>\n    <tr>\n      <th>1</th>\n      <td>1050785431955140608</td>\n      <td>@behin_d_curtain Para mim, é precisamente o co...</td>\n      <td>Fri Oct 12 16:29:04 +0000 2018</td>\n      <td>1</td>\n      <td>:)</td>\n    </tr>\n    <tr>\n      <th>2</th>\n      <td>1050785401248645120</td>\n      <td>Vou fazer um video hoje... estou pensando em f...</td>\n      <td>Fri Oct 12 16:28:56 +0000 2018</td>\n      <td>1</td>\n      <td>:)</td>\n    </tr>\n    <tr>\n      <th>3</th>\n      <td>1050785370982547461</td>\n      <td>aaaaaaaa amei tanto essas polaroids, nem sei e...</td>\n      <td>Fri Oct 12 16:28:49 +0000 2018</td>\n      <td>1</td>\n      <td>:)</td>\n    </tr>\n    <tr>\n      <th>4</th>\n      <td>1050785368902131713</td>\n      <td>Valoriza o coração do menininho que vc tem. El...</td>\n      <td>Fri Oct 12 16:28:49 +0000 2018</td>\n      <td>1</td>\n      <td>:)</td>\n    </tr>\n  </tbody>\n</table>\n</div>"
     },
     "execution_count": 5,
     "metadata": {},
     "output_type": "execute_result"
    }
   ]
  },
  {
   "cell_type": "code",
   "metadata": {
    "id": "IVVwuPGhkm5h",
    "colab": {
     "base_uri": "https://localhost:8080/",
     "height": 334
    },
    "outputId": "392da566-55b1-46e0-add4-e6ba2f5b2a14",
    "executionInfo": {
     "status": "ok",
     "timestamp": 1649789056750,
     "user_tz": 180,
     "elapsed": 276,
     "user": {
      "displayName": "Miguel Neves",
      "userId": "15077574897414878761"
     }
    },
    "pycharm": {
     "name": "#%%\n"
    }
   },
   "source": [
    "sns.countplot(base_treinamento['sentiment'], label = 'Contagem');"
   ],
   "execution_count": 6,
   "outputs": [
    {
     "name": "stderr",
     "output_type": "stream",
     "text": [
      "/home/patrick/anaconda3/envs/fatec/lib/python3.8/site-packages/seaborn/_decorators.py:36: FutureWarning: Pass the following variable as a keyword arg: x. From version 0.12, the only valid positional argument will be `data`, and passing other arguments without an explicit keyword will result in an error or misinterpretation.\n",
      "  warnings.warn(\n"
     ]
    },
    {
     "data": {
      "text/plain": "<Figure size 432x288 with 1 Axes>",
      "image/png": "[encoded data removed]"
     },
     "metadata": {},
     "output_type": "display_data"
    }
   ]
  },
  {
   "cell_type": "code",
   "metadata": {
    "id": "-xTh-gqelMWn",
    "pycharm": {
     "name": "#%%\n"
    }
   },
   "source": [
    "base_treinamento.drop(['id', 'tweet_date', 'query_used'], axis = 1, inplace=True)"
   ],
   "execution_count": 7,
   "outputs": []
  },
  {
   "cell_type": "code",
   "metadata": {
    "id": "82hWS5cklVZ_",
    "colab": {
     "base_uri": "https://localhost:8080/",
     "height": 206
    },
    "outputId": "a3412bf0-2c95-4b84-8caa-f671585bd841",
    "executionInfo": {
     "status": "ok",
     "timestamp": 1649789069774,
     "user_tz": 180,
     "elapsed": 270,
     "user": {
      "displayName": "Miguel Neves",
      "userId": "15077574897414878761"
     }
    },
    "pycharm": {
     "name": "#%%\n"
    }
   },
   "source": [
    "base_treinamento.head()"
   ],
   "execution_count": 8,
   "outputs": [
    {
     "data": {
      "text/plain": "                                          tweet_text  sentiment\n0  @Laranjito76 A pessoa certa para isso seria o ...          1\n1  @behin_d_curtain Para mim, é precisamente o co...          1\n2  Vou fazer um video hoje... estou pensando em f...          1\n3  aaaaaaaa amei tanto essas polaroids, nem sei e...          1\n4  Valoriza o coração do menininho que vc tem. El...          1",
      "text/html": "<div>\n<style scoped>\n    .dataframe tbody tr th:only-of-type {\n        vertical-align: middle;\n    }\n\n    .dataframe tbody tr th {\n        vertical-align: top;\n    }\n\n    .dataframe thead th {\n        text-align: right;\n    }\n</style>\n<table border=\"1\" class=\"dataframe\">\n  <thead>\n    <tr style=\"text-align: right;\">\n      <th></th>\n      <th>tweet_text</th>\n      <th>sentiment</th>\n    </tr>\n  </thead>\n  <tbody>\n    <tr>\n      <th>0</th>\n      <td>@Laranjito76 A pessoa certa para isso seria o ...</td>\n      <td>1</td>\n    </tr>\n    <tr>\n      <th>1</th>\n      <td>@behin_d_curtain Para mim, é precisamente o co...</td>\n      <td>1</td>\n    </tr>\n    <tr>\n      <th>2</th>\n      <td>Vou fazer um video hoje... estou pensando em f...</td>\n      <td>1</td>\n    </tr>\n    <tr>\n      <th>3</th>\n      <td>aaaaaaaa amei tanto essas polaroids, nem sei e...</td>\n      <td>1</td>\n    </tr>\n    <tr>\n      <th>4</th>\n      <td>Valoriza o coração do menininho que vc tem. El...</td>\n      <td>1</td>\n    </tr>\n  </tbody>\n</table>\n</div>"
     },
     "execution_count": 8,
     "metadata": {},
     "output_type": "execute_result"
    }
   ]
  },
  {
   "cell_type": "code",
   "metadata": {
    "id": "dfMcmaval-7w",
    "colab": {
     "base_uri": "https://localhost:8080/",
     "height": 271
    },
    "outputId": "fff38b9c-5ecf-464a-bee6-cfc2b01867de",
    "executionInfo": {
     "status": "ok",
     "timestamp": 1649789092440,
     "user_tz": 180,
     "elapsed": 1273,
     "user": {
      "displayName": "Miguel Neves",
      "userId": "15077574897414878761"
     }
    },
    "pycharm": {
     "name": "#%%\n"
    }
   },
   "source": [
    "sns.heatmap(pd.isnull(base_treinamento));"
   ],
   "execution_count": 9,
   "outputs": [
    {
     "data": {
      "text/plain": "<Figure size 432x288 with 2 Axes>",
      "image/png": "[encoded data removed]"
     },
     "metadata": {},
     "output_type": "display_data"
    }
   ]
  },
  {
   "cell_type": "markdown",
   "metadata": {
    "id": "KwANq9uCx-jV",
    "pycharm": {
     "name": "#%% md\n"
    }
   },
   "source": [
    "## Base de teste"
   ]
  },
  {
   "cell_type": "code",
   "metadata": {
    "id": "PllVVG-IlYkC",
    "pycharm": {
     "name": "#%%\n"
    }
   },
   "source": [
    "base_teste = pd.read_csv('./inputs/Test.csv', delimiter=';')"
   ],
   "execution_count": 10,
   "outputs": []
  },
  {
   "cell_type": "code",
   "metadata": {
    "id": "yeiX7jb-lfdE",
    "colab": {
     "base_uri": "https://localhost:8080/",
     "height": 206
    },
    "outputId": "be425435-edaa-4d78-f236-5302a350a800",
    "executionInfo": {
     "status": "ok",
     "timestamp": 1649789154016,
     "user_tz": 180,
     "elapsed": 258,
     "user": {
      "displayName": "Miguel Neves",
      "userId": "15077574897414878761"
     }
    },
    "pycharm": {
     "name": "#%%\n"
    }
   },
   "source": [
    "base_teste.head()"
   ],
   "execution_count": 11,
   "outputs": [
    {
     "data": {
      "text/plain": "                    id                                         tweet_text  \\\n0  1029536486021099522                   @Gazo1a Nossa! Muito obrigada :)   \n1  1029536496368406528             @BerzGamer vai pa puta que te pariu :)   \n2  1029536531655131137  QUER MAIS DESCONTOS? (14/08) ⭐⭐⭐⭐⭐ 🌐 Confira n...   \n3  1029536560117678081  EU VOU PEGAR VCS, ME AJUDEM GALERA, PELO AMOR ...   \n4  1029536605852377088  Estávamos em casa do Zé e eu estava a morrer d...   \n\n                       tweet_date  sentiment query_used  \n0  Wed Aug 15 01:13:20 +0000 2018          1         :)  \n1  Wed Aug 15 01:13:23 +0000 2018          1         :)  \n2  Wed Aug 15 01:13:31 +0000 2018          1         :)  \n3  Wed Aug 15 01:13:38 +0000 2018          1         :)  \n4  Wed Aug 15 01:13:49 +0000 2018          1         :)  ",
      "text/html": "<div>\n<style scoped>\n    .dataframe tbody tr th:only-of-type {\n        vertical-align: middle;\n    }\n\n    .dataframe tbody tr th {\n        vertical-align: top;\n    }\n\n    .dataframe thead th {\n        text-align: right;\n    }\n</style>\n<table border=\"1\" class=\"dataframe\">\n  <thead>\n    <tr style=\"text-align: right;\">\n      <th></th>\n      <th>id</th>\n      <th>tweet_text</th>\n      <th>tweet_date</th>\n      <th>sentiment</th>\n      <th>query_used</th>\n    </tr>\n  </thead>\n  <tbody>\n    <tr>\n      <th>0</th>\n      <td>1029536486021099522</td>\n      <td>@Gazo1a Nossa! Muito obrigada :)</td>\n      <td>Wed Aug 15 01:13:20 +0000 2018</td>\n      <td>1</td>\n      <td>:)</td>\n    </tr>\n    <tr>\n      <th>1</th>\n      <td>1029536496368406528</td>\n      <td>@BerzGamer vai pa puta que te pariu :)</td>\n      <td>Wed Aug 15 01:13:23 +0000 2018</td>\n      <td>1</td>\n      <td>:)</td>\n    </tr>\n    <tr>\n      <th>2</th>\n      <td>1029536531655131137</td>\n      <td>QUER MAIS DESCONTOS? (14/08) ⭐⭐⭐⭐⭐ 🌐 Confira n...</td>\n      <td>Wed Aug 15 01:13:31 +0000 2018</td>\n      <td>1</td>\n      <td>:)</td>\n    </tr>\n    <tr>\n      <th>3</th>\n      <td>1029536560117678081</td>\n      <td>EU VOU PEGAR VCS, ME AJUDEM GALERA, PELO AMOR ...</td>\n      <td>Wed Aug 15 01:13:38 +0000 2018</td>\n      <td>1</td>\n      <td>:)</td>\n    </tr>\n    <tr>\n      <th>4</th>\n      <td>1029536605852377088</td>\n      <td>Estávamos em casa do Zé e eu estava a morrer d...</td>\n      <td>Wed Aug 15 01:13:49 +0000 2018</td>\n      <td>1</td>\n      <td>:)</td>\n    </tr>\n  </tbody>\n</table>\n</div>"
     },
     "execution_count": 11,
     "metadata": {},
     "output_type": "execute_result"
    }
   ]
  },
  {
   "cell_type": "code",
   "metadata": {
    "id": "Lr5tKcjPlkQy",
    "colab": {
     "base_uri": "https://localhost:8080/"
    },
    "outputId": "9ea83b5b-d087-4831-f2f2-1db92b802dbc",
    "executionInfo": {
     "status": "ok",
     "timestamp": 1649789158247,
     "user_tz": 180,
     "elapsed": 239,
     "user": {
      "displayName": "Miguel Neves",
      "userId": "15077574897414878761"
     }
    },
    "pycharm": {
     "name": "#%%\n"
    }
   },
   "source": [
    "base_teste.shape"
   ],
   "execution_count": 12,
   "outputs": [
    {
     "data": {
      "text/plain": "(5000, 5)"
     },
     "execution_count": 12,
     "metadata": {},
     "output_type": "execute_result"
    }
   ]
  },
  {
   "cell_type": "code",
   "metadata": {
    "id": "gPgCCOZslxXy",
    "pycharm": {
     "name": "#%%\n"
    }
   },
   "source": [
    "base_teste.drop(['id', 'tweet_date', 'query_used'], axis = 1, inplace=True)"
   ],
   "execution_count": 13,
   "outputs": []
  },
  {
   "cell_type": "code",
   "metadata": {
    "id": "5evaWMpvl1kg",
    "colab": {
     "base_uri": "https://localhost:8080/",
     "height": 206
    },
    "outputId": "2741b7b4-5e8e-471d-b935-bcb50390f924",
    "executionInfo": {
     "status": "ok",
     "timestamp": 1649789170978,
     "user_tz": 180,
     "elapsed": 225,
     "user": {
      "displayName": "Miguel Neves",
      "userId": "15077574897414878761"
     }
    },
    "pycharm": {
     "name": "#%%\n"
    }
   },
   "source": [
    "base_teste.head()"
   ],
   "execution_count": 14,
   "outputs": [
    {
     "data": {
      "text/plain": "                                          tweet_text  sentiment\n0                   @Gazo1a Nossa! Muito obrigada :)          1\n1             @BerzGamer vai pa puta que te pariu :)          1\n2  QUER MAIS DESCONTOS? (14/08) ⭐⭐⭐⭐⭐ 🌐 Confira n...          1\n3  EU VOU PEGAR VCS, ME AJUDEM GALERA, PELO AMOR ...          1\n4  Estávamos em casa do Zé e eu estava a morrer d...          1",
      "text/html": "<div>\n<style scoped>\n    .dataframe tbody tr th:only-of-type {\n        vertical-align: middle;\n    }\n\n    .dataframe tbody tr th {\n        vertical-align: top;\n    }\n\n    .dataframe thead th {\n        text-align: right;\n    }\n</style>\n<table border=\"1\" class=\"dataframe\">\n  <thead>\n    <tr style=\"text-align: right;\">\n      <th></th>\n      <th>tweet_text</th>\n      <th>sentiment</th>\n    </tr>\n  </thead>\n  <tbody>\n    <tr>\n      <th>0</th>\n      <td>@Gazo1a Nossa! Muito obrigada :)</td>\n      <td>1</td>\n    </tr>\n    <tr>\n      <th>1</th>\n      <td>@BerzGamer vai pa puta que te pariu :)</td>\n      <td>1</td>\n    </tr>\n    <tr>\n      <th>2</th>\n      <td>QUER MAIS DESCONTOS? (14/08) ⭐⭐⭐⭐⭐ 🌐 Confira n...</td>\n      <td>1</td>\n    </tr>\n    <tr>\n      <th>3</th>\n      <td>EU VOU PEGAR VCS, ME AJUDEM GALERA, PELO AMOR ...</td>\n      <td>1</td>\n    </tr>\n    <tr>\n      <th>4</th>\n      <td>Estávamos em casa do Zé e eu estava a morrer d...</td>\n      <td>1</td>\n    </tr>\n  </tbody>\n</table>\n</div>"
     },
     "execution_count": 14,
     "metadata": {},
     "output_type": "execute_result"
    }
   ]
  },
  {
   "cell_type": "code",
   "metadata": {
    "id": "FYE-KGRkmZcd",
    "colab": {
     "base_uri": "https://localhost:8080/",
     "height": 271
    },
    "outputId": "0168b086-a44a-42ea-996a-98b2ad93bca6",
    "executionInfo": {
     "status": "ok",
     "timestamp": 1649789177921,
     "user_tz": 180,
     "elapsed": 808,
     "user": {
      "displayName": "Miguel Neves",
      "userId": "15077574897414878761"
     }
    },
    "pycharm": {
     "name": "#%%\n"
    }
   },
   "source": [
    "sns.heatmap(pd.isnull(base_teste));"
   ],
   "execution_count": 15,
   "outputs": [
    {
     "data": {
      "text/plain": "<Figure size 432x288 with 2 Axes>",
      "image/png": "[encoded data removed]"
     },
     "metadata": {},
     "output_type": "display_data"
    }
   ]
  },
  {
   "cell_type": "markdown",
   "metadata": {
    "id": "h36-8Ien-AQ1",
    "pycharm": {
     "name": "#%% md\n"
    }
   },
   "source": [
    "# Função para pré-processamento dos textos\n",
    "\n",
    "- Letras minúsculas\n",
    "- Nome do usuário (@)\n",
    "- URLs\n",
    "- Espaços em branco\n",
    "- Emoticons\n",
    "- Stop words\n",
    "- Lematização\n",
    "- Pontuações"
   ]
  },
  {
   "cell_type": "code",
   "metadata": {
    "id": "gOur6ftJnKuP",
    "colab": {
     "base_uri": "https://localhost:8080/"
    },
    "outputId": "aff07f1d-21bc-4e2c-be01-0fd378b05573",
    "executionInfo": {
     "status": "ok",
     "timestamp": 1649789193089,
     "user_tz": 180,
     "elapsed": 4181,
     "user": {
      "displayName": "Miguel Neves",
      "userId": "15077574897414878761"
     }
    },
    "pycharm": {
     "name": "#%%\n"
    }
   },
   "source": [
    "pln = spacy.load('pt')\n",
    "pln"
   ],
   "execution_count": 16,
   "outputs": [
    {
     "data": {
      "text/plain": "<spacy.lang.pt.Portuguese at 0x7f19bbfc4f10>"
     },
     "execution_count": 16,
     "metadata": {},
     "output_type": "execute_result"
    }
   ]
  },
  {
   "cell_type": "code",
   "metadata": {
    "id": "z6-JRv8Ynayt",
    "pycharm": {
     "name": "#%%\n"
    }
   },
   "source": [
    "stop_words = spacy.lang.pt.stop_words.STOP_WORDS"
   ],
   "execution_count": 17,
   "outputs": []
  },
  {
   "cell_type": "code",
   "metadata": {
    "id": "rS9ldTSJnsMb",
    "pycharm": {
     "name": "#%%\n"
    }
   },
   "source": [
    "def preprocessamento(texto):\n",
    "  # Letras minúsculas\n",
    "  texto = texto.lower()\n",
    "\n",
    "  # Nome do usuário\n",
    "  texto = re.sub(r\"@[A-Za-z0-9$-_@.&+]+\", ' ', texto)\n",
    "\n",
    "  # URLs\n",
    "  texto = re.sub(r\"https?://[A-Za-z0-9./]+\", ' ', texto)\n",
    "\n",
    "  # Espaços em branco\n",
    "  texto = re.sub(r\" +\", ' ', texto)\n",
    "\n",
    "  # Emoticons\n",
    "  lista_emocoes = {':)': 'emocaopositiva',\n",
    "                   ':d': 'emocaopositiva',\n",
    "                   ':(': 'emocaonegativa'}\n",
    "  for emocao in lista_emocoes:\n",
    "    texto = texto.replace(emocao, lista_emocoes[emocao])\n",
    "\n",
    "  # Lematização\n",
    "  documento = pln(texto)\n",
    "\n",
    "  lista = []\n",
    "  for token in documento:\n",
    "    lista.append(token.lemma_)\n",
    "  \n",
    "  # Stop words e pontuações\n",
    "  lista = [palavra for palavra in lista if palavra not in stop_words and palavra not in string.punctuation]\n",
    "  lista = ' '.join([str(elemento) for elemento in lista if not elemento.isdigit()])\n",
    "  \n",
    "  return lista"
   ],
   "execution_count": 18,
   "outputs": []
  },
  {
   "cell_type": "markdown",
   "metadata": {
    "id": "DtL8DBPVOFoL",
    "pycharm": {
     "name": "#%% md\n"
    }
   },
   "source": [
    "# Pré-processamento da base de dados"
   ]
  },
  {
   "cell_type": "markdown",
   "metadata": {
    "id": "n7G5PSVUOOId",
    "pycharm": {
     "name": "#%% md\n"
    }
   },
   "source": [
    "### Limpeza dos textos"
   ]
  },
  {
   "cell_type": "code",
   "metadata": {
    "id": "o3zrf-ytssZb",
    "colab": {
     "base_uri": "https://localhost:8080/",
     "height": 363
    },
    "outputId": "19333361-bf53-48bc-df7e-f0466dadc71e",
    "executionInfo": {
     "status": "ok",
     "timestamp": 1649789296240,
     "user_tz": 180,
     "elapsed": 325,
     "user": {
      "displayName": "Miguel Neves",
      "userId": "15077574897414878761"
     }
    },
    "pycharm": {
     "name": "#%%\n"
    }
   },
   "source": [
    "base_treinamento.head(10)"
   ],
   "execution_count": 19,
   "outputs": [
    {
     "data": {
      "text/plain": "                                          tweet_text  sentiment\n0  @Laranjito76 A pessoa certa para isso seria o ...          1\n1  @behin_d_curtain Para mim, é precisamente o co...          1\n2  Vou fazer um video hoje... estou pensando em f...          1\n3  aaaaaaaa amei tanto essas polaroids, nem sei e...          1\n4  Valoriza o coração do menininho que vc tem. El...          1\n5       @KingJokerLeto mas amiga eu to aqui ainda :)          1\n6                   @RivasJairo Bravo, Jairo!!! :)))          1\n7  @inquilinasls @Spotify socorro ksoaksosks acho...          1\n8  @chimekarlla gosto muito de fazenda :) , mas m...          1\n9                            Amanha vou ver venom :D          1",
      "text/html": "<div>\n<style scoped>\n    .dataframe tbody tr th:only-of-type {\n        vertical-align: middle;\n    }\n\n    .dataframe tbody tr th {\n        vertical-align: top;\n    }\n\n    .dataframe thead th {\n        text-align: right;\n    }\n</style>\n<table border=\"1\" class=\"dataframe\">\n  <thead>\n    <tr style=\"text-align: right;\">\n      <th></th>\n      <th>tweet_text</th>\n      <th>sentiment</th>\n    </tr>\n  </thead>\n  <tbody>\n    <tr>\n      <th>0</th>\n      <td>@Laranjito76 A pessoa certa para isso seria o ...</td>\n      <td>1</td>\n    </tr>\n    <tr>\n      <th>1</th>\n      <td>@behin_d_curtain Para mim, é precisamente o co...</td>\n      <td>1</td>\n    </tr>\n    <tr>\n      <th>2</th>\n      <td>Vou fazer um video hoje... estou pensando em f...</td>\n      <td>1</td>\n    </tr>\n    <tr>\n      <th>3</th>\n      <td>aaaaaaaa amei tanto essas polaroids, nem sei e...</td>\n      <td>1</td>\n    </tr>\n    <tr>\n      <th>4</th>\n      <td>Valoriza o coração do menininho que vc tem. El...</td>\n      <td>1</td>\n    </tr>\n    <tr>\n      <th>5</th>\n      <td>@KingJokerLeto mas amiga eu to aqui ainda :)</td>\n      <td>1</td>\n    </tr>\n    <tr>\n      <th>6</th>\n      <td>@RivasJairo Bravo, Jairo!!! :)))</td>\n      <td>1</td>\n    </tr>\n    <tr>\n      <th>7</th>\n      <td>@inquilinasls @Spotify socorro ksoaksosks acho...</td>\n      <td>1</td>\n    </tr>\n    <tr>\n      <th>8</th>\n      <td>@chimekarlla gosto muito de fazenda :) , mas m...</td>\n      <td>1</td>\n    </tr>\n    <tr>\n      <th>9</th>\n      <td>Amanha vou ver venom :D</td>\n      <td>1</td>\n    </tr>\n  </tbody>\n</table>\n</div>"
     },
     "execution_count": 19,
     "metadata": {},
     "output_type": "execute_result"
    }
   ]
  },
  {
   "cell_type": "code",
   "metadata": {
    "id": "SNSsbuMis0-d",
    "pycharm": {
     "name": "#%%\n"
    }
   },
   "source": [
    "base_treinamento['tweet_text'] = base_treinamento['tweet_text'].apply(preprocessamento)"
   ],
   "execution_count": 20,
   "outputs": []
  },
  {
   "cell_type": "code",
   "metadata": {
    "id": "wR742NJLusfy",
    "colab": {
     "base_uri": "https://localhost:8080/",
     "height": 363
    },
    "outputId": "27df65fe-bc1e-402f-e59f-dfb645dfa487",
    "executionInfo": {
     "status": "ok",
     "timestamp": 1649789899362,
     "user_tz": 180,
     "elapsed": 321,
     "user": {
      "displayName": "Miguel Neves",
      "userId": "15077574897414878761"
     }
    },
    "pycharm": {
     "name": "#%%\n"
    }
   },
   "source": [
    "base_treinamento.head(10)"
   ],
   "execution_count": 21,
   "outputs": [
    {
     "data": {
      "text/plain": "                                          tweet_text  sentiment\n0    o pessoa certo parir seriar o valer e azeved...          1\n1    parir mim precisamente o contrário emocaopos...          1\n2  video hoje ... pensar falar sobrar o meter csg...          1\n3  aaaaaaaa amar polaroids expressar o quantum to...          1\n4  valorizar o coração menino vc diferente o sorr...          1\n5                            amigo to emocaopositiva          1\n6                         bravo jairo emocaopositiva          1\n7        socorrer ksoaksosks achar to o caixa som :p          1\n8    gostar fazenda emocaopositiva morrer medo ga...          1\n9                       amanhar venom emocaopositiva          1",
      "text/html": "<div>\n<style scoped>\n    .dataframe tbody tr th:only-of-type {\n        vertical-align: middle;\n    }\n\n    .dataframe tbody tr th {\n        vertical-align: top;\n    }\n\n    .dataframe thead th {\n        text-align: right;\n    }\n</style>\n<table border=\"1\" class=\"dataframe\">\n  <thead>\n    <tr style=\"text-align: right;\">\n      <th></th>\n      <th>tweet_text</th>\n      <th>sentiment</th>\n    </tr>\n  </thead>\n  <tbody>\n    <tr>\n      <th>0</th>\n      <td>o pessoa certo parir seriar o valer e azeved...</td>\n      <td>1</td>\n    </tr>\n    <tr>\n      <th>1</th>\n      <td>parir mim precisamente o contrário emocaopos...</td>\n      <td>1</td>\n    </tr>\n    <tr>\n      <th>2</th>\n      <td>video hoje ... pensar falar sobrar o meter csg...</td>\n      <td>1</td>\n    </tr>\n    <tr>\n      <th>3</th>\n      <td>aaaaaaaa amar polaroids expressar o quantum to...</td>\n      <td>1</td>\n    </tr>\n    <tr>\n      <th>4</th>\n      <td>valorizar o coração menino vc diferente o sorr...</td>\n      <td>1</td>\n    </tr>\n    <tr>\n      <th>5</th>\n      <td>amigo to emocaopositiva</td>\n      <td>1</td>\n    </tr>\n    <tr>\n      <th>6</th>\n      <td>bravo jairo emocaopositiva</td>\n      <td>1</td>\n    </tr>\n    <tr>\n      <th>7</th>\n      <td>socorrer ksoaksosks achar to o caixa som :p</td>\n      <td>1</td>\n    </tr>\n    <tr>\n      <th>8</th>\n      <td>gostar fazenda emocaopositiva morrer medo ga...</td>\n      <td>1</td>\n    </tr>\n    <tr>\n      <th>9</th>\n      <td>amanhar venom emocaopositiva</td>\n      <td>1</td>\n    </tr>\n  </tbody>\n</table>\n</div>"
     },
     "execution_count": 21,
     "metadata": {},
     "output_type": "execute_result"
    }
   ]
  },
  {
   "cell_type": "code",
   "metadata": {
    "id": "DI1GvLX1uyr4",
    "pycharm": {
     "name": "#%%\n"
    }
   },
   "source": [
    "base_teste['tweet_text'] = base_teste['tweet_text'].apply(preprocessamento)"
   ],
   "execution_count": 22,
   "outputs": []
  },
  {
   "cell_type": "code",
   "metadata": {
    "id": "jTGab2hXvGSr",
    "colab": {
     "base_uri": "https://localhost:8080/",
     "height": 363
    },
    "outputId": "1cb0ab9d-2dd0-40c4-9ce8-b1cc754fab55",
    "executionInfo": {
     "status": "ok",
     "timestamp": 1649789977485,
     "user_tz": 180,
     "elapsed": 305,
     "user": {
      "displayName": "Miguel Neves",
      "userId": "15077574897414878761"
     }
    },
    "pycharm": {
     "name": "#%%\n"
    }
   },
   "source": [
    "base_teste.head(10)"
   ],
   "execution_count": 23,
   "outputs": [
    {
     "data": {
      "text/plain": "                                          tweet_text  sentiment\n0                             obrigar emocaopositiva          1\n1                       pa puta parir emocaopositiva          1\n2  querer desconto 14/08 ⭐ ⭐ ⭐ ⭐ ⭐ 🌐 conferir o l...          1\n3  vcs ajudar galera pelar amor butera emocaoposi...          1\n4  casar zé e o morrer sono chegar o casar e fica...          1\n5                             preciso emocaopositiva          1\n6    acaso adorar beijo e abraço hahahahaha bue f...          1\n7                          solteiro s emocaopositiva          1\n8  lindeza cortador kit mário coleção bia cravol ...          1\n9                               claro emocaopositiva          1",
      "text/html": "<div>\n<style scoped>\n    .dataframe tbody tr th:only-of-type {\n        vertical-align: middle;\n    }\n\n    .dataframe tbody tr th {\n        vertical-align: top;\n    }\n\n    .dataframe thead th {\n        text-align: right;\n    }\n</style>\n<table border=\"1\" class=\"dataframe\">\n  <thead>\n    <tr style=\"text-align: right;\">\n      <th></th>\n      <th>tweet_text</th>\n      <th>sentiment</th>\n    </tr>\n  </thead>\n  <tbody>\n    <tr>\n      <th>0</th>\n      <td>obrigar emocaopositiva</td>\n      <td>1</td>\n    </tr>\n    <tr>\n      <th>1</th>\n      <td>pa puta parir emocaopositiva</td>\n      <td>1</td>\n    </tr>\n    <tr>\n      <th>2</th>\n      <td>querer desconto 14/08 ⭐ ⭐ ⭐ ⭐ ⭐ 🌐 conferir o l...</td>\n      <td>1</td>\n    </tr>\n    <tr>\n      <th>3</th>\n      <td>vcs ajudar galera pelar amor butera emocaoposi...</td>\n      <td>1</td>\n    </tr>\n    <tr>\n      <th>4</th>\n      <td>casar zé e o morrer sono chegar o casar e fica...</td>\n      <td>1</td>\n    </tr>\n    <tr>\n      <th>5</th>\n      <td>preciso emocaopositiva</td>\n      <td>1</td>\n    </tr>\n    <tr>\n      <th>6</th>\n      <td>acaso adorar beijo e abraço hahahahaha bue f...</td>\n      <td>1</td>\n    </tr>\n    <tr>\n      <th>7</th>\n      <td>solteiro s emocaopositiva</td>\n      <td>1</td>\n    </tr>\n    <tr>\n      <th>8</th>\n      <td>lindeza cortador kit mário coleção bia cravol ...</td>\n      <td>1</td>\n    </tr>\n    <tr>\n      <th>9</th>\n      <td>claro emocaopositiva</td>\n      <td>1</td>\n    </tr>\n  </tbody>\n</table>\n</div>"
     },
     "execution_count": 23,
     "metadata": {},
     "output_type": "execute_result"
    }
   ]
  },
  {
   "cell_type": "markdown",
   "metadata": {
    "id": "trA39YO4PcFp",
    "pycharm": {
     "name": "#%% md\n"
    }
   },
   "source": [
    "### Tratamento da classe"
   ]
  },
  {
   "cell_type": "code",
   "metadata": {
    "id": "SPPY0MlIYoTR",
    "pycharm": {
     "name": "#%%\n"
    }
   },
   "source": [
    "exemplo_base_dados = [[\"este trabalho é agradável\", {\"POSITIVO\": True, \"NEGATIVO\": False}],\n",
    "                      [\"este lugar continua assustador\", {\"POSITIVO\": False, \"NEGATIVO\": True}]]"
   ],
   "execution_count": 24,
   "outputs": []
  },
  {
   "cell_type": "code",
   "metadata": {
    "id": "TH31QeqEyrub",
    "pycharm": {
     "name": "#%%\n"
    }
   },
   "source": [
    "base_dados_treinamento_final = []\n",
    "for texto, emocao in zip(base_treinamento['tweet_text'], base_treinamento['sentiment']):\n",
    "  if emocao == 1:\n",
    "    dic = ({'POSITIVO': True, 'NEGATIVO': False})\n",
    "  elif emocao == 0:\n",
    "    dic = ({'POSITIVO': False, 'NEGATIVO': True})\n",
    "\n",
    "  base_dados_treinamento_final.append([texto, dic.copy()])"
   ],
   "execution_count": 25,
   "outputs": []
  },
  {
   "cell_type": "code",
   "metadata": {
    "id": "kwFKyNZM2TFj",
    "colab": {
     "base_uri": "https://localhost:8080/"
    },
    "outputId": "ebc5095a-e591-49d4-acbc-33954619afbe",
    "executionInfo": {
     "status": "ok",
     "timestamp": 1649790024784,
     "user_tz": 180,
     "elapsed": 419,
     "user": {
      "displayName": "Miguel Neves",
      "userId": "15077574897414878761"
     }
    },
    "pycharm": {
     "name": "#%%\n"
    }
   },
   "source": [
    "len(base_dados_treinamento_final)"
   ],
   "execution_count": 26,
   "outputs": [
    {
     "data": {
      "text/plain": "50000"
     },
     "execution_count": 26,
     "metadata": {},
     "output_type": "execute_result"
    }
   ]
  },
  {
   "cell_type": "code",
   "metadata": {
    "id": "_3D9UkMI2W60",
    "colab": {
     "base_uri": "https://localhost:8080/"
    },
    "outputId": "5279e447-0600-4f8e-b223-f24ab93dc0a1",
    "executionInfo": {
     "status": "ok",
     "timestamp": 1649790029657,
     "user_tz": 180,
     "elapsed": 322,
     "user": {
      "displayName": "Miguel Neves",
      "userId": "15077574897414878761"
     }
    },
    "pycharm": {
     "name": "#%%\n"
    }
   },
   "source": [
    "base_dados_treinamento_final[10:15]"
   ],
   "execution_count": 27,
   "outputs": [
    {
     "data": {
      "text/plain": "[['simplesmente o deixar chatear querer muitooo e iludir emocaopositiva',\n  {'POSITIVO': True, 'NEGATIVO': False}],\n ['o comedir umar rotina e perfeitamente parir consolidar o escola condução :p',\n  {'POSITIVO': True, 'NEGATIVO': False}],\n ['amigar parecer apaixonar vc — recíproco emocaopositiva',\n  {'POSITIVO': True, 'NEGATIVO': False}],\n ['  gajar bacano aleijar esperar e o silvar feliz emocaopositiva',\n  {'POSITIVO': True, 'NEGATIVO': False}],\n ['tou o video cabra bebé emocaopositiva',\n  {'POSITIVO': True, 'NEGATIVO': False}]]"
     },
     "execution_count": 27,
     "metadata": {},
     "output_type": "execute_result"
    }
   ]
  },
  {
   "cell_type": "code",
   "metadata": {
    "id": "E8C-_9AB2fEM",
    "colab": {
     "base_uri": "https://localhost:8080/"
    },
    "outputId": "c40b0c37-4bd3-4aed-cb2b-de497d306acc",
    "executionInfo": {
     "status": "ok",
     "timestamp": 1649790037952,
     "user_tz": 180,
     "elapsed": 729,
     "user": {
      "displayName": "Miguel Neves",
      "userId": "15077574897414878761"
     }
    },
    "pycharm": {
     "name": "#%%\n"
    }
   },
   "source": [
    "base_dados_treinamento_final[45000:45005]"
   ],
   "execution_count": 28,
   "outputs": [
    {
     "data": {
      "text/plain": "[['o menino pijama listrar o filmar triste mundo estruturar nenhum pra assistir rever e to pensar n emocaonegativa',\n  {'POSITIVO': False, 'NEGATIVO': True}],\n ['pra o vídeo luísa raiz o poliana infelizmente o twitter tá ruim amanhã postar emocaonegativa asaventurasdepoliana099',\n  {'POSITIVO': False, 'NEGATIVO': True}],\n ['to crise abstinência strangers emocaonegativa — tbm :/ to',\n  {'POSITIVO': False, 'NEGATIVO': True}],\n ['  esquecer olhar pra pagar o mensalidade turma pro cursar querer emocaonegativa',\n  {'POSITIVO': False, 'NEGATIVO': True}],\n ['querer comer doce comer montar hoje emocaonegativa maldição',\n  {'POSITIVO': False, 'NEGATIVO': True}]]"
     },
     "execution_count": 28,
     "metadata": {},
     "output_type": "execute_result"
    }
   ]
  },
  {
   "cell_type": "markdown",
   "metadata": {
    "id": "5mc19ZByUNsu",
    "pycharm": {
     "name": "#%% md\n"
    }
   },
   "source": [
    "# Criação do classificador"
   ]
  },
  {
   "cell_type": "code",
   "metadata": {
    "id": "YnZ1orji7Iv8",
    "pycharm": {
     "name": "#%%\n"
    }
   },
   "source": [
    "modelo = spacy.blank('pt')\n",
    "categorias = modelo.create_pipe(\"textcat\")\n",
    "categorias.add_label(\"POSITIVO\")\n",
    "categorias.add_label(\"NEGATIVO\")\n",
    "modelo.add_pipe(categorias)\n",
    "historico = []"
   ],
   "execution_count": 29,
   "outputs": []
  },
  {
   "cell_type": "code",
   "metadata": {
    "id": "3jlGvLEz764Y",
    "colab": {
     "base_uri": "https://localhost:8080/"
    },
    "outputId": "5553f03b-c98c-4bf1-c5e6-9bf33798b6f0",
    "executionInfo": {
     "status": "ok",
     "timestamp": 1649790759246,
     "user_tz": 180,
     "elapsed": 711377,
     "user": {
      "displayName": "Miguel Neves",
      "userId": "15077574897414878761"
     }
    },
    "pycharm": {
     "name": "#%%\n"
    }
   },
   "source": [
    "modelo.begin_training()\n",
    "for epoca in range(5):\n",
    "  random.shuffle(base_dados_treinamento_final)\n",
    "  losses = {}\n",
    "  for batch in spacy.util.minibatch(base_dados_treinamento_final, 512):\n",
    "    textos = [modelo(texto) for texto, entities in batch]\n",
    "    annotations = [{'cats': entities} for texto, entities in batch]\n",
    "    modelo.update(textos, annotations, losses=losses)\n",
    "    historico.append(losses)\n",
    "  if epoca % 5 == 0:\n",
    "    print(losses)"
   ],
   "execution_count": 30,
   "outputs": [
    {
     "name": "stdout",
     "output_type": "stream",
     "text": [
      "{'textcat': 1.189638692969397e-05}\n"
     ]
    }
   ]
  },
  {
   "cell_type": "code",
   "metadata": {
    "id": "wSe-tDsCAciN",
    "pycharm": {
     "name": "#%%\n"
    }
   },
   "source": [
    "historico_loss = []\n",
    "for i in historico:\n",
    "  historico_loss.append(i.get('textcat'))"
   ],
   "execution_count": 31,
   "outputs": []
  },
  {
   "cell_type": "code",
   "metadata": {
    "id": "ShJhtbYtAr50",
    "colab": {
     "base_uri": "https://localhost:8080/"
    },
    "outputId": "39fe3526-28c6-47d8-9cb5-fbf7d906a871",
    "executionInfo": {
     "status": "ok",
     "timestamp": 1649790773468,
     "user_tz": 180,
     "elapsed": 321,
     "user": {
      "displayName": "Miguel Neves",
      "userId": "15077574897414878761"
     }
    },
    "pycharm": {
     "name": "#%%\n"
    }
   },
   "source": [
    "historico_loss = np.array(historico_loss)\n",
    "historico_loss"
   ],
   "execution_count": 32,
   "outputs": [
    {
     "data": {
      "text/plain": "array([1.18963869e-05, 1.18963869e-05, 1.18963869e-05, 1.18963869e-05,\n       1.18963869e-05, 1.18963869e-05, 1.18963869e-05, 1.18963869e-05,\n       1.18963869e-05, 1.18963869e-05, 1.18963869e-05, 1.18963869e-05,\n       1.18963869e-05, 1.18963869e-05, 1.18963869e-05, 1.18963869e-05,\n       1.18963869e-05, 1.18963869e-05, 1.18963869e-05, 1.18963869e-05,\n       1.18963869e-05, 1.18963869e-05, 1.18963869e-05, 1.18963869e-05,\n       1.18963869e-05, 1.18963869e-05, 1.18963869e-05, 1.18963869e-05,\n       1.18963869e-05, 1.18963869e-05, 1.18963869e-05, 1.18963869e-05,\n       1.18963869e-05, 1.18963869e-05, 1.18963869e-05, 1.18963869e-05,\n       1.18963869e-05, 1.18963869e-05, 1.18963869e-05, 1.18963869e-05,\n       1.18963869e-05, 1.18963869e-05, 1.18963869e-05, 1.18963869e-05,\n       1.18963869e-05, 1.18963869e-05, 1.18963869e-05, 1.18963869e-05,\n       1.18963869e-05, 1.18963869e-05, 1.18963869e-05, 1.18963869e-05,\n       1.18963869e-05, 1.18963869e-05, 1.18963869e-05, 1.18963869e-05,\n       1.18963869e-05, 1.18963869e-05, 1.18963869e-05, 1.18963869e-05,\n       1.18963869e-05, 1.18963869e-05, 1.18963869e-05, 1.18963869e-05,\n       1.18963869e-05, 1.18963869e-05, 1.18963869e-05, 1.18963869e-05,\n       1.18963869e-05, 1.18963869e-05, 1.18963869e-05, 1.18963869e-05,\n       1.18963869e-05, 1.18963869e-05, 1.18963869e-05, 1.18963869e-05,\n       1.18963869e-05, 1.18963869e-05, 1.18963869e-05, 1.18963869e-05,\n       1.18963869e-05, 1.18963869e-05, 1.18963869e-05, 1.18963869e-05,\n       1.18963869e-05, 1.18963869e-05, 1.18963869e-05, 1.18963869e-05,\n       1.18963869e-05, 1.18963869e-05, 1.18963869e-05, 1.18963869e-05,\n       1.18963869e-05, 1.18963869e-05, 1.18963869e-05, 1.18963869e-05,\n       1.18963869e-05, 1.18963869e-05, 9.51661181e-07, 9.51661181e-07,\n       9.51661181e-07, 9.51661181e-07, 9.51661181e-07, 9.51661181e-07,\n       9.51661181e-07, 9.51661181e-07, 9.51661181e-07, 9.51661181e-07,\n       9.51661181e-07, 9.51661181e-07, 9.51661181e-07, 9.51661181e-07,\n       9.51661181e-07, 9.51661181e-07, 9.51661181e-07, 9.51661181e-07,\n       9.51661181e-07, 9.51661181e-07, 9.51661181e-07, 9.51661181e-07,\n       9.51661181e-07, 9.51661181e-07, 9.51661181e-07, 9.51661181e-07,\n       9.51661181e-07, 9.51661181e-07, 9.51661181e-07, 9.51661181e-07,\n       9.51661181e-07, 9.51661181e-07, 9.51661181e-07, 9.51661181e-07,\n       9.51661181e-07, 9.51661181e-07, 9.51661181e-07, 9.51661181e-07,\n       9.51661181e-07, 9.51661181e-07, 9.51661181e-07, 9.51661181e-07,\n       9.51661181e-07, 9.51661181e-07, 9.51661181e-07, 9.51661181e-07,\n       9.51661181e-07, 9.51661181e-07, 9.51661181e-07, 9.51661181e-07,\n       9.51661181e-07, 9.51661181e-07, 9.51661181e-07, 9.51661181e-07,\n       9.51661181e-07, 9.51661181e-07, 9.51661181e-07, 9.51661181e-07,\n       9.51661181e-07, 9.51661181e-07, 9.51661181e-07, 9.51661181e-07,\n       9.51661181e-07, 9.51661181e-07, 9.51661181e-07, 9.51661181e-07,\n       9.51661181e-07, 9.51661181e-07, 9.51661181e-07, 9.51661181e-07,\n       9.51661181e-07, 9.51661181e-07, 9.51661181e-07, 9.51661181e-07,\n       9.51661181e-07, 9.51661181e-07, 9.51661181e-07, 9.51661181e-07,\n       9.51661181e-07, 9.51661181e-07, 9.51661181e-07, 9.51661181e-07,\n       9.51661181e-07, 9.51661181e-07, 9.51661181e-07, 9.51661181e-07,\n       9.51661181e-07, 9.51661181e-07, 9.51661181e-07, 9.51661181e-07,\n       9.51661181e-07, 9.51661181e-07, 9.51661181e-07, 9.51661181e-07,\n       9.51661181e-07, 9.51661181e-07, 9.51661181e-07, 9.51661181e-07,\n       4.49613184e-07, 4.49613184e-07, 4.49613184e-07, 4.49613184e-07,\n       4.49613184e-07, 4.49613184e-07, 4.49613184e-07, 4.49613184e-07,\n       4.49613184e-07, 4.49613184e-07, 4.49613184e-07, 4.49613184e-07,\n       4.49613184e-07, 4.49613184e-07, 4.49613184e-07, 4.49613184e-07,\n       4.49613184e-07, 4.49613184e-07, 4.49613184e-07, 4.49613184e-07,\n       4.49613184e-07, 4.49613184e-07, 4.49613184e-07, 4.49613184e-07,\n       4.49613184e-07, 4.49613184e-07, 4.49613184e-07, 4.49613184e-07,\n       4.49613184e-07, 4.49613184e-07, 4.49613184e-07, 4.49613184e-07,\n       4.49613184e-07, 4.49613184e-07, 4.49613184e-07, 4.49613184e-07,\n       4.49613184e-07, 4.49613184e-07, 4.49613184e-07, 4.49613184e-07,\n       4.49613184e-07, 4.49613184e-07, 4.49613184e-07, 4.49613184e-07,\n       4.49613184e-07, 4.49613184e-07, 4.49613184e-07, 4.49613184e-07,\n       4.49613184e-07, 4.49613184e-07, 4.49613184e-07, 4.49613184e-07,\n       4.49613184e-07, 4.49613184e-07, 4.49613184e-07, 4.49613184e-07,\n       4.49613184e-07, 4.49613184e-07, 4.49613184e-07, 4.49613184e-07,\n       4.49613184e-07, 4.49613184e-07, 4.49613184e-07, 4.49613184e-07,\n       4.49613184e-07, 4.49613184e-07, 4.49613184e-07, 4.49613184e-07,\n       4.49613184e-07, 4.49613184e-07, 4.49613184e-07, 4.49613184e-07,\n       4.49613184e-07, 4.49613184e-07, 4.49613184e-07, 4.49613184e-07,\n       4.49613184e-07, 4.49613184e-07, 4.49613184e-07, 4.49613184e-07,\n       4.49613184e-07, 4.49613184e-07, 4.49613184e-07, 4.49613184e-07,\n       4.49613184e-07, 4.49613184e-07, 4.49613184e-07, 4.49613184e-07,\n       4.49613184e-07, 4.49613184e-07, 4.49613184e-07, 4.49613184e-07,\n       4.49613184e-07, 4.49613184e-07, 4.49613184e-07, 4.49613184e-07,\n       4.49613184e-07, 4.49613184e-07, 2.50263202e-07, 2.50263202e-07,\n       2.50263202e-07, 2.50263202e-07, 2.50263202e-07, 2.50263202e-07,\n       2.50263202e-07, 2.50263202e-07, 2.50263202e-07, 2.50263202e-07,\n       2.50263202e-07, 2.50263202e-07, 2.50263202e-07, 2.50263202e-07,\n       2.50263202e-07, 2.50263202e-07, 2.50263202e-07, 2.50263202e-07,\n       2.50263202e-07, 2.50263202e-07, 2.50263202e-07, 2.50263202e-07,\n       2.50263202e-07, 2.50263202e-07, 2.50263202e-07, 2.50263202e-07,\n       2.50263202e-07, 2.50263202e-07, 2.50263202e-07, 2.50263202e-07,\n       2.50263202e-07, 2.50263202e-07, 2.50263202e-07, 2.50263202e-07,\n       2.50263202e-07, 2.50263202e-07, 2.50263202e-07, 2.50263202e-07,\n       2.50263202e-07, 2.50263202e-07, 2.50263202e-07, 2.50263202e-07,\n       2.50263202e-07, 2.50263202e-07, 2.50263202e-07, 2.50263202e-07,\n       2.50263202e-07, 2.50263202e-07, 2.50263202e-07, 2.50263202e-07,\n       2.50263202e-07, 2.50263202e-07, 2.50263202e-07, 2.50263202e-07,\n       2.50263202e-07, 2.50263202e-07, 2.50263202e-07, 2.50263202e-07,\n       2.50263202e-07, 2.50263202e-07, 2.50263202e-07, 2.50263202e-07,\n       2.50263202e-07, 2.50263202e-07, 2.50263202e-07, 2.50263202e-07,\n       2.50263202e-07, 2.50263202e-07, 2.50263202e-07, 2.50263202e-07,\n       2.50263202e-07, 2.50263202e-07, 2.50263202e-07, 2.50263202e-07,\n       2.50263202e-07, 2.50263202e-07, 2.50263202e-07, 2.50263202e-07,\n       2.50263202e-07, 2.50263202e-07, 2.50263202e-07, 2.50263202e-07,\n       2.50263202e-07, 2.50263202e-07, 2.50263202e-07, 2.50263202e-07,\n       2.50263202e-07, 2.50263202e-07, 2.50263202e-07, 2.50263202e-07,\n       2.50263202e-07, 2.50263202e-07, 2.50263202e-07, 2.50263202e-07,\n       2.50263202e-07, 2.50263202e-07, 2.50263202e-07, 2.50263202e-07,\n       1.46810159e-07, 1.46810159e-07, 1.46810159e-07, 1.46810159e-07,\n       1.46810159e-07, 1.46810159e-07, 1.46810159e-07, 1.46810159e-07,\n       1.46810159e-07, 1.46810159e-07, 1.46810159e-07, 1.46810159e-07,\n       1.46810159e-07, 1.46810159e-07, 1.46810159e-07, 1.46810159e-07,\n       1.46810159e-07, 1.46810159e-07, 1.46810159e-07, 1.46810159e-07,\n       1.46810159e-07, 1.46810159e-07, 1.46810159e-07, 1.46810159e-07,\n       1.46810159e-07, 1.46810159e-07, 1.46810159e-07, 1.46810159e-07,\n       1.46810159e-07, 1.46810159e-07, 1.46810159e-07, 1.46810159e-07,\n       1.46810159e-07, 1.46810159e-07, 1.46810159e-07, 1.46810159e-07,\n       1.46810159e-07, 1.46810159e-07, 1.46810159e-07, 1.46810159e-07,\n       1.46810159e-07, 1.46810159e-07, 1.46810159e-07, 1.46810159e-07,\n       1.46810159e-07, 1.46810159e-07, 1.46810159e-07, 1.46810159e-07,\n       1.46810159e-07, 1.46810159e-07, 1.46810159e-07, 1.46810159e-07,\n       1.46810159e-07, 1.46810159e-07, 1.46810159e-07, 1.46810159e-07,\n       1.46810159e-07, 1.46810159e-07, 1.46810159e-07, 1.46810159e-07,\n       1.46810159e-07, 1.46810159e-07, 1.46810159e-07, 1.46810159e-07,\n       1.46810159e-07, 1.46810159e-07, 1.46810159e-07, 1.46810159e-07,\n       1.46810159e-07, 1.46810159e-07, 1.46810159e-07, 1.46810159e-07,\n       1.46810159e-07, 1.46810159e-07, 1.46810159e-07, 1.46810159e-07,\n       1.46810159e-07, 1.46810159e-07, 1.46810159e-07, 1.46810159e-07,\n       1.46810159e-07, 1.46810159e-07, 1.46810159e-07, 1.46810159e-07,\n       1.46810159e-07, 1.46810159e-07, 1.46810159e-07, 1.46810159e-07,\n       1.46810159e-07, 1.46810159e-07, 1.46810159e-07, 1.46810159e-07,\n       1.46810159e-07, 1.46810159e-07, 1.46810159e-07, 1.46810159e-07,\n       1.46810159e-07, 1.46810159e-07])"
     },
     "execution_count": 32,
     "metadata": {},
     "output_type": "execute_result"
    }
   ]
  },
  {
   "cell_type": "code",
   "metadata": {
    "id": "6lEL-QoBA0KI",
    "colab": {
     "base_uri": "https://localhost:8080/",
     "height": 312
    },
    "outputId": "38065205-7112-44c1-a90a-8f98b0af02b1",
    "executionInfo": {
     "status": "ok",
     "timestamp": 1649790778855,
     "user_tz": 180,
     "elapsed": 413,
     "user": {
      "displayName": "Miguel Neves",
      "userId": "15077574897414878761"
     }
    },
    "pycharm": {
     "name": "#%%\n"
    }
   },
   "source": [
    "import matplotlib.pyplot as plt\n",
    "plt.plot(historico_loss)\n",
    "plt.title('Progressão do erro')\n",
    "plt.xlabel('Batches')\n",
    "plt.ylabel('Erro')"
   ],
   "execution_count": 33,
   "outputs": [
    {
     "data": {
      "text/plain": "Text(0, 0.5, 'Erro')"
     },
     "execution_count": 33,
     "metadata": {},
     "output_type": "execute_result"
    },
    {
     "data": {
      "text/plain": "<Figure size 432x288 with 1 Axes>",
      "image/png": "[encoded data removed]"
     },
     "metadata": {},
     "output_type": "display_data"
    }
   ]
  },
  {
   "cell_type": "code",
   "metadata": {
    "id": "amNE8xy_BPSF",
    "pycharm": {
     "name": "#%%\n"
    }
   },
   "source": [
    "modelo.to_disk(\"modelo\")"
   ],
   "execution_count": 34,
   "outputs": []
  },
  {
   "cell_type": "markdown",
   "metadata": {
    "id": "ePMk8G0Dl6wg",
    "pycharm": {
     "name": "#%% md\n"
    }
   },
   "source": [
    "# Testes com uma frase"
   ]
  },
  {
   "cell_type": "code",
   "metadata": {
    "id": "W-7DO-DoAyPU",
    "colab": {
     "base_uri": "https://localhost:8080/"
    },
    "outputId": "de0636ec-0afc-4624-e6f4-af8f4ee34844",
    "executionInfo": {
     "status": "ok",
     "timestamp": 1649790806508,
     "user_tz": 180,
     "elapsed": 261,
     "user": {
      "displayName": "Miguel Neves",
      "userId": "15077574897414878761"
     }
    },
    "pycharm": {
     "name": "#%%\n"
    }
   },
   "source": [
    "modelo_carregado = spacy.load('modelo')\n",
    "modelo_carregado"
   ],
   "execution_count": 35,
   "outputs": [
    {
     "data": {
      "text/plain": "<spacy.lang.pt.Portuguese at 0x7f197b05faf0>"
     },
     "execution_count": 35,
     "metadata": {},
     "output_type": "execute_result"
    }
   ]
  },
  {
   "cell_type": "markdown",
   "metadata": {
    "id": "RZxpVOP4wJT9",
    "pycharm": {
     "name": "#%% md\n"
    }
   },
   "source": [
    "## Texto positivo"
   ]
  },
  {
   "cell_type": "code",
   "metadata": {
    "id": "fGB9HS7BBEK2",
    "colab": {
     "base_uri": "https://localhost:8080/",
     "height": 35
    },
    "outputId": "14b3080e-2ad5-4946-8c01-b50abfa56168",
    "executionInfo": {
     "status": "ok",
     "timestamp": 1649790811099,
     "user_tz": 180,
     "elapsed": 264,
     "user": {
      "displayName": "Miguel Neves",
      "userId": "15077574897414878761"
     }
    },
    "pycharm": {
     "name": "#%%\n"
    }
   },
   "source": [
    "texto_positivo = base_teste['tweet_text'][21]\n",
    "texto_positivo"
   ],
   "execution_count": 36,
   "outputs": [
    {
     "data": {
      "text/plain": "'  ficar feliz q recíproco emocaopositiva'"
     },
     "execution_count": 36,
     "metadata": {},
     "output_type": "execute_result"
    }
   ]
  },
  {
   "cell_type": "code",
   "metadata": {
    "id": "NRJW5li7Bpij",
    "colab": {
     "base_uri": "https://localhost:8080/"
    },
    "outputId": "60ac5c3f-737a-4822-b110-2af3f417157b",
    "executionInfo": {
     "status": "ok",
     "timestamp": 1649790813504,
     "user_tz": 180,
     "elapsed": 288,
     "user": {
      "displayName": "Miguel Neves",
      "userId": "15077574897414878761"
     }
    },
    "pycharm": {
     "name": "#%%\n"
    }
   },
   "source": [
    "previsao = modelo_carregado(texto_positivo)\n",
    "previsao"
   ],
   "execution_count": 37,
   "outputs": [
    {
     "data": {
      "text/plain": "  ficar feliz q recíproco emocaopositiva"
     },
     "execution_count": 37,
     "metadata": {},
     "output_type": "execute_result"
    }
   ]
  },
  {
   "cell_type": "code",
   "metadata": {
    "id": "_XtuIsoMBuz8",
    "colab": {
     "base_uri": "https://localhost:8080/"
    },
    "outputId": "558842e1-c2fd-4ec9-ee5f-6e01c6670306",
    "executionInfo": {
     "status": "ok",
     "timestamp": 1649790815660,
     "user_tz": 180,
     "elapsed": 6,
     "user": {
      "displayName": "Miguel Neves",
      "userId": "15077574897414878761"
     }
    },
    "pycharm": {
     "name": "#%%\n"
    }
   },
   "source": [
    "previsao.cats"
   ],
   "execution_count": 38,
   "outputs": [
    {
     "data": {
      "text/plain": "{'POSITIVO': 0.9986853003501892, 'NEGATIVO': 0.0011638852301985025}"
     },
     "execution_count": 38,
     "metadata": {},
     "output_type": "execute_result"
    }
   ]
  },
  {
   "cell_type": "code",
   "metadata": {
    "id": "wKdZht7PB1cJ",
    "colab": {
     "base_uri": "https://localhost:8080/",
     "height": 35
    },
    "outputId": "70558d8c-8baa-4f76-ce8c-cc4a73539d69",
    "executionInfo": {
     "status": "ok",
     "timestamp": 1649790819277,
     "user_tz": 180,
     "elapsed": 248,
     "user": {
      "displayName": "Miguel Neves",
      "userId": "15077574897414878761"
     }
    },
    "pycharm": {
     "name": "#%%\n"
    }
   },
   "source": [
    "texto_positivo = 'eu gosto muito de você'\n",
    "texto_positivo = preprocessamento(texto_positivo)\n",
    "texto_positivo"
   ],
   "execution_count": 39,
   "outputs": [
    {
     "data": {
      "text/plain": "'gostar'"
     },
     "execution_count": 39,
     "metadata": {},
     "output_type": "execute_result"
    }
   ]
  },
  {
   "cell_type": "code",
   "metadata": {
    "id": "GFDF7coVCC4c",
    "colab": {
     "base_uri": "https://localhost:8080/"
    },
    "outputId": "27bcbd0b-c30a-4e8a-e201-2a2a4f59bbc7",
    "executionInfo": {
     "status": "ok",
     "timestamp": 1649790821169,
     "user_tz": 180,
     "elapsed": 262,
     "user": {
      "displayName": "Miguel Neves",
      "userId": "15077574897414878761"
     }
    },
    "pycharm": {
     "name": "#%%\n"
    }
   },
   "source": [
    "modelo_carregado(texto_positivo).cats"
   ],
   "execution_count": 40,
   "outputs": [
    {
     "data": {
      "text/plain": "{'POSITIVO': 0.9793654680252075, 'NEGATIVO': 0.01928430050611496}"
     },
     "execution_count": 40,
     "metadata": {},
     "output_type": "execute_result"
    }
   ]
  },
  {
   "cell_type": "markdown",
   "metadata": {
    "id": "eavhsiJ4weg6",
    "pycharm": {
     "name": "#%% md\n"
    }
   },
   "source": [
    "## Texto negativo"
   ]
  },
  {
   "cell_type": "code",
   "metadata": {
    "id": "Luyzv_ZcCY9p",
    "colab": {
     "base_uri": "https://localhost:8080/",
     "height": 35
    },
    "outputId": "f6d2d5a7-56f1-4500-9446-7f7093db3d17",
    "executionInfo": {
     "status": "ok",
     "timestamp": 1649790827094,
     "user_tz": 180,
     "elapsed": 260,
     "user": {
      "displayName": "Miguel Neves",
      "userId": "15077574897414878761"
     }
    },
    "pycharm": {
     "name": "#%%\n"
    }
   },
   "source": [
    "base_teste['tweet_text'][4000]"
   ],
   "execution_count": 41,
   "outputs": [
    {
     "data": {
      "text/plain": "'tô triste filmar mulan o mushu emocaonegativa'"
     },
     "execution_count": 41,
     "metadata": {},
     "output_type": "execute_result"
    }
   ]
  },
  {
   "cell_type": "code",
   "metadata": {
    "id": "GgpAm0JFCggN",
    "colab": {
     "base_uri": "https://localhost:8080/"
    },
    "outputId": "69bdacdc-2cea-458a-b387-0bcd4be09cf9",
    "executionInfo": {
     "status": "ok",
     "timestamp": 1649790836210,
     "user_tz": 180,
     "elapsed": 252,
     "user": {
      "displayName": "Miguel Neves",
      "userId": "15077574897414878761"
     }
    },
    "pycharm": {
     "name": "#%%\n"
    }
   },
   "source": [
    "texto_negativo = base_teste['tweet_text'][4000]\n",
    "previsao = modelo_carregado(texto_negativo)\n",
    "previsao.cats"
   ],
   "execution_count": 42,
   "outputs": [
    {
     "data": {
      "text/plain": "{'POSITIVO': 0.0004183864512015134, 'NEGATIVO': 0.9997079968452454}"
     },
     "execution_count": 42,
     "metadata": {},
     "output_type": "execute_result"
    }
   ]
  },
  {
   "cell_type": "markdown",
   "metadata": {
    "id": "KhF2vtEsnlpM",
    "pycharm": {
     "name": "#%% md\n"
    }
   },
   "source": [
    "# Avaliação do modelo"
   ]
  },
  {
   "cell_type": "code",
   "metadata": {
    "id": "AwmnAwRcF1sD",
    "pycharm": {
     "name": "#%%\n"
    }
   },
   "source": [
    "previsoes = []\n",
    "for texto in base_teste['tweet_text']:\n",
    "  previsao = modelo_carregado(texto)\n",
    "  previsoes.append(previsao.cats)"
   ],
   "execution_count": 43,
   "outputs": []
  },
  {
   "cell_type": "code",
   "metadata": {
    "id": "Y7MpSvS4F8xv",
    "pycharm": {
     "name": "#%%\n"
    }
   },
   "source": [
    "previsoes_final = []\n",
    "for previsao in previsoes:\n",
    "  if previsao['POSITIVO'] > previsao['NEGATIVO']:\n",
    "    previsoes_final.append(1)\n",
    "  else:\n",
    "    previsoes_final.append(0)\n",
    "\n",
    "previsoes_final = np.array(previsoes_final)"
   ],
   "execution_count": 44,
   "outputs": []
  },
  {
   "cell_type": "code",
   "metadata": {
    "id": "rgoCy1SXGEkw",
    "pycharm": {
     "name": "#%%\n"
    }
   },
   "source": [
    "respostas_reais = base_teste['sentiment'].values"
   ],
   "execution_count": 45,
   "outputs": []
  },
  {
   "cell_type": "code",
   "metadata": {
    "id": "HbpqmtMlGJ0T",
    "colab": {
     "base_uri": "https://localhost:8080/"
    },
    "outputId": "18d3ec96-0da7-4c56-869d-1068059e9399",
    "executionInfo": {
     "status": "ok",
     "timestamp": 1649790950064,
     "user_tz": 180,
     "elapsed": 393,
     "user": {
      "displayName": "Miguel Neves",
      "userId": "15077574897414878761"
     }
    },
    "pycharm": {
     "name": "#%%\n"
    }
   },
   "source": [
    "from sklearn.metrics import accuracy_score\n",
    "accuracy_score(respostas_reais, previsoes_final)"
   ],
   "execution_count": 46,
   "outputs": [
    {
     "data": {
      "text/plain": "0.9976"
     },
     "execution_count": 46,
     "metadata": {},
     "output_type": "execute_result"
    }
   ]
  },
  {
   "cell_type": "code",
   "metadata": {
    "id": "noYdfAJ0GQAF",
    "colab": {
     "base_uri": "https://localhost:8080/"
    },
    "outputId": "c0e331af-49f1-4a71-c579-6a95d6742a84",
    "executionInfo": {
     "status": "ok",
     "timestamp": 1649790954549,
     "user_tz": 180,
     "elapsed": 934,
     "user": {
      "displayName": "Miguel Neves",
      "userId": "15077574897414878761"
     }
    },
    "pycharm": {
     "name": "#%%\n"
    }
   },
   "source": [
    "from sklearn.metrics import confusion_matrix\n",
    "cm = confusion_matrix(respostas_reais, previsoes_final)\n",
    "cm"
   ],
   "execution_count": 47,
   "outputs": [
    {
     "data": {
      "text/plain": "array([[2494,    6],\n       [   6, 2494]])"
     },
     "execution_count": 47,
     "metadata": {},
     "output_type": "execute_result"
    }
   ]
  },
  {
   "cell_type": "code",
   "execution_count": 50,
   "outputs": [
    {
     "data": {
      "text/plain": "<Figure size 432x288 with 2 Axes>",
      "image/png": "[encoded data removed]"
     },
     "metadata": {},
     "output_type": "display_data"
    }
   ],
   "source": [
    "sns.heatmap(cm, annot=True);"
   ],
   "metadata": {
    "collapsed": false,
    "pycharm": {
     "name": "#%%\n"
    }
   }
  }
 ]
}