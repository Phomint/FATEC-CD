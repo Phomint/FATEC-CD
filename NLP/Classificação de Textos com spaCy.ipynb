{
 "nbformat": 4,
 "nbformat_minor": 0,
 "metadata": {
  "colab": {
   "name": "Classificação de Textos com spaCy.ipynb",
   "provenance": [
    {
     "file_id": "158Q0kP2_K0ib2j-9n3qDsWFlCSoL0NVl",
     "timestamp": 1649709322723
    }
   ],
   "collapsed_sections": []
  },
  "kernelspec": {
   "name": "python3",
   "display_name": "Python 3"
  },
  "accelerator": "GPU"
 },
 "cells": [
  {
   "cell_type": "markdown",
   "metadata": {
    "id": "AGgw36kc8udU",
    "pycharm": {
     "name": "#%% md\n"
    }
   },
   "source": [
    "# Classificação de textos com spaCy"
   ]
  },
  {
   "cell_type": "markdown",
   "source": [
    "# Etapa 1: Importação e instalação das bibliotecas"
   ],
   "metadata": {
    "collapsed": false,
    "pycharm": {
     "name": "#%% md\n"
    }
   }
  },
  {
   "cell_type": "code",
   "metadata": {
    "id": "DelYAveq8yuX",
    "executionInfo": {
     "status": "ok",
     "timestamp": 1651100287157,
     "user_tz": 180,
     "elapsed": 1419,
     "user": {
      "displayName": "Miguel Neves",
      "userId": "15077574897414878761"
     }
    },
    "pycharm": {
     "name": "#%%\n"
    }
   },
   "source": [
    "import pandas as pd\n",
    "import string\n",
    "import spacy\n",
    "import random\n",
    "import seaborn as sns\n",
    "import numpy as np"
   ],
   "execution_count": 1,
   "outputs": []
  },
  {
   "cell_type": "markdown",
   "source": [],
   "metadata": {
    "id": "G3OwytzhXh8y",
    "pycharm": {
     "name": "#%% md\n"
    }
   }
  },
  {
   "cell_type": "markdown",
   "metadata": {
    "id": "iE3VMD8t86ky",
    "pycharm": {
     "name": "#%% md\n"
    }
   },
   "source": [
    "# Etapa 2: Carregamento da base de dados"
   ]
  },
  {
   "cell_type": "code",
   "metadata": {
    "id": "zl8DBGBNsG-h",
    "pycharm": {
     "name": "#%%\n"
    }
   },
   "source": [
    "base_dados = pd.read_csv('./inputs/base_treinamento.txt', encoding = 'utf-8')"
   ],
   "execution_count": 2,
   "outputs": []
  },
  {
   "cell_type": "code",
   "metadata": {
    "id": "SXVFCZ45tHK2",
    "colab": {
     "base_uri": "https://localhost:8080/"
    },
    "executionInfo": {
     "status": "ok",
     "timestamp": 1649785737214,
     "user_tz": 180,
     "elapsed": 5,
     "user": {
      "displayName": "Miguel Neves",
      "userId": "15077574897414878761"
     }
    },
    "outputId": "9d745715-d69c-48fc-b3dc-04eec54fde16",
    "pycharm": {
     "name": "#%%\n"
    }
   },
   "source": [
    "base_dados.shape"
   ],
   "execution_count": 3,
   "outputs": [
    {
     "data": {
      "text/plain": "(196, 2)"
     },
     "execution_count": 3,
     "metadata": {},
     "output_type": "execute_result"
    }
   ]
  },
  {
   "cell_type": "code",
   "metadata": {
    "id": "uEzrdS6LtLKN",
    "colab": {
     "base_uri": "https://localhost:8080/",
     "height": 206
    },
    "executionInfo": {
     "status": "ok",
     "timestamp": 1649785743308,
     "user_tz": 180,
     "elapsed": 805,
     "user": {
      "displayName": "Miguel Neves",
      "userId": "15077574897414878761"
     }
    },
    "outputId": "cea3950f-de8a-4cbc-aac1-4b644562a24a",
    "pycharm": {
     "name": "#%%\n"
    }
   },
   "source": [
    "base_dados.head()"
   ],
   "execution_count": 4,
   "outputs": [
    {
     "data": {
      "text/plain": "                             texto   emocao\n0        este trabalho é agradável  alegria\n1  gosto de ficar no seu aconchego  alegria\n2       fiz a adesão ao curso hoje  alegria\n3       eu sou admirada por muitos  alegria\n4                  adoro como você  alegria",
      "text/html": "<div>\n<style scoped>\n    .dataframe tbody tr th:only-of-type {\n        vertical-align: middle;\n    }\n\n    .dataframe tbody tr th {\n        vertical-align: top;\n    }\n\n    .dataframe thead th {\n        text-align: right;\n    }\n</style>\n<table border=\"1\" class=\"dataframe\">\n  <thead>\n    <tr style=\"text-align: right;\">\n      <th></th>\n      <th>texto</th>\n      <th>emocao</th>\n    </tr>\n  </thead>\n  <tbody>\n    <tr>\n      <th>0</th>\n      <td>este trabalho é agradável</td>\n      <td>alegria</td>\n    </tr>\n    <tr>\n      <th>1</th>\n      <td>gosto de ficar no seu aconchego</td>\n      <td>alegria</td>\n    </tr>\n    <tr>\n      <th>2</th>\n      <td>fiz a adesão ao curso hoje</td>\n      <td>alegria</td>\n    </tr>\n    <tr>\n      <th>3</th>\n      <td>eu sou admirada por muitos</td>\n      <td>alegria</td>\n    </tr>\n    <tr>\n      <th>4</th>\n      <td>adoro como você</td>\n      <td>alegria</td>\n    </tr>\n  </tbody>\n</table>\n</div>"
     },
     "execution_count": 4,
     "metadata": {},
     "output_type": "execute_result"
    }
   ]
  },
  {
   "cell_type": "code",
   "metadata": {
    "id": "g7mE74ILtPY3",
    "colab": {
     "base_uri": "https://localhost:8080/",
     "height": 206
    },
    "executionInfo": {
     "status": "ok",
     "timestamp": 1649785745641,
     "user_tz": 180,
     "elapsed": 417,
     "user": {
      "displayName": "Miguel Neves",
      "userId": "15077574897414878761"
     }
    },
    "outputId": "c638431b-a650-447c-fc54-e3615b5a6f98",
    "pycharm": {
     "name": "#%%\n"
    }
   },
   "source": [
    "base_dados.tail()"
   ],
   "execution_count": 5,
   "outputs": [
    {
     "data": {
      "text/plain": "                                                 texto emocao\n191  estou chocado e amedrontado com este assassina...   medo\n192  é preciso afugenta com ímpeto este medo do inf...   medo\n193  políticos usam suas forças para afugentar e am...   medo\n194       o objetivo disso e apenas me amedrontar mais   medo\n195                                    isso me apavora   medo",
      "text/html": "<div>\n<style scoped>\n    .dataframe tbody tr th:only-of-type {\n        vertical-align: middle;\n    }\n\n    .dataframe tbody tr th {\n        vertical-align: top;\n    }\n\n    .dataframe thead th {\n        text-align: right;\n    }\n</style>\n<table border=\"1\" class=\"dataframe\">\n  <thead>\n    <tr style=\"text-align: right;\">\n      <th></th>\n      <th>texto</th>\n      <th>emocao</th>\n    </tr>\n  </thead>\n  <tbody>\n    <tr>\n      <th>191</th>\n      <td>estou chocado e amedrontado com este assassina...</td>\n      <td>medo</td>\n    </tr>\n    <tr>\n      <th>192</th>\n      <td>é preciso afugenta com ímpeto este medo do inf...</td>\n      <td>medo</td>\n    </tr>\n    <tr>\n      <th>193</th>\n      <td>políticos usam suas forças para afugentar e am...</td>\n      <td>medo</td>\n    </tr>\n    <tr>\n      <th>194</th>\n      <td>o objetivo disso e apenas me amedrontar mais</td>\n      <td>medo</td>\n    </tr>\n    <tr>\n      <th>195</th>\n      <td>isso me apavora</td>\n      <td>medo</td>\n    </tr>\n  </tbody>\n</table>\n</div>"
     },
     "execution_count": 5,
     "metadata": {},
     "output_type": "execute_result"
    }
   ]
  },
  {
   "cell_type": "code",
   "metadata": {
    "id": "IekRry3jtT53",
    "colab": {
     "base_uri": "https://localhost:8080/",
     "height": 334
    },
    "executionInfo": {
     "status": "ok",
     "timestamp": 1649785747553,
     "user_tz": 180,
     "elapsed": 360,
     "user": {
      "displayName": "Miguel Neves",
      "userId": "15077574897414878761"
     }
    },
    "outputId": "802242fd-d9cc-4dc7-c8aa-76fe8d747fe2",
    "pycharm": {
     "name": "#%%\n"
    }
   },
   "source": [
    "sns.countplot(base_dados['emocao'], label = 'Contagem');"
   ],
   "execution_count": 6,
   "outputs": [
    {
     "name": "stderr",
     "output_type": "stream",
     "text": [
      "/home/patrick/anaconda3/envs/fatec/lib/python3.8/site-packages/seaborn/_decorators.py:36: FutureWarning: Pass the following variable as a keyword arg: x. From version 0.12, the only valid positional argument will be `data`, and passing other arguments without an explicit keyword will result in an error or misinterpretation.\n",
      "  warnings.warn(\n"
     ]
    },
    {
     "data": {
      "text/plain": "<Figure size 432x288 with 1 Axes>",
      "image/png": "[encoded data removed]"
     },
     "metadata": {},
     "output_type": "display_data"
    }
   ]
  },
  {
   "cell_type": "markdown",
   "metadata": {
    "id": "h36-8Ien-AQ1",
    "pycharm": {
     "name": "#%% md\n"
    }
   },
   "source": [
    "# Etapa 3: Função para pré-processamento dos textos"
   ]
  },
  {
   "cell_type": "code",
   "metadata": {
    "id": "a-qD0bc7uBrD",
    "colab": {
     "base_uri": "https://localhost:8080/",
     "height": 35
    },
    "executionInfo": {
     "status": "ok",
     "timestamp": 1649785752344,
     "user_tz": 180,
     "elapsed": 353,
     "user": {
      "displayName": "Miguel Neves",
      "userId": "15077574897414878761"
     }
    },
    "outputId": "37d37806-4726-47ef-8bb1-4d0e420e6e7e",
    "pycharm": {
     "name": "#%%\n"
    }
   },
   "source": [
    "pontuacoes = string.punctuation\n",
    "pontuacoes"
   ],
   "execution_count": 7,
   "outputs": [
    {
     "data": {
      "text/plain": "'!\"#$%&\\'()*+,-./:;<=>?@[\\\\]^_`{|}~'"
     },
     "execution_count": 7,
     "metadata": {},
     "output_type": "execute_result"
    }
   ]
  },
  {
   "cell_type": "code",
   "metadata": {
    "id": "SowU2ch_uNoe",
    "pycharm": {
     "name": "#%%\n"
    }
   },
   "source": [
    "from spacy.lang.pt.stop_words import STOP_WORDS\n",
    "stop_words = STOP_WORDS"
   ],
   "execution_count": 8,
   "outputs": []
  },
  {
   "cell_type": "code",
   "metadata": {
    "id": "UilhsfV1uWdo",
    "colab": {
     "base_uri": "https://localhost:8080/"
    },
    "executionInfo": {
     "status": "ok",
     "timestamp": 1649775771989,
     "user_tz": 180,
     "elapsed": 235,
     "user": {
      "displayName": "Miguel Neves",
      "userId": "15077574897414878761"
     }
    },
    "outputId": "5d317da3-1f37-4ae1-de58-772d7c029aaf",
    "pycharm": {
     "name": "#%%\n"
    }
   },
   "source": [
    "print(stop_words)"
   ],
   "execution_count": 9,
   "outputs": [
    {
     "name": "stdout",
     "output_type": "stream",
     "text": [
      "{'uns', 'suas', 'foram', 'ter', 'aquelas', 'sabe', 'ser', 'estão', 'parte', 'és', 'algumas', 'qualquer', 'quinze', 'falta', 'certeza', 'porque', 'disso', 'quais', 'isso', 'nosso', 'dez', 'quanto', 'estás', 'esses', 'tivestes', 'ela', 'têm', 'teu', 'nossos', 'tentei', 'tendes', 'dezasseis', 'sistema', 'põem', 'tentaram', 'em', 'forma', 'onde', 'nas', 'conselho', 'teve', 'estar', 'podem', 'você', 'pelas', 'eventual', 'des', 'comprida', 'sétimo', 'esse', 'doze', 'estivestes', 'pode', 'teus', 'aquele', 'um', 'irá', 'dar', 'tua', 'vos', 'neste', 'vocês', 'só', 'dezanove', 'contudo', 'põe', 'daquela', 'entre', 'sou', 'nessa', 'devem', 'logo', 'números', 'pela', 'zero', 'às', 'conhecido', 'faz', 'grandes', 'sobre', 'parece', 'fez', 'for', 'mesmo', 'geral', 'nossas', 'podia', 'que', 'ambos', 'possivelmente', 'estava', 'tiveste', 'nenhuma', 'não', 'quinto', 'estará', 'naquela', 'maiorias', 'dizer', 'lhe', 'mas', 'nós', 'aquela', 'meses', 'quatro', 'bastante', 'por', 'pôde', 'nada', 'porém', 'sete', 'treze', 'cujo', 'fora', 'catorze', 'nível', 'tuas', 'vem', 'depois', 'já', 'sétima', 'vossos', 'cada', 'acerca', 'mal', 'tão', 'vossa', 'vens', 'terceiro', 'tente', 'cinco', 'quando', 'cá', 'está', 'maior', 'quero', 'seria', 'pouca', 'maioria', 'ao', 'fui', 'fostes', 'vez', 'diante', 'sempre', 'dessa', 'lugar', 'tarde', 'seu', 'tiveram', 'tens', 'povo', 'ademais', 'vinte', 'lá', 'lado', 'nesse', 'desde', 'após', 'inclusive', 'novos', 'apenas', 'se', 'perto', 'quarto', 'iniciar', 'cima', 'porquanto', 'cuja', 'outras', 'tal', 'posso', 'duas', 'valor', 'bom', 'ambas', 'eles', 'minha', 'estas', 'dois', 'mês', 'isto', 'vão', 'porquê', 'tanto', 'primeira', 'grupo', 'conhecida', 'dá', 'através', 'sei', 'vós', 'essa', 'pouco', 'muito', 'nesta', 'quieta', 'outra', 'vosso', 'veja', 'são', 'puderam', 'saber', 'estado', 'segundo', 'num', 'vindo', 'deve', 'demais', 'quieto', 'antes', 'desse', 'vezes', 'terceira', 'dezassete', 'até', 'sois', 'próprio', 'para', 'exemplo', 'ainda', 'mil', 'sem', 'tivemos', 'primeiro', 'obrigado', 'eu', 'além', 'ver', 'certamente', 'fim', 'muitos', 'nem', 'aos', 'possível', 'tanta', 'segunda', 'três', 'todo', 'somente', 'área', 'direita', 'de', 'minhas', 'fazia', 'próximo', 'último', 'faço', 'coisa', 'ele', 'estivemos', 'nuns', 'uma', 'portanto', 'mais', 'algo', 'querem', 'baixo', 'daquele', 'oito', 'fazemos', 'do', 'sexto', 'poderá', 'dezoito', 'grande', 'fomos', 'corrente', 'oitavo', 'estiveram', 'aqui', 'pegar', 'diz', 'aí', 'toda', 'novas', 'onze', 'esta', 'breve', 'estiveste', 'à', 'aquilo', 'usa', 'obrigada', 'favor', 'enquanto', 'apoio', 'caminho', 'tentar', 'usar', 'tenho', 'elas', 'era', 'tu', 'meio', 'ponto', 'talvez', 'ontem', 'tudo', 'quer', 'tempo', 'é', 'apoia', 'das', 'comprido', 'ligado', 'qual', 'as', 'tais', 'cedo', 'assim', 'vários', 'da', 'desta', 'poder', 'esteve', 'outros', 'apontar', 'embora', 'fazeis', 'fazer', 'quê', 'longe', 'temos', 'sob', 'nos', 'debaixo', 'quem', 'vinda', 'agora', 'quarta', 'pelo', 'meu', 'cento', 'nossa', 'então', 'essas', 'seis', 'tive', 'fazem', 'atrás', 'com', 'pois', 'ora', 'estive', 'pelos', 'me', 'pontos', 'somos', 'ou', 'novo', 'momento', 'estes', 'fará', 'inicio', 'tem', 'relação', 'partir', 'todas', 'este', 'menor', 'deste', 'próxima', 'umas', 'como', 'meus', 'número', 'tipo', 'foi', 'oitava', 'foste', 'máximo', 'local', 'dentro', 'no', 'os', 'menos', 'adeus', 'boa', 'todos', 'bem', 'naquele', 'nove', 'dizem', 'contra', 'vai', 'numa', 'seus', 'aqueles', 'alguns', 'sua', 'sexta', 'vêm', 'posição', 'também', 'final', 'nunca', 'questão', 'vais', 'na', 'custa', 'quinta', 'fazes', 'vossas', 'dão', 'ali', 'estou', 'sim', 'deverá', 'nova', 'dos', 'te', 'ir'}\n"
     ]
    }
   ]
  },
  {
   "cell_type": "code",
   "metadata": {
    "id": "TCPSvh8buZlX",
    "colab": {
     "base_uri": "https://localhost:8080/"
    },
    "executionInfo": {
     "status": "ok",
     "timestamp": 1649785773962,
     "user_tz": 180,
     "elapsed": 527,
     "user": {
      "displayName": "Miguel Neves",
      "userId": "15077574897414878761"
     }
    },
    "outputId": "7cda0e83-e5fb-4c63-a8a2-9ae191f2eff5",
    "pycharm": {
     "name": "#%%\n"
    }
   },
   "source": [
    "len(stop_words)"
   ],
   "execution_count": 10,
   "outputs": [
    {
     "data": {
      "text/plain": "413"
     },
     "execution_count": 10,
     "metadata": {},
     "output_type": "execute_result"
    }
   ]
  },
  {
   "cell_type": "code",
   "metadata": {
    "id": "QhF1_72Euc4o",
    "pycharm": {
     "name": "#%%\n"
    }
   },
   "source": [
    "pln = spacy.load('pt')"
   ],
   "execution_count": 11,
   "outputs": []
  },
  {
   "cell_type": "code",
   "metadata": {
    "id": "RvCEW_Uqune8",
    "pycharm": {
     "name": "#%%\n"
    }
   },
   "source": [
    "def preprocessamento(texto):\n",
    "  texto = texto.lower()\n",
    "  documento = pln(texto)\n",
    "  lista = [token.lemma_ for token in documento if token.lemma_ not in stop_words and token.lemma_ not in pontuacoes]\n",
    "  lista = ' '.join([str(elemento) for elemento in lista if not elemento.isdigit()])\n",
    "  return lista"
   ],
   "execution_count": 12,
   "outputs": []
  },
  {
   "cell_type": "code",
   "metadata": {
    "id": "2_nIBBhYuqsr",
    "colab": {
     "base_uri": "https://localhost:8080/",
     "height": 35
    },
    "executionInfo": {
     "status": "ok",
     "timestamp": 1649785843504,
     "user_tz": 180,
     "elapsed": 337,
     "user": {
      "displayName": "Miguel Neves",
      "userId": "15077574897414878761"
     }
    },
    "outputId": "1a104768-4b78-44fa-83f3-2321905d1486",
    "pycharm": {
     "name": "#%%\n"
    }
   },
   "source": [
    "teste = preprocessamento('Estou aPrendendo 1 10 23 processamento de linguagem natural, Curso em Curitiba')\n",
    "teste"
   ],
   "execution_count": 13,
   "outputs": [
    {
     "data": {
      "text/plain": "'aprender processamento linguagem natural cursar curitiba'"
     },
     "execution_count": 13,
     "metadata": {},
     "output_type": "execute_result"
    }
   ]
  },
  {
   "cell_type": "markdown",
   "metadata": {
    "id": "DtL8DBPVOFoL",
    "pycharm": {
     "name": "#%% md\n"
    }
   },
   "source": [
    "# Etapa 4: Pré-processamento da base de dados"
   ]
  },
  {
   "cell_type": "markdown",
   "metadata": {
    "id": "n7G5PSVUOOId",
    "pycharm": {
     "name": "#%% md\n"
    }
   },
   "source": [
    "### Limpeza dos textos"
   ]
  },
  {
   "cell_type": "code",
   "metadata": {
    "id": "hpwZrbUGw58L",
    "colab": {
     "base_uri": "https://localhost:8080/",
     "height": 363
    },
    "executionInfo": {
     "status": "ok",
     "timestamp": 1649785848585,
     "user_tz": 180,
     "elapsed": 590,
     "user": {
      "displayName": "Miguel Neves",
      "userId": "15077574897414878761"
     }
    },
    "outputId": "37f411b3-8091-4fe2-8f58-96ef8cf08bc4",
    "pycharm": {
     "name": "#%%\n"
    }
   },
   "source": [
    "base_dados.head(10)"
   ],
   "execution_count": 14,
   "outputs": [
    {
     "data": {
      "text/plain": "                              texto   emocao\n0         este trabalho é agradável  alegria\n1   gosto de ficar no seu aconchego  alegria\n2        fiz a adesão ao curso hoje  alegria\n3        eu sou admirada por muitos  alegria\n4                   adoro como você  alegria\n5            adoro seu cabelo macio  alegria\n6        adoro a cor dos seus olhos  alegria\n7   somo tão amáveis um com o outro  alegria\n8  sinto uma grande afeição por ele  alegria\n9         quero agradar meus filhos  alegria",
      "text/html": "<div>\n<style scoped>\n    .dataframe tbody tr th:only-of-type {\n        vertical-align: middle;\n    }\n\n    .dataframe tbody tr th {\n        vertical-align: top;\n    }\n\n    .dataframe thead th {\n        text-align: right;\n    }\n</style>\n<table border=\"1\" class=\"dataframe\">\n  <thead>\n    <tr style=\"text-align: right;\">\n      <th></th>\n      <th>texto</th>\n      <th>emocao</th>\n    </tr>\n  </thead>\n  <tbody>\n    <tr>\n      <th>0</th>\n      <td>este trabalho é agradável</td>\n      <td>alegria</td>\n    </tr>\n    <tr>\n      <th>1</th>\n      <td>gosto de ficar no seu aconchego</td>\n      <td>alegria</td>\n    </tr>\n    <tr>\n      <th>2</th>\n      <td>fiz a adesão ao curso hoje</td>\n      <td>alegria</td>\n    </tr>\n    <tr>\n      <th>3</th>\n      <td>eu sou admirada por muitos</td>\n      <td>alegria</td>\n    </tr>\n    <tr>\n      <th>4</th>\n      <td>adoro como você</td>\n      <td>alegria</td>\n    </tr>\n    <tr>\n      <th>5</th>\n      <td>adoro seu cabelo macio</td>\n      <td>alegria</td>\n    </tr>\n    <tr>\n      <th>6</th>\n      <td>adoro a cor dos seus olhos</td>\n      <td>alegria</td>\n    </tr>\n    <tr>\n      <th>7</th>\n      <td>somo tão amáveis um com o outro</td>\n      <td>alegria</td>\n    </tr>\n    <tr>\n      <th>8</th>\n      <td>sinto uma grande afeição por ele</td>\n      <td>alegria</td>\n    </tr>\n    <tr>\n      <th>9</th>\n      <td>quero agradar meus filhos</td>\n      <td>alegria</td>\n    </tr>\n  </tbody>\n</table>\n</div>"
     },
     "execution_count": 14,
     "metadata": {},
     "output_type": "execute_result"
    }
   ]
  },
  {
   "cell_type": "code",
   "metadata": {
    "id": "Yg17ZY0LxHB-",
    "pycharm": {
     "name": "#%%\n"
    }
   },
   "source": [
    "base_dados['texto'] = base_dados['texto'].apply(preprocessamento)"
   ],
   "execution_count": 15,
   "outputs": []
  },
  {
   "cell_type": "code",
   "metadata": {
    "id": "a-Rh0qZQxZ99",
    "colab": {
     "base_uri": "https://localhost:8080/",
     "height": 363
    },
    "executionInfo": {
     "status": "ok",
     "timestamp": 1649775809727,
     "user_tz": 180,
     "elapsed": 282,
     "user": {
      "displayName": "Miguel Neves",
      "userId": "15077574897414878761"
     }
    },
    "outputId": "d9a0b7a3-5722-47ec-f3ac-2f9152b015f9",
    "pycharm": {
     "name": "#%%\n"
    }
   },
   "source": [
    "base_dados.head(10)"
   ],
   "execution_count": 16,
   "outputs": [
    {
     "data": {
      "text/plain": "                       texto   emocao\n0        trabalhar agradável  alegria\n1  gostar ficar o aconchegar  alegria\n2   o adesão o o cursar hoje  alegria\n3                    admirar  alegria\n4               adorar comer  alegria\n5      adorar cabelar maciar  alegria\n6          adorar o cor olho  alegria\n7       somar amável o outro  alegria\n8        sentir umar afeição  alegria\n9       querer agradar filho  alegria",
      "text/html": "<div>\n<style scoped>\n    .dataframe tbody tr th:only-of-type {\n        vertical-align: middle;\n    }\n\n    .dataframe tbody tr th {\n        vertical-align: top;\n    }\n\n    .dataframe thead th {\n        text-align: right;\n    }\n</style>\n<table border=\"1\" class=\"dataframe\">\n  <thead>\n    <tr style=\"text-align: right;\">\n      <th></th>\n      <th>texto</th>\n      <th>emocao</th>\n    </tr>\n  </thead>\n  <tbody>\n    <tr>\n      <th>0</th>\n      <td>trabalhar agradável</td>\n      <td>alegria</td>\n    </tr>\n    <tr>\n      <th>1</th>\n      <td>gostar ficar o aconchegar</td>\n      <td>alegria</td>\n    </tr>\n    <tr>\n      <th>2</th>\n      <td>o adesão o o cursar hoje</td>\n      <td>alegria</td>\n    </tr>\n    <tr>\n      <th>3</th>\n      <td>admirar</td>\n      <td>alegria</td>\n    </tr>\n    <tr>\n      <th>4</th>\n      <td>adorar comer</td>\n      <td>alegria</td>\n    </tr>\n    <tr>\n      <th>5</th>\n      <td>adorar cabelar maciar</td>\n      <td>alegria</td>\n    </tr>\n    <tr>\n      <th>6</th>\n      <td>adorar o cor olho</td>\n      <td>alegria</td>\n    </tr>\n    <tr>\n      <th>7</th>\n      <td>somar amável o outro</td>\n      <td>alegria</td>\n    </tr>\n    <tr>\n      <th>8</th>\n      <td>sentir umar afeição</td>\n      <td>alegria</td>\n    </tr>\n    <tr>\n      <th>9</th>\n      <td>querer agradar filho</td>\n      <td>alegria</td>\n    </tr>\n  </tbody>\n</table>\n</div>"
     },
     "execution_count": 16,
     "metadata": {},
     "output_type": "execute_result"
    }
   ]
  },
  {
   "cell_type": "markdown",
   "metadata": {
    "id": "trA39YO4PcFp",
    "pycharm": {
     "name": "#%% md\n"
    }
   },
   "source": [
    "### Tratamento da classe"
   ]
  },
  {
   "cell_type": "code",
   "metadata": {
    "id": "TH31QeqEyrub",
    "pycharm": {
     "name": "#%%\n"
    }
   },
   "source": [
    "base_dados_final = []\n",
    "for texto, emocao in zip(base_dados['texto'], base_dados['emocao']):#função zip para trabalhar os dois paramêtros\n",
    "  if emocao == 'alegria':\n",
    "    dic = ({'ALEGRIA': True, 'MEDO': False})\n",
    "  elif emocao == 'medo':\n",
    "    dic = ({'ALEGRIA': False, 'MEDO': True})\n",
    "\n",
    "  base_dados_final.append([texto, dic.copy()])"
   ],
   "execution_count": 17,
   "outputs": []
  },
  {
   "cell_type": "code",
   "metadata": {
    "id": "L-uCDjrazfyN",
    "colab": {
     "base_uri": "https://localhost:8080/"
    },
    "executionInfo": {
     "status": "ok",
     "timestamp": 1649785905051,
     "user_tz": 180,
     "elapsed": 463,
     "user": {
      "displayName": "Miguel Neves",
      "userId": "15077574897414878761"
     }
    },
    "outputId": "10a4d417-0d8f-4b86-d2a3-86ea5a2c0805",
    "pycharm": {
     "name": "#%%\n"
    }
   },
   "source": [
    "len(base_dados_final)"
   ],
   "execution_count": 18,
   "outputs": [
    {
     "data": {
      "text/plain": "196"
     },
     "execution_count": 18,
     "metadata": {},
     "output_type": "execute_result"
    }
   ]
  },
  {
   "cell_type": "code",
   "metadata": {
    "id": "VoF9RsEFzySQ",
    "colab": {
     "base_uri": "https://localhost:8080/"
    },
    "executionInfo": {
     "status": "ok",
     "timestamp": 1649785917655,
     "user_tz": 180,
     "elapsed": 560,
     "user": {
      "displayName": "Miguel Neves",
      "userId": "15077574897414878761"
     }
    },
    "outputId": "cb7e1829-1f72-4045-f3ba-53c463dc66ca",
    "pycharm": {
     "name": "#%%\n"
    }
   },
   "source": [
    "base_dados_final"
   ],
   "execution_count": 19,
   "outputs": [
    {
     "data": {
      "text/plain": "[['trabalhar agradável', {'ALEGRIA': True, 'MEDO': False}],\n ['gostar ficar o aconchegar', {'ALEGRIA': True, 'MEDO': False}],\n ['o adesão o o cursar hoje', {'ALEGRIA': True, 'MEDO': False}],\n ['admirar', {'ALEGRIA': True, 'MEDO': False}],\n ['adorar comer', {'ALEGRIA': True, 'MEDO': False}],\n ['adorar cabelar maciar', {'ALEGRIA': True, 'MEDO': False}],\n ['adorar o cor olho', {'ALEGRIA': True, 'MEDO': False}],\n ['somar amável o outro', {'ALEGRIA': True, 'MEDO': False}],\n ['sentir umar afeição', {'ALEGRIA': True, 'MEDO': False}],\n ['querer agradar filho', {'ALEGRIA': True, 'MEDO': False}],\n ['sentir completamente amar', {'ALEGRIA': True, 'MEDO': False}],\n ['amar', {'ALEGRIA': True, 'MEDO': False}],\n ['alívio', {'ALEGRIA': True, 'MEDO': False}],\n ['o dor amenizar finalmente', {'ALEGRIA': True, 'MEDO': False}],\n ['achar apaixonar', {'ALEGRIA': True, 'MEDO': False}],\n ['amar maravilhoso', {'ALEGRIA': True, 'MEDO': False}],\n ['sentir animar', {'ALEGRIA': True, 'MEDO': False}],\n ['sentir hoje', {'ALEGRIA': True, 'MEDO': False}],\n ['comer o luar belo', {'ALEGRIA': True, 'MEDO': False}],\n ['o dia bonito', {'ALEGRIA': True, 'MEDO': False}],\n ['comer afortunar', {'ALEGRIA': True, 'MEDO': False}],\n ['o maravilhar mundo', {'ALEGRIA': True, 'MEDO': False}],\n ['receber caro hoje colega', {'ALEGRIA': True, 'MEDO': False}],\n ['sentir reconfortar hoje', {'ALEGRIA': True, 'MEDO': False}],\n ['o amigo', {'ALEGRIA': True, 'MEDO': False}],\n ['contentar o resultar teste', {'ALEGRIA': True, 'MEDO': False}],\n ['pintura brilhante', {'ALEGRIA': True, 'MEDO': False}],\n ['água abundância', {'ALEGRIA': True, 'MEDO': False}],\n ['roupar delicado', {'ALEGRIA': True, 'MEDO': False}],\n ['comediante', {'ALEGRIA': True, 'MEDO': False}],\n ['bondade o suar', {'ALEGRIA': True, 'MEDO': False}],\n ['o amor lindar', {'ALEGRIA': True, 'MEDO': False}],\n ['amizade durar parir', {'ALEGRIA': True, 'MEDO': False}],\n ['eufórico o notícia', {'ALEGRIA': True, 'MEDO': False}],\n ['realmente fiel o mim', {'ALEGRIA': True, 'MEDO': False}],\n ['umar festa parir comemorar aniversário', {'ALEGRIA': True, 'MEDO': False}],\n ['graça o deus enxergar o certar', {'ALEGRIA': True, 'MEDO': False}],\n ['o melhor escolher', {'ALEGRIA': True, 'MEDO': False}],\n ['o incrível belo', {'ALEGRIA': True, 'MEDO': False}],\n ['engraçar explicar', {'ALEGRIA': True, 'MEDO': False}],\n ['emocionante n', {'ALEGRIA': True, 'MEDO': False}],\n ['cativar pelar olhar', {'ALEGRIA': True, 'MEDO': False}],\n ['loucamente apaixonar', {'ALEGRIA': True, 'MEDO': False}],\n ['dúvida', {'ALEGRIA': True, 'MEDO': False}],\n ['rodear pelar abraçar', {'ALEGRIA': True, 'MEDO': False}],\n ['estrelo pelar caminhar', {'ALEGRIA': True, 'MEDO': False}],\n ['sentir o sol', {'ALEGRIA': True, 'MEDO': False}],\n ['sorrir orelhar o orelhar', {'ALEGRIA': True, 'MEDO': False}],\n ['valer o peno', {'ALEGRIA': True, 'MEDO': False}],\n ['finalmente colocar amor', {'ALEGRIA': True, 'MEDO': False}],\n ['nó dançar noite adentrar', {'ALEGRIA': True, 'MEDO': False}],\n ['amor brilhante', {'ALEGRIA': True, 'MEDO': False}],\n ['tocar coração durante o caminhar', {'ALEGRIA': True, 'MEDO': False}],\n ['suar amigo e companheiro', {'ALEGRIA': True, 'MEDO': False}],\n ['trazer voltar o vidar', {'ALEGRIA': True, 'MEDO': False}],\n ['e comer sonhar doce', {'ALEGRIA': True, 'MEDO': False}],\n ['adorar doce frutar', {'ALEGRIA': True, 'MEDO': False}],\n ['suco favorito', {'ALEGRIA': True, 'MEDO': False}],\n ['agradecido pelar ajudar', {'ALEGRIA': True, 'MEDO': False}],\n ['enorme prazer equipar', {'ALEGRIA': True, 'MEDO': False}],\n ['trabalhar equipar o melhor', {'ALEGRIA': True, 'MEDO': False}],\n ['sentir flutuar o ar', {'ALEGRIA': True, 'MEDO': False}],\n ['o brisa agradável hoje', {'ALEGRIA': True, 'MEDO': False}],\n ['ótimo e compatível', {'ALEGRIA': True, 'MEDO': False}],\n ['compatível o outro', {'ALEGRIA': True, 'MEDO': False}],\n ['o órgão compatível o paciente', {'ALEGRIA': True, 'MEDO': False}],\n ['contentar aceito o faculdade', {'ALEGRIA': True, 'MEDO': False}],\n ['aprovar o exame', {'ALEGRIA': True, 'MEDO': False}],\n ['beneficiar pelar empresar', {'ALEGRIA': True, 'MEDO': False}],\n ['cativante', {'ALEGRIA': True, 'MEDO': False}],\n ['contentar o apoiar', {'ALEGRIA': True, 'MEDO': False}],\n ['comer e confortável', {'ALEGRIA': True, 'MEDO': False}],\n ['e quentar n frio', {'ALEGRIA': True, 'MEDO': False}],\n ['elogiar e', {'ALEGRIA': True, 'MEDO': False}],\n ['chamar parir comemorar', {'ALEGRIA': True, 'MEDO': False}],\n ['desejável o suar presença apresentação', {'ALEGRIA': True, 'MEDO': False}],\n ['grato o', {'ALEGRIA': True, 'MEDO': False}],\n ['dedicar n', {'ALEGRIA': True, 'MEDO': False}],\n ['completamente apaixonar', {'ALEGRIA': True, 'MEDO': False}],\n ['agitar noite', {'ALEGRIA': True, 'MEDO': False}],\n ['significar parir mim', {'ALEGRIA': True, 'MEDO': False}],\n ['agir preconceito e julgamento', {'ALEGRIA': True, 'MEDO': False}],\n ['finalmente completar o coleção maravilhoso',\n  {'ALEGRIA': True, 'MEDO': False}],\n ['suar rei', {'ALEGRIA': True, 'MEDO': False}],\n ['satisfatoriamente anunciar o vencedor jogo',\n  {'ALEGRIA': True, 'MEDO': False}],\n ['atrair facilmente', {'ALEGRIA': True, 'MEDO': False}],\n ['rapaz e extremamente atraente', {'ALEGRIA': True, 'MEDO': False}],\n ['sinto-me vivo', {'ALEGRIA': True, 'MEDO': False}],\n ['sinto-me paz', {'ALEGRIA': True, 'MEDO': False}],\n ['lucrar', {'ALEGRIA': True, 'MEDO': False}],\n ['ordem', {'ALEGRIA': True, 'MEDO': False}],\n ['arrumar empregar junto', {'ALEGRIA': True, 'MEDO': False}],\n ['o arrumação terminar alívio', {'ALEGRIA': True, 'MEDO': False}],\n ['o câncer benigno', {'ALEGRIA': True, 'MEDO': False}],\n ['o amor abundante', {'ALEGRIA': True, 'MEDO': False}],\n ['caridoso natal', {'ALEGRIA': True, 'MEDO': False}],\n ['charme irar atrair o', {'ALEGRIA': True, 'MEDO': False}],\n ['comer charmoso querer', {'ALEGRIA': True, 'MEDO': False}],\n ['querido amigo', {'ALEGRIA': True, 'MEDO': False}],\n ['cuidadoso o sentimento', {'ALEGRIA': True, 'MEDO': False}],\n ['comover tamanho caridade', {'ALEGRIA': True, 'MEDO': False}],\n ['chá quentar e reconfortante', {'ALEGRIA': True, 'MEDO': False}],\n ['alegria', {'ALEGRIA': True, 'MEDO': False}],\n ['aplaudir o vencedor', {'ALEGRIA': True, 'MEDO': False}],\n ['palmar parir o aniversariante', {'ALEGRIA': True, 'MEDO': False}],\n ['desejar o', {'ALEGRIA': True, 'MEDO': False}],\n ['horar apreciar vinho', {'ALEGRIA': True, 'MEDO': False}],\n ['apreciar suar presença escola', {'ALEGRIA': True, 'MEDO': False}],\n ['ansiar trabalho', {'ALEGRIA': True, 'MEDO': False}],\n ['maravilhoso jogar amistoso', {'ALEGRIA': True, 'MEDO': False}],\n ['e ótimo o menimos apaziguar', {'ALEGRIA': True, 'MEDO': False}],\n ['concretizar finalmente sonhar', {'ALEGRIA': True, 'MEDO': False}],\n ['implorar matar', {'ALEGRIA': False, 'MEDO': True}],\n ['perigoso', {'ALEGRIA': False, 'MEDO': True}],\n ['segurar', {'ALEGRIA': False, 'MEDO': True}],\n ['correr pra', {'ALEGRIA': False, 'MEDO': True}],\n ['socorrer querer roubar o doce', {'ALEGRIA': False, 'MEDO': True}],\n ['caro perseguir', {'ALEGRIA': False, 'MEDO': True}],\n ['entrar perigoso', {'ALEGRIA': False, 'MEDO': True}],\n ['continuar assustador', {'ALEGRIA': False, 'MEDO': True}],\n ['o selva animar perigoso', {'ALEGRIA': False, 'MEDO': True}],\n ['avançar cautela', {'ALEGRIA': False, 'MEDO': True}],\n ['silencioso cuidar', {'ALEGRIA': False, 'MEDO': True}],\n ['deixe-me viver', {'ALEGRIA': False, 'MEDO': True}],\n ['ficar mesada tirar noto', {'ALEGRIA': False, 'MEDO': True}],\n ['parecer olho o vigiar', {'ALEGRIA': False, 'MEDO': True}],\n ['o sentença juiz negativo', {'ALEGRIA': False, 'MEDO': True}],\n ['missão arriscar', {'ALEGRIA': False, 'MEDO': True}],\n ['salvem-se', {'ALEGRIA': False, 'MEDO': True}],\n ['planar descobrir', {'ALEGRIA': False, 'MEDO': True}],\n ['culpar jurar', {'ALEGRIA': False, 'MEDO': True}],\n ['tomar cuidar o lobisomem', {'ALEGRIA': False, 'MEDO': True}],\n ['achar descobrir o verdade', {'ALEGRIA': False, 'MEDO': True}],\n ['deus desaparecer', {'ALEGRIA': False, 'MEDO': True}],\n ['tomar d', {'ALEGRIA': False, 'MEDO': True}],\n ['manter segredar descobrir ferrar', {'ALEGRIA': False, 'MEDO': True}],\n ['soltar inocentar', {'ALEGRIA': False, 'MEDO': True}],\n ['ouvir passo mim', {'ALEGRIA': False, 'MEDO': True}],\n ['pedir socorrer', {'ALEGRIA': False, 'MEDO': True}],\n ['cuidar o curvo o estrar', {'ALEGRIA': False, 'MEDO': True}],\n ['parecer perigoso', {'ALEGRIA': False, 'MEDO': True}],\n ['tremer medo', {'ALEGRIA': False, 'MEDO': True}],\n ['socorrer cair', {'ALEGRIA': False, 'MEDO': True}],\n ['o florestar negro perigoso', {'ALEGRIA': False, 'MEDO': True}],\n ['ouvir passo o direção', {'ALEGRIA': False, 'MEDO': True}],\n ['achar arriscar', {'ALEGRIA': False, 'MEDO': True}],\n ['voltar perigoso', {'ALEGRIA': False, 'MEDO': True}],\n ['fugir acabar morto', {'ALEGRIA': False, 'MEDO': True}],\n ['recear livrar d situação', {'ALEGRIA': False, 'MEDO': True}],\n ['socorrer armar', {'ALEGRIA': False, 'MEDO': True}],\n ['eis cuidar bater o postar', {'ALEGRIA': False, 'MEDO': True}],\n ['socorrer nó afundar', {'ALEGRIA': False, 'MEDO': True}],\n ['e sério cuidar armar', {'ALEGRIA': False, 'MEDO': True}],\n ['o tubarão atacar', {'ALEGRIA': False, 'MEDO': True}],\n ['sentir arrepio ficar o escuro', {'ALEGRIA': False, 'MEDO': True}],\n ['calmo o dinheiro', {'ALEGRIA': False, 'MEDO': True}],\n ['achar enganar', {'ALEGRIA': False, 'MEDO': True}],\n ['ligeiro fugir depressa', {'ALEGRIA': False, 'MEDO': True}],\n ['crocodilo selvagem vir parir', {'ALEGRIA': False, 'MEDO': True}],\n ['ficar o achar', {'ALEGRIA': False, 'MEDO': True}],\n ['fugir o tigre parecer faminto', {'ALEGRIA': False, 'MEDO': True}],\n ['sair precisar milagre', {'ALEGRIA': False, 'MEDO': True}],\n ['tirar mim socorrer', {'ALEGRIA': False, 'MEDO': True}],\n ['nadar afogar', {'ALEGRIA': False, 'MEDO': True}],\n ['e segurar', {'ALEGRIA': False, 'MEDO': True}],\n ['apanhar pai boletim', {'ALEGRIA': False, 'MEDO': True}],\n ['conseguir sair d', {'ALEGRIA': False, 'MEDO': True}],\n ['sair tardar assaltar', {'ALEGRIA': False, 'MEDO': True}],\n ['deixar', {'ALEGRIA': False, 'MEDO': True}],\n ['esperar largar', {'ALEGRIA': False, 'MEDO': True}],\n ['pelar suar segurança', {'ALEGRIA': False, 'MEDO': True}],\n ['entregar o dinheiro matar', {'ALEGRIA': False, 'MEDO': True}],\n ['levar o dinheiro', {'ALEGRIA': False, 'MEDO': True}],\n ['dirigir rápido', {'ALEGRIA': False, 'MEDO': True}],\n ['descobrir prender', {'ALEGRIA': False, 'MEDO': True}],\n ['esperar nenhum', {'ALEGRIA': False, 'MEDO': True}],\n ['afogar ajudar o sair água', {'ALEGRIA': False, 'MEDO': True}],\n ['o salvar', {'ALEGRIA': False, 'MEDO': True}],\n ['querer pensar o acontecer', {'ALEGRIA': False, 'MEDO': True}],\n ['n cidade umar desgraçar outro', {'ALEGRIA': False, 'MEDO': True}],\n ['alguém ligar assustar', {'ALEGRIA': False, 'MEDO': True}],\n ['remedio matar', {'ALEGRIA': False, 'MEDO': True}],\n ['confiar n cautela', {'ALEGRIA': False, 'MEDO': True}],\n ['cautela', {'ALEGRIA': False, 'MEDO': True}],\n ['descobrir deus', {'ALEGRIA': False, 'MEDO': True}],\n ['recear', {'ALEGRIA': False, 'MEDO': True}],\n ['o noite e perigoso', {'ALEGRIA': False, 'MEDO': True}],\n ['estremecer casar', {'ALEGRIA': False, 'MEDO': True}],\n ['olhar criatura mover monstruosamente', {'ALEGRIA': False, 'MEDO': True}],\n ['aguentar suspense', {'ALEGRIA': False, 'MEDO': True}],\n ['afugentar o cão', {'ALEGRIA': False, 'MEDO': True}],\n ['chocar e amedrontar assassinato brutal', {'ALEGRIA': False, 'MEDO': True}],\n ['precisar afugentar ímpeto medo infernar', {'ALEGRIA': False, 'MEDO': True}],\n ['político suar forçar parir afugentar e amedrontar o',\n  {'ALEGRIA': False, 'MEDO': True}],\n ['o objetivo d e amedrontar', {'ALEGRIA': False, 'MEDO': True}],\n ['apavorar', {'ALEGRIA': False, 'MEDO': True}]]"
     },
     "execution_count": 19,
     "metadata": {},
     "output_type": "execute_result"
    }
   ]
  },
  {
   "cell_type": "markdown",
   "metadata": {
    "id": "5mc19ZByUNsu",
    "pycharm": {
     "name": "#%% md\n"
    }
   },
   "source": [
    "# Etapa 5: Criação do classificador"
   ]
  },
  {
   "cell_type": "code",
   "metadata": {
    "id": "YnZ1orji7Iv8",
    "pycharm": {
     "name": "#%%\n"
    }
   },
   "source": [
    "modelo = spacy.blank('pt')\n",
    "categorias = modelo.create_pipe(\"textcat\")\n",
    "categorias.add_label(\"ALEGRIA\")\n",
    "categorias.add_label(\"MEDO\")\n",
    "modelo.add_pipe(categorias)\n",
    "historico = []"
   ],
   "execution_count": 20,
   "outputs": []
  },
  {
   "cell_type": "code",
   "metadata": {
    "id": "3jlGvLEz764Y",
    "colab": {
     "base_uri": "https://localhost:8080/"
    },
    "outputId": "4126b994-d15c-4ef7-91cc-944cb70de3b3",
    "executionInfo": {
     "status": "ok",
     "timestamp": 1649786980839,
     "user_tz": 180,
     "elapsed": 1037392,
     "user": {
      "displayName": "Miguel Neves",
      "userId": "15077574897414878761"
     }
    },
    "pycharm": {
     "name": "#%%\n"
    }
   },
   "source": [
    "modelo.begin_training()\n",
    "for epoca in range(100):\n",
    "  random.shuffle(base_dados_final)\n",
    "  losses = {}\n",
    "  for batch in spacy.util.minibatch(base_dados_final, 30):\n",
    "    textos = [modelo(texto) for texto, entities in batch]\n",
    "    annotations = [{'cats': entities} for texto, entities in batch]\n",
    "    modelo.update(textos, annotations, losses=losses)\n",
    "  if epoca % 100 == 0:\n",
    "    print(losses)\n",
    "    historico.append(losses)"
   ],
   "execution_count": 21,
   "outputs": [
    {
     "name": "stdout",
     "output_type": "stream",
     "text": [
      "{'textcat': 0.0061274521285668015}\n"
     ]
    }
   ]
  },
  {
   "cell_type": "code",
   "metadata": {
    "id": "wSe-tDsCAciN",
    "pycharm": {
     "name": "#%%\n"
    }
   },
   "source": [
    "historico_loss = []\n",
    "for i in historico:\n",
    "  historico_loss.append(i.get('textcat'))"
   ],
   "execution_count": 22,
   "outputs": []
  },
  {
   "cell_type": "code",
   "metadata": {
    "id": "ShJhtbYtAr50",
    "colab": {
     "base_uri": "https://localhost:8080/"
    },
    "executionInfo": {
     "status": "ok",
     "timestamp": 1639143115121,
     "user_tz": 180,
     "elapsed": 241,
     "user": {
      "displayName": "Fabio Spak",
      "photoUrl": "https://lh3.googleusercontent.com/a-/AOh14Gh5tkVvfK14igqB5tm5e6mMjKYZxeZEPf0g3sbo5Q=s64",
      "userId": "12631437385440185352"
     }
    },
    "outputId": "d8b99bc1-42bc-4578-a99c-f5c629e35bd8",
    "pycharm": {
     "name": "#%%\n"
    }
   },
   "source": [
    "historico_loss = np.array(historico_loss)\n",
    "historico_loss"
   ],
   "execution_count": 23,
   "outputs": [
    {
     "data": {
      "text/plain": "array([0.00612745])"
     },
     "execution_count": 23,
     "metadata": {},
     "output_type": "execute_result"
    }
   ]
  },
  {
   "cell_type": "code",
   "metadata": {
    "id": "6lEL-QoBA0KI",
    "colab": {
     "base_uri": "https://localhost:8080/",
     "height": 314
    },
    "executionInfo": {
     "status": "ok",
     "timestamp": 1649787061958,
     "user_tz": 180,
     "elapsed": 566,
     "user": {
      "displayName": "Miguel Neves",
      "userId": "15077574897414878761"
     }
    },
    "outputId": "4d112ea5-527e-4614-cc90-7b1a3f49b2d8",
    "pycharm": {
     "name": "#%%\n"
    }
   },
   "source": [
    "import matplotlib.pyplot as plt\n",
    "plt.plot(historico_loss)\n",
    "plt.title('Progressão do erro')\n",
    "plt.xlabel('Épocas')\n",
    "plt.ylabel('Erro')"
   ],
   "execution_count": 24,
   "outputs": [
    {
     "data": {
      "text/plain": "Text(0, 0.5, 'Erro')"
     },
     "execution_count": 24,
     "metadata": {},
     "output_type": "execute_result"
    },
    {
     "data": {
      "text/plain": "<Figure size 432x288 with 1 Axes>",
      "image/png": "[encoded data removed]"
     },
     "metadata": {},
     "output_type": "display_data"
    }
   ]
  },
  {
   "cell_type": "code",
   "metadata": {
    "id": "amNE8xy_BPSF",
    "pycharm": {
     "name": "#%%\n"
    }
   },
   "source": [
    "modelo.to_disk(\"modelo\")"
   ],
   "execution_count": 25,
   "outputs": []
  },
  {
   "cell_type": "markdown",
   "metadata": {
    "id": "ePMk8G0Dl6wg",
    "pycharm": {
     "name": "#%% md\n"
    }
   },
   "source": [
    "# Etapa 6: Testes com uma frase"
   ]
  },
  {
   "cell_type": "code",
   "metadata": {
    "id": "u9e-TlWNCFj8",
    "colab": {
     "base_uri": "https://localhost:8080/"
    },
    "executionInfo": {
     "status": "ok",
     "timestamp": 1649787274399,
     "user_tz": 180,
     "elapsed": 571,
     "user": {
      "displayName": "Miguel Neves",
      "userId": "15077574897414878761"
     }
    },
    "outputId": "1212c278-cfbc-4c69-e37c-924108bc395d",
    "pycharm": {
     "name": "#%%\n"
    }
   },
   "source": [
    "modelo_carregado = spacy.load(\"modelo\")\n",
    "modelo_carregado"
   ],
   "execution_count": 26,
   "outputs": [
    {
     "data": {
      "text/plain": "<spacy.lang.pt.Portuguese at 0x7f55173230a0>"
     },
     "execution_count": 26,
     "metadata": {},
     "output_type": "execute_result"
    }
   ]
  },
  {
   "cell_type": "code",
   "metadata": {
    "id": "vccrJddkCThv",
    "pycharm": {
     "name": "#%%\n"
    }
   },
   "source": [
    "texto_positivo = 'eu adoro cor dos seus olhos'"
   ],
   "execution_count": 27,
   "outputs": []
  },
  {
   "cell_type": "code",
   "metadata": {
    "id": "AHUy4H_ECZyN",
    "colab": {
     "base_uri": "https://localhost:8080/",
     "height": 35
    },
    "executionInfo": {
     "status": "ok",
     "timestamp": 1649787314602,
     "user_tz": 180,
     "elapsed": 364,
     "user": {
      "displayName": "Miguel Neves",
      "userId": "15077574897414878761"
     }
    },
    "outputId": "a3adf30b-65b6-4b1f-ddf1-eab0bbdf4c1d",
    "pycharm": {
     "name": "#%%\n"
    }
   },
   "source": [
    "texto_positivo = preprocessamento(texto_positivo)\n",
    "texto_positivo"
   ],
   "execution_count": 28,
   "outputs": [
    {
     "data": {
      "text/plain": "'adorar cor olho'"
     },
     "execution_count": 28,
     "metadata": {},
     "output_type": "execute_result"
    }
   ]
  },
  {
   "cell_type": "code",
   "metadata": {
    "id": "B4iJh7D5Cjha",
    "colab": {
     "base_uri": "https://localhost:8080/"
    },
    "executionInfo": {
     "status": "ok",
     "timestamp": 1649787349008,
     "user_tz": 180,
     "elapsed": 317,
     "user": {
      "displayName": "Miguel Neves",
      "userId": "15077574897414878761"
     }
    },
    "outputId": "18e5cab2-bb6c-438d-a800-811688d777f0",
    "pycharm": {
     "name": "#%%\n"
    }
   },
   "source": [
    "previsao = modelo_carregado(texto_positivo)\n",
    "previsao"
   ],
   "execution_count": 29,
   "outputs": [
    {
     "data": {
      "text/plain": "adorar cor olho"
     },
     "execution_count": 29,
     "metadata": {},
     "output_type": "execute_result"
    }
   ]
  },
  {
   "cell_type": "code",
   "metadata": {
    "id": "wEvTU1fGCoX0",
    "colab": {
     "base_uri": "https://localhost:8080/"
    },
    "executionInfo": {
     "status": "ok",
     "timestamp": 1649787384414,
     "user_tz": 180,
     "elapsed": 335,
     "user": {
      "displayName": "Miguel Neves",
      "userId": "15077574897414878761"
     }
    },
    "outputId": "56908c84-edf4-40e3-d920-2f6e2ae83a46",
    "pycharm": {
     "name": "#%%\n"
    }
   },
   "source": [
    "previsao.cats"
   ],
   "execution_count": 30,
   "outputs": [
    {
     "data": {
      "text/plain": "{'ALEGRIA': 0.9853804707527161, 'MEDO': 0.0007854810100980103}"
     },
     "execution_count": 30,
     "metadata": {},
     "output_type": "execute_result"
    }
   ]
  },
  {
   "cell_type": "code",
   "metadata": {
    "id": "jr2eRXXJCxWe",
    "colab": {
     "base_uri": "https://localhost:8080/"
    },
    "executionInfo": {
     "status": "ok",
     "timestamp": 1649787400294,
     "user_tz": 180,
     "elapsed": 446,
     "user": {
      "displayName": "Miguel Neves",
      "userId": "15077574897414878761"
     }
    },
    "outputId": "495ab78e-bef5-424c-a7bc-d5ac3c463a9d",
    "pycharm": {
     "name": "#%%\n"
    }
   },
   "source": [
    "texto_negativo = 'estou com medo dele'\n",
    "previsao = modelo_carregado(preprocessamento(texto_negativo))\n",
    "previsao.cats"
   ],
   "execution_count": 31,
   "outputs": [
    {
     "data": {
      "text/plain": "{'ALEGRIA': 0.005403746850788593, 'MEDO': 0.9999024868011475}"
     },
     "execution_count": 31,
     "metadata": {},
     "output_type": "execute_result"
    }
   ]
  },
  {
   "cell_type": "markdown",
   "metadata": {
    "id": "KhF2vtEsnlpM",
    "pycharm": {
     "name": "#%% md\n"
    }
   },
   "source": [
    "# Etapa 7: Avaliação do modelo"
   ]
  },
  {
   "cell_type": "markdown",
   "metadata": {
    "id": "sJzwpVWNACFi",
    "pycharm": {
     "name": "#%% md\n"
    }
   },
   "source": [
    "## Avaliação na base de treinamento\n"
   ]
  },
  {
   "cell_type": "code",
   "metadata": {
    "id": "6NoTHRADDZ0Z",
    "pycharm": {
     "name": "#%%\n"
    }
   },
   "source": [
    "previsoes = []\n",
    "for texto in base_dados['texto']:\n",
    "  #print(texto)\n",
    "  previsao = modelo_carregado(texto)\n",
    "  previsoes.append(previsao.cats)"
   ],
   "execution_count": 32,
   "outputs": []
  },
  {
   "cell_type": "code",
   "metadata": {
    "id": "8lRO94OuDvLZ",
    "colab": {
     "base_uri": "https://localhost:8080/"
    },
    "executionInfo": {
     "status": "ok",
     "timestamp": 1649787565690,
     "user_tz": 180,
     "elapsed": 420,
     "user": {
      "displayName": "Miguel Neves",
      "userId": "15077574897414878761"
     }
    },
    "outputId": "0a0e77a9-a855-4e62-e47d-61be3c119421",
    "pycharm": {
     "name": "#%%\n"
    }
   },
   "source": [
    "previsoes"
   ],
   "execution_count": 33,
   "outputs": [
    {
     "data": {
      "text/plain": "[{'ALEGRIA': 0.9982590079307556, 'MEDO': 4.539786823443137e-05},\n {'ALEGRIA': 0.9971711039543152, 'MEDO': 7.446911331498995e-05},\n {'ALEGRIA': 0.998738706111908, 'MEDO': 4.539786823443137e-05},\n {'ALEGRIA': 0.9969171285629272, 'MEDO': 4.539786823443137e-05},\n {'ALEGRIA': 0.9977778792381287, 'MEDO': 9.881774167297408e-05},\n {'ALEGRIA': 0.9968516230583191, 'MEDO': 4.539786823443137e-05},\n {'ALEGRIA': 0.9976945519447327, 'MEDO': 0.00014744764484930784},\n {'ALEGRIA': 0.9989960789680481, 'MEDO': 6.31002985755913e-05},\n {'ALEGRIA': 0.9931625127792358, 'MEDO': 6.695770571241155e-05},\n {'ALEGRIA': 0.9974384307861328, 'MEDO': 4.539786823443137e-05},\n {'ALEGRIA': 0.99957674741745, 'MEDO': 4.539786823443137e-05},\n {'ALEGRIA': 0.9951812624931335, 'MEDO': 0.00014814511814620346},\n {'ALEGRIA': 0.9971932768821716, 'MEDO': 0.00022997264750301838},\n {'ALEGRIA': 0.9968271851539612, 'MEDO': 0.00010014657891588286},\n {'ALEGRIA': 0.9957414865493774, 'MEDO': 0.00017139823467005044},\n {'ALEGRIA': 0.9967122077941895, 'MEDO': 4.539786823443137e-05},\n {'ALEGRIA': 0.9965215921401978, 'MEDO': 0.00036983564496040344},\n {'ALEGRIA': 0.9970974922180176, 'MEDO': 4.539786823443137e-05},\n {'ALEGRIA': 0.99913090467453, 'MEDO': 4.539786823443137e-05},\n {'ALEGRIA': 0.9976564645767212, 'MEDO': 0.00044598555541597307},\n {'ALEGRIA': 0.999777615070343, 'MEDO': 4.539786823443137e-05},\n {'ALEGRIA': 0.9968095421791077, 'MEDO': 0.00013564294204115868},\n {'ALEGRIA': 0.9984116554260254, 'MEDO': 4.539786823443137e-05},\n {'ALEGRIA': 0.9974402189254761, 'MEDO': 6.795410445192829e-05},\n {'ALEGRIA': 0.9963843822479248, 'MEDO': 0.0005128715420141816},\n {'ALEGRIA': 0.998969554901123, 'MEDO': 0.00016377109568566084},\n {'ALEGRIA': 0.9984903335571289, 'MEDO': 7.028308027656749e-05},\n {'ALEGRIA': 0.9932739734649658, 'MEDO': 0.0006547942757606506},\n {'ALEGRIA': 0.9980314373970032, 'MEDO': 4.539786823443137e-05},\n {'ALEGRIA': 0.9981232285499573, 'MEDO': 4.539786823443137e-05},\n {'ALEGRIA': 0.9958705306053162, 'MEDO': 0.00019588545546866953},\n {'ALEGRIA': 0.9988998174667358, 'MEDO': 4.539786823443137e-05},\n {'ALEGRIA': 0.9942342638969421, 'MEDO': 8.669775706948712e-05},\n {'ALEGRIA': 0.9978845715522766, 'MEDO': 0.00015045760665088892},\n {'ALEGRIA': 0.9973965883255005, 'MEDO': 4.539786823443137e-05},\n {'ALEGRIA': 0.9954918026924133, 'MEDO': 0.00022506972891278565},\n {'ALEGRIA': 0.9916467070579529, 'MEDO': 0.00029826824902556837},\n {'ALEGRIA': 0.9993409514427185, 'MEDO': 4.539786823443137e-05},\n {'ALEGRIA': 0.9986893534660339, 'MEDO': 4.539786823443137e-05},\n {'ALEGRIA': 0.995149552822113, 'MEDO': 0.0003319912648294121},\n {'ALEGRIA': 0.9974409341812134, 'MEDO': 4.539786823443137e-05},\n {'ALEGRIA': 0.9984126091003418, 'MEDO': 4.539786823443137e-05},\n {'ALEGRIA': 0.9984751343727112, 'MEDO': 4.539786823443137e-05},\n {'ALEGRIA': 0.9996119141578674, 'MEDO': 4.539786823443137e-05},\n {'ALEGRIA': 0.998069703578949, 'MEDO': 6.43096718704328e-05},\n {'ALEGRIA': 0.9993127584457397, 'MEDO': 4.539786823443137e-05},\n {'ALEGRIA': 0.9946455955505371, 'MEDO': 0.00017944155842997134},\n {'ALEGRIA': 0.9980971217155457, 'MEDO': 0.00026157585671171546},\n {'ALEGRIA': 0.9978333115577698, 'MEDO': 0.00015701318625360727},\n {'ALEGRIA': 0.9982506632804871, 'MEDO': 4.539786823443137e-05},\n {'ALEGRIA': 0.9970398545265198, 'MEDO': 7.73613719502464e-05},\n {'ALEGRIA': 0.9996535778045654, 'MEDO': 4.539786823443137e-05},\n {'ALEGRIA': 0.9985779523849487, 'MEDO': 8.089216862572357e-05},\n {'ALEGRIA': 0.9976637363433838, 'MEDO': 4.539786823443137e-05},\n {'ALEGRIA': 0.9943236112594604, 'MEDO': 0.00028300052508711815},\n {'ALEGRIA': 0.997943103313446, 'MEDO': 4.539786823443137e-05},\n {'ALEGRIA': 0.9968351721763611, 'MEDO': 0.00016387076175305992},\n {'ALEGRIA': 0.9997171759605408, 'MEDO': 4.539786823443137e-05},\n {'ALEGRIA': 0.9980610013008118, 'MEDO': 4.539786823443137e-05},\n {'ALEGRIA': 0.998301088809967, 'MEDO': 4.700668796431273e-05},\n {'ALEGRIA': 0.9966387748718262, 'MEDO': 0.0005999022396281362},\n {'ALEGRIA': 0.9979720711708069, 'MEDO': 4.539786823443137e-05},\n {'ALEGRIA': 0.9990648627281189, 'MEDO': 4.539786823443137e-05},\n {'ALEGRIA': 0.998229444026947, 'MEDO': 6.197232141857967e-05},\n {'ALEGRIA': 0.9990931749343872, 'MEDO': 6.204262899700552e-05},\n {'ALEGRIA': 0.9993659853935242, 'MEDO': 4.539786823443137e-05},\n {'ALEGRIA': 0.9977720379829407, 'MEDO': 7.809806993464008e-05},\n {'ALEGRIA': 0.9965887069702148, 'MEDO': 5.6174412748077884e-05},\n {'ALEGRIA': 0.9901686906814575, 'MEDO': 0.0007694579544477165},\n {'ALEGRIA': 0.9992387294769287, 'MEDO': 4.539786823443137e-05},\n {'ALEGRIA': 0.9968100190162659, 'MEDO': 9.916918497765437e-05},\n {'ALEGRIA': 0.9987549781799316, 'MEDO': 6.926303467480466e-05},\n {'ALEGRIA': 0.9991157650947571, 'MEDO': 4.539786823443137e-05},\n {'ALEGRIA': 0.9970904588699341, 'MEDO': 7.898469630163163e-05},\n {'ALEGRIA': 0.9970725774765015, 'MEDO': 0.0005057404050603509},\n {'ALEGRIA': 0.9981991648674011, 'MEDO': 0.00017701194155961275},\n {'ALEGRIA': 0.9965343475341797, 'MEDO': 0.00022802069725003093},\n {'ALEGRIA': 0.9991033673286438, 'MEDO': 4.539786823443137e-05},\n {'ALEGRIA': 0.9996640682220459, 'MEDO': 4.539786823443137e-05},\n {'ALEGRIA': 0.9950388073921204, 'MEDO': 0.0002283563808305189},\n {'ALEGRIA': 0.9979827404022217, 'MEDO': 4.539786823443137e-05},\n {'ALEGRIA': 0.9976892471313477, 'MEDO': 0.00015153414278756827},\n {'ALEGRIA': 0.9982990622520447, 'MEDO': 0.0001250564819201827},\n {'ALEGRIA': 0.9957439303398132, 'MEDO': 0.0001233602233696729},\n {'ALEGRIA': 0.9988479614257812, 'MEDO': 0.0002647977089509368},\n {'ALEGRIA': 0.9985889792442322, 'MEDO': 4.539786823443137e-05},\n {'ALEGRIA': 0.9990915060043335, 'MEDO': 4.539786823443137e-05},\n {'ALEGRIA': 0.9975087642669678, 'MEDO': 5.862289617653005e-05},\n {'ALEGRIA': 0.9974324107170105, 'MEDO': 4.539786823443137e-05},\n {'ALEGRIA': 0.9955649971961975, 'MEDO': 0.00011620987061178312},\n {'ALEGRIA': 0.9973141551017761, 'MEDO': 0.0001565279671922326},\n {'ALEGRIA': 0.9986796975135803, 'MEDO': 4.539786823443137e-05},\n {'ALEGRIA': 0.9981297850608826, 'MEDO': 0.0001204279251396656},\n {'ALEGRIA': 0.9987438321113586, 'MEDO': 4.539786823443137e-05},\n {'ALEGRIA': 0.9993106126785278, 'MEDO': 4.539786823443137e-05},\n {'ALEGRIA': 0.9962974190711975, 'MEDO': 4.539786823443137e-05},\n {'ALEGRIA': 0.9964045286178589, 'MEDO': 4.913153316010721e-05},\n {'ALEGRIA': 0.9993521571159363, 'MEDO': 7.375636778306216e-05},\n {'ALEGRIA': 0.997399091720581, 'MEDO': 0.0002992803056258708},\n {'ALEGRIA': 0.9965996146202087, 'MEDO': 8.003418042790145e-05},\n {'ALEGRIA': 0.9973356127738953, 'MEDO': 0.0004910272546112537},\n {'ALEGRIA': 0.9985027313232422, 'MEDO': 0.00012767344014719129},\n {'ALEGRIA': 0.998601496219635, 'MEDO': 4.539786823443137e-05},\n {'ALEGRIA': 0.9984893798828125, 'MEDO': 0.00026259958394803107},\n {'ALEGRIA': 0.9978765249252319, 'MEDO': 0.00014649999502580613},\n {'ALEGRIA': 0.9974551796913147, 'MEDO': 6.663609383394942e-05},\n {'ALEGRIA': 0.9970821738243103, 'MEDO': 6.0292713897069916e-05},\n {'ALEGRIA': 0.9963271021842957, 'MEDO': 0.0003051362291444093},\n {'ALEGRIA': 0.9987452030181885, 'MEDO': 0.0002033794589806348},\n {'ALEGRIA': 0.9971801042556763, 'MEDO': 8.072809578152373e-05},\n {'ALEGRIA': 0.9969596862792969, 'MEDO': 0.0003143681096844375},\n {'ALEGRIA': 0.9981605410575867, 'MEDO': 4.539786823443137e-05},\n {'ALEGRIA': 0.0026049551088362932, 'MEDO': 0.9991717338562012},\n {'ALEGRIA': 0.003026100806891918, 'MEDO': 0.9998743534088135},\n {'ALEGRIA': 0.002345247892662883, 'MEDO': 0.999894380569458},\n {'ALEGRIA': 0.0005007380386814475, 'MEDO': 0.9999545812606812},\n {'ALEGRIA': 0.0029623680748045444, 'MEDO': 0.9993756413459778},\n {'ALEGRIA': 0.000654295552521944, 'MEDO': 0.9998471736907959},\n {'ALEGRIA': 0.00044450556742958724, 'MEDO': 0.9999545812606812},\n {'ALEGRIA': 0.00499989977106452, 'MEDO': 0.999355137348175},\n {'ALEGRIA': 0.0006401732680387795, 'MEDO': 0.9999195337295532},\n {'ALEGRIA': 0.00027825264260172844, 'MEDO': 0.9999545812606812},\n {'ALEGRIA': 0.0008499264367856085, 'MEDO': 0.9999520778656006},\n {'ALEGRIA': 0.0022316344548016787, 'MEDO': 0.999916672706604},\n {'ALEGRIA': 0.0035149655304849148, 'MEDO': 0.9998016953468323},\n {'ALEGRIA': 0.0044933282770216465, 'MEDO': 0.9999443292617798},\n {'ALEGRIA': 0.0028543518856167793, 'MEDO': 0.999697208404541},\n {'ALEGRIA': 0.002769188489764929, 'MEDO': 0.9999270439147949},\n {'ALEGRIA': 0.0009510801173746586, 'MEDO': 0.9999469518661499},\n {'ALEGRIA': 0.0004366460198070854, 'MEDO': 0.9999545812606812},\n {'ALEGRIA': 0.0029218196868896484, 'MEDO': 0.9997264742851257},\n {'ALEGRIA': 0.005098045337945223, 'MEDO': 0.999748170375824},\n {'ALEGRIA': 0.004758845549076796, 'MEDO': 0.9997871518135071},\n {'ALEGRIA': 0.0010280831484124064, 'MEDO': 0.9999545812606812},\n {'ALEGRIA': 0.003826986299827695, 'MEDO': 0.9999545812606812},\n {'ALEGRIA': 0.001339667127467692, 'MEDO': 0.9999151229858398},\n {'ALEGRIA': 0.0013504280941560864, 'MEDO': 0.9998016953468323},\n {'ALEGRIA': 0.003273962764069438, 'MEDO': 0.9994285702705383},\n {'ALEGRIA': 0.00023444007092621177, 'MEDO': 0.9999545812606812},\n {'ALEGRIA': 0.0038253283128142357, 'MEDO': 0.9999306201934814},\n {'ALEGRIA': 0.0011849546572193503, 'MEDO': 0.9999406337738037},\n {'ALEGRIA': 0.0013741401489824057, 'MEDO': 0.9999545812606812},\n {'ALEGRIA': 0.0026076037902384996, 'MEDO': 0.9998539686203003},\n {'ALEGRIA': 0.00036346580600365996, 'MEDO': 0.9999545812606812},\n {'ALEGRIA': 0.005526148248463869, 'MEDO': 0.999876856803894},\n {'ALEGRIA': 0.0021017391700297594, 'MEDO': 0.9999545812606812},\n {'ALEGRIA': 0.0014051480684429407, 'MEDO': 0.9998905658721924},\n {'ALEGRIA': 0.004177686758339405, 'MEDO': 0.9994184970855713},\n {'ALEGRIA': 0.001416291343048215, 'MEDO': 0.9983955025672913},\n {'ALEGRIA': 0.0016365444753319025, 'MEDO': 0.9997127652168274},\n {'ALEGRIA': 0.0017707395600154996, 'MEDO': 0.9999402761459351},\n {'ALEGRIA': 0.0025184780824929476, 'MEDO': 0.999945878982544},\n {'ALEGRIA': 0.004758719354867935, 'MEDO': 0.9986993074417114},\n {'ALEGRIA': 0.004791149869561195, 'MEDO': 0.9997186064720154},\n {'ALEGRIA': 0.005138309206813574, 'MEDO': 0.9993593096733093},\n {'ALEGRIA': 0.001799466903321445, 'MEDO': 0.9999314546585083},\n {'ALEGRIA': 0.003687523305416107, 'MEDO': 0.9998075366020203},\n {'ALEGRIA': 0.0031928413081914186, 'MEDO': 0.9999117851257324},\n {'ALEGRIA': 0.0024235339369624853, 'MEDO': 0.9996912479400635},\n {'ALEGRIA': 0.0020556931849569082, 'MEDO': 0.9999312162399292},\n {'ALEGRIA': 0.0008808713755570352, 'MEDO': 0.9998830556869507},\n {'ALEGRIA': 0.0027447505854070187, 'MEDO': 0.9996127486228943},\n {'ALEGRIA': 0.0005178997525945306, 'MEDO': 0.9999545812606812},\n {'ALEGRIA': 0.004128412343561649, 'MEDO': 0.9991151690483093},\n {'ALEGRIA': 0.0004586616705637425, 'MEDO': 0.9999545812606812},\n {'ALEGRIA': 0.0031447354704141617, 'MEDO': 0.9999269247055054},\n {'ALEGRIA': 0.0025725557934492826, 'MEDO': 0.9999545812606812},\n {'ALEGRIA': 0.005654364358633757, 'MEDO': 0.9997699856758118},\n {'ALEGRIA': 0.003965184558182955, 'MEDO': 0.9999161958694458},\n {'ALEGRIA': 0.002161524724215269, 'MEDO': 0.9991251826286316},\n {'ALEGRIA': 0.00914138462394476, 'MEDO': 0.9993057250976562},\n {'ALEGRIA': 0.0008679669117555022, 'MEDO': 0.9999545812606812},\n {'ALEGRIA': 0.00429185014218092, 'MEDO': 0.9998612403869629},\n {'ALEGRIA': 0.0025748400948941708, 'MEDO': 0.99960857629776},\n {'ALEGRIA': 0.0010092739248648286, 'MEDO': 0.9999545812606812},\n {'ALEGRIA': 0.0009327488369308412, 'MEDO': 0.9999545812606812},\n {'ALEGRIA': 0.006411817856132984, 'MEDO': 0.9982837438583374},\n {'ALEGRIA': 0.003826235653832555, 'MEDO': 0.9998214840888977},\n {'ALEGRIA': 0.0016630341997370124, 'MEDO': 0.999653697013855},\n {'ALEGRIA': 0.007906308397650719, 'MEDO': 0.9985978007316589},\n {'ALEGRIA': 0.0033462971914559603, 'MEDO': 0.9999047517776489},\n {'ALEGRIA': 0.0026557673700153828, 'MEDO': 0.9992191791534424},\n {'ALEGRIA': 0.0012042279122397304, 'MEDO': 0.9999209642410278},\n {'ALEGRIA': 0.0021278061904013157, 'MEDO': 0.9999089241027832},\n {'ALEGRIA': 0.008138935081660748, 'MEDO': 0.9996360540390015},\n {'ALEGRIA': 0.0032184110023081303, 'MEDO': 0.9999524354934692},\n {'ALEGRIA': 0.0007996815256774426, 'MEDO': 0.9999504089355469},\n {'ALEGRIA': 0.002339679514989257, 'MEDO': 0.9999363422393799},\n {'ALEGRIA': 0.0042612627148628235, 'MEDO': 0.9990918636322021},\n {'ALEGRIA': 0.0018872154178097844, 'MEDO': 0.9999467134475708},\n {'ALEGRIA': 0.004503069445490837, 'MEDO': 0.9995124340057373},\n {'ALEGRIA': 0.00243216659873724, 'MEDO': 0.9996144771575928},\n {'ALEGRIA': 0.002017921768128872, 'MEDO': 0.9999545812606812},\n {'ALEGRIA': 0.003556386334821582, 'MEDO': 0.9998181462287903},\n {'ALEGRIA': 0.0017065826104953885, 'MEDO': 0.9998599290847778},\n {'ALEGRIA': 0.0040889764204621315, 'MEDO': 0.9992720484733582}]"
     },
     "execution_count": 33,
     "metadata": {},
     "output_type": "execute_result"
    }
   ]
  },
  {
   "cell_type": "code",
   "metadata": {
    "id": "YXTXMXAgEDMR",
    "pycharm": {
     "name": "#%%\n"
    }
   },
   "source": [
    "previsoes_final = []\n",
    "for previsao in previsoes:\n",
    "  if previsao['ALEGRIA'] > previsao['MEDO']:\n",
    "    previsoes_final.append('alegria')\n",
    "  else:\n",
    "    previsoes_final.append('medo')\n",
    "\n",
    "previsoes_final = np.array(previsoes_final)"
   ],
   "execution_count": 34,
   "outputs": []
  },
  {
   "cell_type": "code",
   "metadata": {
    "id": "ilep1MZKEVyg",
    "colab": {
     "base_uri": "https://localhost:8080/"
    },
    "executionInfo": {
     "status": "ok",
     "timestamp": 1649787624752,
     "user_tz": 180,
     "elapsed": 367,
     "user": {
      "displayName": "Miguel Neves",
      "userId": "15077574897414878761"
     }
    },
    "outputId": "1244c883-73c5-4cda-992b-e26addf4f0de",
    "pycharm": {
     "name": "#%%\n"
    }
   },
   "source": [
    "previsoes_final"
   ],
   "execution_count": 35,
   "outputs": [
    {
     "data": {
      "text/plain": "array(['alegria', 'alegria', 'alegria', 'alegria', 'alegria', 'alegria',\n       'alegria', 'alegria', 'alegria', 'alegria', 'alegria', 'alegria',\n       'alegria', 'alegria', 'alegria', 'alegria', 'alegria', 'alegria',\n       'alegria', 'alegria', 'alegria', 'alegria', 'alegria', 'alegria',\n       'alegria', 'alegria', 'alegria', 'alegria', 'alegria', 'alegria',\n       'alegria', 'alegria', 'alegria', 'alegria', 'alegria', 'alegria',\n       'alegria', 'alegria', 'alegria', 'alegria', 'alegria', 'alegria',\n       'alegria', 'alegria', 'alegria', 'alegria', 'alegria', 'alegria',\n       'alegria', 'alegria', 'alegria', 'alegria', 'alegria', 'alegria',\n       'alegria', 'alegria', 'alegria', 'alegria', 'alegria', 'alegria',\n       'alegria', 'alegria', 'alegria', 'alegria', 'alegria', 'alegria',\n       'alegria', 'alegria', 'alegria', 'alegria', 'alegria', 'alegria',\n       'alegria', 'alegria', 'alegria', 'alegria', 'alegria', 'alegria',\n       'alegria', 'alegria', 'alegria', 'alegria', 'alegria', 'alegria',\n       'alegria', 'alegria', 'alegria', 'alegria', 'alegria', 'alegria',\n       'alegria', 'alegria', 'alegria', 'alegria', 'alegria', 'alegria',\n       'alegria', 'alegria', 'alegria', 'alegria', 'alegria', 'alegria',\n       'alegria', 'alegria', 'alegria', 'alegria', 'alegria', 'alegria',\n       'alegria', 'alegria', 'alegria', 'alegria', 'medo', 'medo', 'medo',\n       'medo', 'medo', 'medo', 'medo', 'medo', 'medo', 'medo', 'medo',\n       'medo', 'medo', 'medo', 'medo', 'medo', 'medo', 'medo', 'medo',\n       'medo', 'medo', 'medo', 'medo', 'medo', 'medo', 'medo', 'medo',\n       'medo', 'medo', 'medo', 'medo', 'medo', 'medo', 'medo', 'medo',\n       'medo', 'medo', 'medo', 'medo', 'medo', 'medo', 'medo', 'medo',\n       'medo', 'medo', 'medo', 'medo', 'medo', 'medo', 'medo', 'medo',\n       'medo', 'medo', 'medo', 'medo', 'medo', 'medo', 'medo', 'medo',\n       'medo', 'medo', 'medo', 'medo', 'medo', 'medo', 'medo', 'medo',\n       'medo', 'medo', 'medo', 'medo', 'medo', 'medo', 'medo', 'medo',\n       'medo', 'medo', 'medo', 'medo', 'medo', 'medo', 'medo', 'medo',\n       'medo'], dtype='<U7')"
     },
     "execution_count": 35,
     "metadata": {},
     "output_type": "execute_result"
    }
   ]
  },
  {
   "cell_type": "code",
   "metadata": {
    "id": "3bbnP269EaYs",
    "colab": {
     "base_uri": "https://localhost:8080/"
    },
    "executionInfo": {
     "status": "ok",
     "timestamp": 1649787726202,
     "user_tz": 180,
     "elapsed": 563,
     "user": {
      "displayName": "Miguel Neves",
      "userId": "15077574897414878761"
     }
    },
    "outputId": "5123e7f9-4d06-425f-c2f9-8083d38c10a1",
    "pycharm": {
     "name": "#%%\n"
    }
   },
   "source": [
    "respostas_reais = base_dados['emocao'].values\n",
    "respostas_reais"
   ],
   "execution_count": 36,
   "outputs": [
    {
     "data": {
      "text/plain": "array(['alegria', 'alegria', 'alegria', 'alegria', 'alegria', 'alegria',\n       'alegria', 'alegria', 'alegria', 'alegria', 'alegria', 'alegria',\n       'alegria', 'alegria', 'alegria', 'alegria', 'alegria', 'alegria',\n       'alegria', 'alegria', 'alegria', 'alegria', 'alegria', 'alegria',\n       'alegria', 'alegria', 'alegria', 'alegria', 'alegria', 'alegria',\n       'alegria', 'alegria', 'alegria', 'alegria', 'alegria', 'alegria',\n       'alegria', 'alegria', 'alegria', 'alegria', 'alegria', 'alegria',\n       'alegria', 'alegria', 'alegria', 'alegria', 'alegria', 'alegria',\n       'alegria', 'alegria', 'alegria', 'alegria', 'alegria', 'alegria',\n       'alegria', 'alegria', 'alegria', 'alegria', 'alegria', 'alegria',\n       'alegria', 'alegria', 'alegria', 'alegria', 'alegria', 'alegria',\n       'alegria', 'alegria', 'alegria', 'alegria', 'alegria', 'alegria',\n       'alegria', 'alegria', 'alegria', 'alegria', 'alegria', 'alegria',\n       'alegria', 'alegria', 'alegria', 'alegria', 'alegria', 'alegria',\n       'alegria', 'alegria', 'alegria', 'alegria', 'alegria', 'alegria',\n       'alegria', 'alegria', 'alegria', 'alegria', 'alegria', 'alegria',\n       'alegria', 'alegria', 'alegria', 'alegria', 'alegria', 'alegria',\n       'alegria', 'alegria', 'alegria', 'alegria', 'alegria', 'alegria',\n       'alegria', 'alegria', 'alegria', 'alegria', 'medo', 'medo', 'medo',\n       'medo', 'medo', 'medo', 'medo', 'medo', 'medo', 'medo', 'medo',\n       'medo', 'medo', 'medo', 'medo', 'medo', 'medo', 'medo', 'medo',\n       'medo', 'medo', 'medo', 'medo', 'medo', 'medo', 'medo', 'medo',\n       'medo', 'medo', 'medo', 'medo', 'medo', 'medo', 'medo', 'medo',\n       'medo', 'medo', 'medo', 'medo', 'medo', 'medo', 'medo', 'medo',\n       'medo', 'medo', 'medo', 'medo', 'medo', 'medo', 'medo', 'medo',\n       'medo', 'medo', 'medo', 'medo', 'medo', 'medo', 'medo', 'medo',\n       'medo', 'medo', 'medo', 'medo', 'medo', 'medo', 'medo', 'medo',\n       'medo', 'medo', 'medo', 'medo', 'medo', 'medo', 'medo', 'medo',\n       'medo', 'medo', 'medo', 'medo', 'medo', 'medo', 'medo', 'medo',\n       'medo'], dtype=object)"
     },
     "execution_count": 36,
     "metadata": {},
     "output_type": "execute_result"
    }
   ]
  },
  {
   "cell_type": "code",
   "metadata": {
    "id": "7dM1nOQtEo6p",
    "colab": {
     "base_uri": "https://localhost:8080/"
    },
    "executionInfo": {
     "status": "ok",
     "timestamp": 1649787767905,
     "user_tz": 180,
     "elapsed": 430,
     "user": {
      "displayName": "Miguel Neves",
      "userId": "15077574897414878761"
     }
    },
    "outputId": "d5b713ef-0d5f-4c65-f4b0-ee1b83a0d438",
    "pycharm": {
     "name": "#%%\n"
    }
   },
   "source": [
    "from sklearn.metrics import confusion_matrix, accuracy_score\n",
    "accuracy_score(respostas_reais, previsoes_final)"
   ],
   "execution_count": 37,
   "outputs": [
    {
     "data": {
      "text/plain": "1.0"
     },
     "execution_count": 37,
     "metadata": {},
     "output_type": "execute_result"
    }
   ]
  },
  {
   "cell_type": "code",
   "metadata": {
    "id": "UuI8nXdAE-Nw",
    "colab": {
     "base_uri": "https://localhost:8080/"
    },
    "executionInfo": {
     "status": "ok",
     "timestamp": 1649787789678,
     "user_tz": 180,
     "elapsed": 549,
     "user": {
      "displayName": "Miguel Neves",
      "userId": "15077574897414878761"
     }
    },
    "outputId": "9e06c4b7-dd41-44d5-95dd-86f1055b4abb",
    "pycharm": {
     "name": "#%%\n"
    }
   },
   "source": [
    "cm = confusion_matrix(respostas_reais, previsoes_final)\n",
    "cm"
   ],
   "execution_count": 38,
   "outputs": [
    {
     "data": {
      "text/plain": "array([[112,   0],\n       [  0,  84]])"
     },
     "execution_count": 38,
     "metadata": {},
     "output_type": "execute_result"
    }
   ]
  },
  {
   "cell_type": "markdown",
   "metadata": {
    "id": "HmLjfVrZAE2T",
    "pycharm": {
     "name": "#%% md\n"
    }
   },
   "source": [
    "## Avaliação na base de teste"
   ]
  },
  {
   "cell_type": "code",
   "metadata": {
    "id": "I3bLzl9gFVLz",
    "pycharm": {
     "name": "#%%\n"
    }
   },
   "source": [
    "base_dados_teste = pd.read_csv('./inputs/base_teste.txt', encoding = 'utf-8')"
   ],
   "execution_count": 39,
   "outputs": []
  },
  {
   "cell_type": "code",
   "metadata": {
    "id": "SXregSmbFfgW",
    "colab": {
     "base_uri": "https://localhost:8080/",
     "height": 206
    },
    "executionInfo": {
     "status": "ok",
     "timestamp": 1649787855782,
     "user_tz": 180,
     "elapsed": 345,
     "user": {
      "displayName": "Miguel Neves",
      "userId": "15077574897414878761"
     }
    },
    "outputId": "311e058b-56be-4592-a85b-4ab28e8a5e64",
    "pycharm": {
     "name": "#%%\n"
    }
   },
   "source": [
    "base_dados_teste.head()"
   ],
   "execution_count": 40,
   "outputs": [
    {
     "data": {
      "text/plain": "                                    texto   emocao\n0           não precisei pagar o ingresso  alegria\n1             se eu ajeitar tudo fica bem  alegria\n2        minha fortuna ultrapassará a sua  alegria\n3                    sou muito afortunado  alegria\n4  é benéfico para todos esta nova medida  alegria",
      "text/html": "<div>\n<style scoped>\n    .dataframe tbody tr th:only-of-type {\n        vertical-align: middle;\n    }\n\n    .dataframe tbody tr th {\n        vertical-align: top;\n    }\n\n    .dataframe thead th {\n        text-align: right;\n    }\n</style>\n<table border=\"1\" class=\"dataframe\">\n  <thead>\n    <tr style=\"text-align: right;\">\n      <th></th>\n      <th>texto</th>\n      <th>emocao</th>\n    </tr>\n  </thead>\n  <tbody>\n    <tr>\n      <th>0</th>\n      <td>não precisei pagar o ingresso</td>\n      <td>alegria</td>\n    </tr>\n    <tr>\n      <th>1</th>\n      <td>se eu ajeitar tudo fica bem</td>\n      <td>alegria</td>\n    </tr>\n    <tr>\n      <th>2</th>\n      <td>minha fortuna ultrapassará a sua</td>\n      <td>alegria</td>\n    </tr>\n    <tr>\n      <th>3</th>\n      <td>sou muito afortunado</td>\n      <td>alegria</td>\n    </tr>\n    <tr>\n      <th>4</th>\n      <td>é benéfico para todos esta nova medida</td>\n      <td>alegria</td>\n    </tr>\n  </tbody>\n</table>\n</div>"
     },
     "execution_count": 40,
     "metadata": {},
     "output_type": "execute_result"
    }
   ]
  },
  {
   "cell_type": "code",
   "metadata": {
    "id": "qTvsYEmBFj6P",
    "pycharm": {
     "name": "#%%\n"
    }
   },
   "source": [
    "base_dados_teste['texto'] = base_dados_teste['texto'].apply(preprocessamento)"
   ],
   "execution_count": 41,
   "outputs": []
  },
  {
   "cell_type": "code",
   "metadata": {
    "id": "QSP38LnPFrTl",
    "colab": {
     "base_uri": "https://localhost:8080/",
     "height": 206
    },
    "executionInfo": {
     "status": "ok",
     "timestamp": 1649787911203,
     "user_tz": 180,
     "elapsed": 374,
     "user": {
      "displayName": "Miguel Neves",
      "userId": "15077574897414878761"
     }
    },
    "outputId": "40af12a5-3faf-4389-d7bc-9fccbd70cb2b",
    "pycharm": {
     "name": "#%%\n"
    }
   },
   "source": [
    "base_dados_teste.head()"
   ],
   "execution_count": 42,
   "outputs": [
    {
     "data": {
      "text/plain": "                        texto   emocao\n0  precisar pagar o ingressar  alegria\n1               ajeitar ficar  alegria\n2  fortuna ultrapassar o suar  alegria\n3                   afortunar  alegria\n4        benéfico parir medir  alegria",
      "text/html": "<div>\n<style scoped>\n    .dataframe tbody tr th:only-of-type {\n        vertical-align: middle;\n    }\n\n    .dataframe tbody tr th {\n        vertical-align: top;\n    }\n\n    .dataframe thead th {\n        text-align: right;\n    }\n</style>\n<table border=\"1\" class=\"dataframe\">\n  <thead>\n    <tr style=\"text-align: right;\">\n      <th></th>\n      <th>texto</th>\n      <th>emocao</th>\n    </tr>\n  </thead>\n  <tbody>\n    <tr>\n      <th>0</th>\n      <td>precisar pagar o ingressar</td>\n      <td>alegria</td>\n    </tr>\n    <tr>\n      <th>1</th>\n      <td>ajeitar ficar</td>\n      <td>alegria</td>\n    </tr>\n    <tr>\n      <th>2</th>\n      <td>fortuna ultrapassar o suar</td>\n      <td>alegria</td>\n    </tr>\n    <tr>\n      <th>3</th>\n      <td>afortunar</td>\n      <td>alegria</td>\n    </tr>\n    <tr>\n      <th>4</th>\n      <td>benéfico parir medir</td>\n      <td>alegria</td>\n    </tr>\n  </tbody>\n</table>\n</div>"
     },
     "execution_count": 42,
     "metadata": {},
     "output_type": "execute_result"
    }
   ]
  },
  {
   "cell_type": "code",
   "metadata": {
    "id": "AwmnAwRcF1sD",
    "pycharm": {
     "name": "#%%\n"
    }
   },
   "source": [
    "previsoes = []\n",
    "for texto in base_dados_teste['texto']:\n",
    "  #print(texto)\n",
    "  previsao = modelo_carregado(texto)\n",
    "  previsoes.append(previsao.cats)"
   ],
   "execution_count": 43,
   "outputs": []
  },
  {
   "cell_type": "code",
   "metadata": {
    "id": "Y7MpSvS4F8xv",
    "pycharm": {
     "name": "#%%\n"
    }
   },
   "source": [
    "previsoes_final = []\n",
    "for previsao in previsoes:\n",
    "  if previsao['ALEGRIA'] > previsao['MEDO']:\n",
    "    previsoes_final.append('alegria')\n",
    "  else:\n",
    "    previsoes_final.append('medo')\n",
    "\n",
    "previsoes_final = np.array(previsoes_final)"
   ],
   "execution_count": 44,
   "outputs": []
  },
  {
   "cell_type": "code",
   "metadata": {
    "id": "rgoCy1SXGEkw",
    "pycharm": {
     "name": "#%%\n"
    }
   },
   "source": [
    "respostas_reais = base_dados_teste['emocao'].values"
   ],
   "execution_count": 45,
   "outputs": []
  },
  {
   "cell_type": "code",
   "metadata": {
    "id": "HbpqmtMlGJ0T",
    "colab": {
     "base_uri": "https://localhost:8080/"
    },
    "executionInfo": {
     "status": "ok",
     "timestamp": 1649788094391,
     "user_tz": 180,
     "elapsed": 528,
     "user": {
      "displayName": "Miguel Neves",
      "userId": "15077574897414878761"
     }
    },
    "outputId": "c710a283-bd3d-45a1-eb47-bb1923d81b02",
    "pycharm": {
     "name": "#%%\n"
    }
   },
   "source": [
    "accuracy_score(respostas_reais, previsoes_final)"
   ],
   "execution_count": 46,
   "outputs": [
    {
     "data": {
      "text/plain": "0.5952380952380952"
     },
     "execution_count": 46,
     "metadata": {},
     "output_type": "execute_result"
    }
   ]
  },
  {
   "cell_type": "code",
   "metadata": {
    "id": "noYdfAJ0GQAF",
    "colab": {
     "base_uri": "https://localhost:8080/"
    },
    "executionInfo": {
     "status": "ok",
     "timestamp": 1649788112462,
     "user_tz": 180,
     "elapsed": 522,
     "user": {
      "displayName": "Miguel Neves",
      "userId": "15077574897414878761"
     }
    },
    "outputId": "3437e11d-7775-43be-d599-b40f998ebadf",
    "pycharm": {
     "name": "#%%\n"
    }
   },
   "source": [
    "cm = confusion_matrix(respostas_reais, previsoes_final)\n",
    "cm"
   ],
   "execution_count": 47,
   "outputs": [
    {
     "data": {
      "text/plain": "array([[33, 15],\n       [19, 17]])"
     },
     "execution_count": 47,
     "metadata": {},
     "output_type": "execute_result"
    }
   ]
  }
 ]
}