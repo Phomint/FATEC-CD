{
 "cells": [
  {
   "cell_type": "code",
   "execution_count": 32,
   "outputs": [
    {
     "name": "stdout",
     "output_type": "stream",
     "text": [
      "Colt McCoy 74.5\n",
      "\n",
      "Josh Freeman 95.9\n",
      "\n",
      "Michael Vick 100.2\n",
      "\n",
      "Matt Schaub 92.0\n",
      "\n",
      "Philip Rivers 101.8\n",
      "\n",
      "Matt Hasselbeck 73.2\n",
      "\n",
      "Jimmy Clausen 58.4\n",
      "\n",
      "Joe Flacco 93.6\n",
      "\n",
      "Kyle Orton 87.5\n",
      "\n",
      "Jason Campbell 84.5\n",
      "\n",
      "Peyton Manning 91.9\n",
      "\n",
      "Drew Brees 90.9\n",
      "\n",
      "Matt Ryan 91.0\n",
      "\n",
      "Matt Cassel 93.0\n",
      "\n",
      "Mark Sanchez 75.3\n",
      "\n",
      "Brett Favre 69.9\n",
      "\n",
      "David Garrard 90.8\n",
      "\n",
      "Eli Manning 85.3\n",
      "\n",
      "Carson Palmer 82.4\n",
      "\n",
      "Alex Smith 82.1\n",
      "\n",
      "Chad Henne 75.4\n",
      "\n",
      "Tony Romo 94.9\n",
      "\n",
      "Jay Cutler 86.3\n",
      "\n",
      "Jon Kitna 88.9\n",
      "\n",
      "Tom Brady 111.0\n",
      "\n",
      "Ben Roethlisberger 97.0\n",
      "\n",
      "Kerry Collins 82.2\n",
      "\n",
      "Derek Anderson 65.9\n",
      "\n",
      "Ryan Fitzpatrick 81.8\n",
      "\n",
      "Donovan McNabb 77.1\n",
      "\n",
      "Kevin Kolb 76.1\n",
      "\n",
      "Aaron Rodgers 101.2\n",
      "\n",
      "Sam Bradford 76.5\n",
      "\n",
      "Shaun Hill 81.3\n"
     ]
    }
   ],
   "source": [
    "with open('./inputs/qbdata.txt') as f:\n",
    "    for line in f.readlines():\n",
    "        print(' '.join(line.split(' ')[:2]), line.split(' ')[-1])"
   ],
   "metadata": {
    "collapsed": false,
    "pycharm": {
     "name": "#%%\n"
    }
   }
  },
  {
   "cell_type": "code",
   "execution_count": 64,
   "outputs": [],
   "source": [
    "agenda = {'43434332323': {'nome': 'patrick',\n",
    "                      'telefone': ['149816231', '112323232'],\n",
    "                      'user': ['phomint']\n",
    "                     },\n",
    "          '23423404143': {'nome': 'nicole',\n",
    "                      'telefone': ['1184316231', '116666232'],\n",
    "                      'user': ['nickballs']\n",
    "                     }\n",
    "         }"
   ],
   "metadata": {
    "collapsed": false,
    "pycharm": {
     "name": "#%%\n"
    }
   }
  },
  {
   "cell_type": "code",
   "execution_count": 65,
   "outputs": [
    {
     "name": "stdout",
     "output_type": "stream",
     "text": [
      "43434332323: patrick, ['149816231', '112323232'], (['phomint'])\n",
      "23423404143: nicole, ['1184316231', '116666232'], (['nickballs'])\n"
     ]
    }
   ],
   "source": [
    "for k in agenda.keys():\n",
    "    print(f'{k}: {agenda[k][\"nome\"]}, {agenda[k][\"telefone\"]}, ({agenda[k][\"user\"]})')"
   ],
   "metadata": {
    "collapsed": false,
    "pycharm": {
     "name": "#%%\n"
    }
   }
  },
  {
   "cell_type": "code",
   "execution_count": null,
   "outputs": [],
   "source": [],
   "metadata": {
    "collapsed": false,
    "pycharm": {
     "name": "#%%\n"
    }
   }
  }
 ],
 "metadata": {
  "kernelspec": {
   "display_name": "Python 3",
   "language": "python",
   "name": "python3"
  },
  "language_info": {
   "codemirror_mode": {
    "name": "ipython",
    "version": 2
   },
   "file_extension": ".py",
   "mimetype": "text/x-python",
   "name": "python",
   "nbconvert_exporter": "python",
   "pygments_lexer": "ipython2",
   "version": "2.7.6"
  }
 },
 "nbformat": 4,
 "nbformat_minor": 0
}