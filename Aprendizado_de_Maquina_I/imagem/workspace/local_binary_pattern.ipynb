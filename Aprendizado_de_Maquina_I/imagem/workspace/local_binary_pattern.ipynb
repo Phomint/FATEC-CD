{
 "cells": [
  {
   "cell_type": "code",
   "execution_count": 22,
   "metadata": {
    "collapsed": true
   },
   "outputs": [],
   "source": [
    "import pandas as pd\n",
    "from PIL import Image, ImageOps\n",
    "import glob\n",
    "import numpy as np"
   ]
  },
  {
   "cell_type": "code",
   "execution_count": 23,
   "outputs": [],
   "source": [
    "def local_binary_pattern(dataset):\n",
    "    vetlbp = np.zeros([1, 256], dtype=int)\n",
    "    matriz_pesos = np.array([1,2,4, 128, 0, 8, 64, 32, 16]).reshape([3, 3])\n",
    "\n",
    "    for linha in range(1, dataset.shape[0] -1):\n",
    "        for coluna in range(1, dataset.shape[-1] -1):\n",
    "            linicio = linha - 1\n",
    "            lfim = linha + 1\n",
    "            cinicio = coluna - 1\n",
    "            cfim = coluna + 1\n",
    "\n",
    "            vizinhos_3x3 = dataset[linicio:lfim+1, cinicio:cfim+1]\n",
    "            vizinhos_3x3_processada = np.zeros([3, 3])\n",
    "\n",
    "            for i in range(0, 3):\n",
    "                for j in range(0, 3):\n",
    "                    if(vizinhos_3x3[i, j] >= vizinhos_3x3[1, 1]):\n",
    "                        vizinhos_3x3_processada[i, j] = 1\n",
    "\n",
    "            vallbp = round(sum(sum(vizinhos_3x3_processada * matriz_pesos)))\n",
    "            vetlbp[0, vallbp] += 1\n",
    "\n",
    "    return vetlbp"
   ],
   "metadata": {
    "collapsed": false,
    "pycharm": {
     "name": "#%%\n"
    }
   }
  },
  {
   "cell_type": "code",
   "execution_count": 24,
   "outputs": [],
   "source": [
    "df = pd.DataFrame(columns=list(range(1, 256)))\n",
    "\n",
    "for file in glob.glob('../inputs/dataset_faces/*.jpg'):\n",
    "    img = ImageOps.grayscale(Image.open(file))\n",
    "    img_ay = np.array(img)\n",
    "    dft = pd.DataFrame(local_binary_pattern(img_ay), index=[file])\n",
    "    df = pd.concat([df, dft])\n"
   ],
   "metadata": {
    "collapsed": false,
    "pycharm": {
     "name": "#%%\n"
    }
   }
  },
  {
   "cell_type": "code",
   "execution_count": 25,
   "outputs": [
    {
     "data": {
      "text/plain": "                                     index      0   1    2    3   4   5    6  \\\n0    ../inputs/dataset_faces/face_29-2.jpg  239.0  31  105   75  31   4  112   \n1     ../inputs/dataset_faces/face_8-3.jpg  287.0  48  110  121  51   7  101   \n2    ../inputs/dataset_faces/face_21-7.jpg  155.0  27   66   53  28   5   70   \n3    ../inputs/dataset_faces/face_27-6.jpg  384.0  66  113  126  54  16   86   \n4    ../inputs/dataset_faces/face_28-4.jpg  290.0  31  159  110  49   3   93   \n..                                     ...    ...  ..  ...  ...  ..  ..  ...   \n445  ../inputs/dataset_faces/face_19-7.jpg  223.0  41   87   86  27   5   49   \n446  ../inputs/dataset_faces/face_46-6.jpg  205.0  28  120  136  23   1   61   \n447  ../inputs/dataset_faces/face_19-3.jpg  256.0  30  121  104  32   6   82   \n448  ../inputs/dataset_faces/face_36-2.jpg  319.0  46  126  101  35   7  124   \n449  ../inputs/dataset_faces/face_41-2.jpg  264.0  28  163   89  20   5  108   \n\n       7    8  ... 246  247  248  249 250  251  252  253  254   255  \n0    198  107  ...  12  204  487  197   9  103  236  150  105   917  \n1    234  141  ...  18  205  580  233  20  144  233  196  110  1380  \n2    148   60  ...  19  154  627  256  36  262  270  206  285  2932  \n3    173   83  ...  23  220  432  262  25  168  166  220  118  1406  \n4    172  119  ...  17  163  401  219  11  131  187  299  118  1049  \n..   ...  ...  ...  ..  ...  ...  ...  ..  ...  ...  ...  ...   ...  \n445  170   95  ...  24  198  563  214  34  258  236  227  248  2813  \n446  168   72  ...  11  190  444  284  11  122  159  197   91   992  \n447  219  109  ...  14  153  450  207  16  114  206  202  111   893  \n448  194  126  ...  18  147  434  171   9  139  215  221  122   925  \n449  175   85  ...  16  109  493  283   9  104  297  327  131   867  \n\n[450 rows x 257 columns]",
      "text/html": "<div>\n<style scoped>\n    .dataframe tbody tr th:only-of-type {\n        vertical-align: middle;\n    }\n\n    .dataframe tbody tr th {\n        vertical-align: top;\n    }\n\n    .dataframe thead th {\n        text-align: right;\n    }\n</style>\n<table border=\"1\" class=\"dataframe\">\n  <thead>\n    <tr style=\"text-align: right;\">\n      <th></th>\n      <th>index</th>\n      <th>0</th>\n      <th>1</th>\n      <th>2</th>\n      <th>3</th>\n      <th>4</th>\n      <th>5</th>\n      <th>6</th>\n      <th>7</th>\n      <th>8</th>\n      <th>...</th>\n      <th>246</th>\n      <th>247</th>\n      <th>248</th>\n      <th>249</th>\n      <th>250</th>\n      <th>251</th>\n      <th>252</th>\n      <th>253</th>\n      <th>254</th>\n      <th>255</th>\n    </tr>\n  </thead>\n  <tbody>\n    <tr>\n      <th>0</th>\n      <td>../inputs/dataset_faces/face_29-2.jpg</td>\n      <td>239.0</td>\n      <td>31</td>\n      <td>105</td>\n      <td>75</td>\n      <td>31</td>\n      <td>4</td>\n      <td>112</td>\n      <td>198</td>\n      <td>107</td>\n      <td>...</td>\n      <td>12</td>\n      <td>204</td>\n      <td>487</td>\n      <td>197</td>\n      <td>9</td>\n      <td>103</td>\n      <td>236</td>\n      <td>150</td>\n      <td>105</td>\n      <td>917</td>\n    </tr>\n    <tr>\n      <th>1</th>\n      <td>../inputs/dataset_faces/face_8-3.jpg</td>\n      <td>287.0</td>\n      <td>48</td>\n      <td>110</td>\n      <td>121</td>\n      <td>51</td>\n      <td>7</td>\n      <td>101</td>\n      <td>234</td>\n      <td>141</td>\n      <td>...</td>\n      <td>18</td>\n      <td>205</td>\n      <td>580</td>\n      <td>233</td>\n      <td>20</td>\n      <td>144</td>\n      <td>233</td>\n      <td>196</td>\n      <td>110</td>\n      <td>1380</td>\n    </tr>\n    <tr>\n      <th>2</th>\n      <td>../inputs/dataset_faces/face_21-7.jpg</td>\n      <td>155.0</td>\n      <td>27</td>\n      <td>66</td>\n      <td>53</td>\n      <td>28</td>\n      <td>5</td>\n      <td>70</td>\n      <td>148</td>\n      <td>60</td>\n      <td>...</td>\n      <td>19</td>\n      <td>154</td>\n      <td>627</td>\n      <td>256</td>\n      <td>36</td>\n      <td>262</td>\n      <td>270</td>\n      <td>206</td>\n      <td>285</td>\n      <td>2932</td>\n    </tr>\n    <tr>\n      <th>3</th>\n      <td>../inputs/dataset_faces/face_27-6.jpg</td>\n      <td>384.0</td>\n      <td>66</td>\n      <td>113</td>\n      <td>126</td>\n      <td>54</td>\n      <td>16</td>\n      <td>86</td>\n      <td>173</td>\n      <td>83</td>\n      <td>...</td>\n      <td>23</td>\n      <td>220</td>\n      <td>432</td>\n      <td>262</td>\n      <td>25</td>\n      <td>168</td>\n      <td>166</td>\n      <td>220</td>\n      <td>118</td>\n      <td>1406</td>\n    </tr>\n    <tr>\n      <th>4</th>\n      <td>../inputs/dataset_faces/face_28-4.jpg</td>\n      <td>290.0</td>\n      <td>31</td>\n      <td>159</td>\n      <td>110</td>\n      <td>49</td>\n      <td>3</td>\n      <td>93</td>\n      <td>172</td>\n      <td>119</td>\n      <td>...</td>\n      <td>17</td>\n      <td>163</td>\n      <td>401</td>\n      <td>219</td>\n      <td>11</td>\n      <td>131</td>\n      <td>187</td>\n      <td>299</td>\n      <td>118</td>\n      <td>1049</td>\n    </tr>\n    <tr>\n      <th>...</th>\n      <td>...</td>\n      <td>...</td>\n      <td>...</td>\n      <td>...</td>\n      <td>...</td>\n      <td>...</td>\n      <td>...</td>\n      <td>...</td>\n      <td>...</td>\n      <td>...</td>\n      <td>...</td>\n      <td>...</td>\n      <td>...</td>\n      <td>...</td>\n      <td>...</td>\n      <td>...</td>\n      <td>...</td>\n      <td>...</td>\n      <td>...</td>\n      <td>...</td>\n      <td>...</td>\n    </tr>\n    <tr>\n      <th>445</th>\n      <td>../inputs/dataset_faces/face_19-7.jpg</td>\n      <td>223.0</td>\n      <td>41</td>\n      <td>87</td>\n      <td>86</td>\n      <td>27</td>\n      <td>5</td>\n      <td>49</td>\n      <td>170</td>\n      <td>95</td>\n      <td>...</td>\n      <td>24</td>\n      <td>198</td>\n      <td>563</td>\n      <td>214</td>\n      <td>34</td>\n      <td>258</td>\n      <td>236</td>\n      <td>227</td>\n      <td>248</td>\n      <td>2813</td>\n    </tr>\n    <tr>\n      <th>446</th>\n      <td>../inputs/dataset_faces/face_46-6.jpg</td>\n      <td>205.0</td>\n      <td>28</td>\n      <td>120</td>\n      <td>136</td>\n      <td>23</td>\n      <td>1</td>\n      <td>61</td>\n      <td>168</td>\n      <td>72</td>\n      <td>...</td>\n      <td>11</td>\n      <td>190</td>\n      <td>444</td>\n      <td>284</td>\n      <td>11</td>\n      <td>122</td>\n      <td>159</td>\n      <td>197</td>\n      <td>91</td>\n      <td>992</td>\n    </tr>\n    <tr>\n      <th>447</th>\n      <td>../inputs/dataset_faces/face_19-3.jpg</td>\n      <td>256.0</td>\n      <td>30</td>\n      <td>121</td>\n      <td>104</td>\n      <td>32</td>\n      <td>6</td>\n      <td>82</td>\n      <td>219</td>\n      <td>109</td>\n      <td>...</td>\n      <td>14</td>\n      <td>153</td>\n      <td>450</td>\n      <td>207</td>\n      <td>16</td>\n      <td>114</td>\n      <td>206</td>\n      <td>202</td>\n      <td>111</td>\n      <td>893</td>\n    </tr>\n    <tr>\n      <th>448</th>\n      <td>../inputs/dataset_faces/face_36-2.jpg</td>\n      <td>319.0</td>\n      <td>46</td>\n      <td>126</td>\n      <td>101</td>\n      <td>35</td>\n      <td>7</td>\n      <td>124</td>\n      <td>194</td>\n      <td>126</td>\n      <td>...</td>\n      <td>18</td>\n      <td>147</td>\n      <td>434</td>\n      <td>171</td>\n      <td>9</td>\n      <td>139</td>\n      <td>215</td>\n      <td>221</td>\n      <td>122</td>\n      <td>925</td>\n    </tr>\n    <tr>\n      <th>449</th>\n      <td>../inputs/dataset_faces/face_41-2.jpg</td>\n      <td>264.0</td>\n      <td>28</td>\n      <td>163</td>\n      <td>89</td>\n      <td>20</td>\n      <td>5</td>\n      <td>108</td>\n      <td>175</td>\n      <td>85</td>\n      <td>...</td>\n      <td>16</td>\n      <td>109</td>\n      <td>493</td>\n      <td>283</td>\n      <td>9</td>\n      <td>104</td>\n      <td>297</td>\n      <td>327</td>\n      <td>131</td>\n      <td>867</td>\n    </tr>\n  </tbody>\n</table>\n<p>450 rows × 257 columns</p>\n</div>"
     },
     "execution_count": 25,
     "metadata": {},
     "output_type": "execute_result"
    }
   ],
   "source": [
    "df = df.reset_index()\n",
    "df"
   ],
   "metadata": {
    "collapsed": false,
    "pycharm": {
     "name": "#%%\n"
    }
   }
  }
 ],
 "metadata": {
  "kernelspec": {
   "display_name": "Python 3",
   "language": "python",
   "name": "python3"
  },
  "language_info": {
   "codemirror_mode": {
    "name": "ipython",
    "version": 2
   },
   "file_extension": ".py",
   "mimetype": "text/x-python",
   "name": "python",
   "nbconvert_exporter": "python",
   "pygments_lexer": "ipython2",
   "version": "2.7.6"
  }
 },
 "nbformat": 4,
 "nbformat_minor": 0
}