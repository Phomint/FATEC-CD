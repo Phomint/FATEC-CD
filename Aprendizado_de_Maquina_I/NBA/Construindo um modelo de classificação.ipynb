{
 "nbformat": 4,
 "nbformat_minor": 0,
 "metadata": {
  "colab": {
   "name": "Construindo um modelo de classificação.ipynb",
   "provenance": [],
   "collapsed_sections": []
  },
  "kernelspec": {
   "name": "python3",
   "display_name": "Python 3"
  }
 },
 "cells": [
  {
   "cell_type": "markdown",
   "metadata": {
    "id": "LQTwChrxqlVS"
   },
   "source": [
    "**Declaração do problema: Construindo um modelo de classificação**\n",
    "\n",
    "**Solução de problemas:**\n",
    "\n",
    "- Crie o conjunto de dados.\n",
    "- Construa o modelo\n",
    "- Treine o modelo\n",
    "- Fazer previsões."
   ]
  },
  {
   "cell_type": "markdown",
   "metadata": {
    "id": "LWSzShLBrYD2"
   },
   "source": [
    "**Chamando dataset:**"
   ]
  },
  {
   "cell_type": "code",
   "metadata": {
    "id": "KVr9kyLxrQxA",
    "colab": {
     "base_uri": "https://localhost:8080/",
     "height": 461
    },
    "executionInfo": {
     "status": "ok",
     "timestamp": 1593630930569,
     "user_tz": 180,
     "elapsed": 1109,
     "user": {
      "displayName": "Robson Parmezan Bonidia",
      "photoUrl": "https://lh3.googleusercontent.com/a-/AOh14Gi7jMOD_1W0cfh-_nCN6_Lq5E6_RO4HNbsyzVEt=s64",
      "userId": "13164044841706986455"
     }
    },
    "outputId": "c36cbd4a-14d6-4205-867b-319bede2b267"
   },
   "source": [
    "import pandas as pd\n",
    "\n",
    "df = pd.read_csv('inputs/datasets/train_full.csv')\n",
    "df"
   ],
   "execution_count": 11,
   "outputs": [
    {
     "data": {
      "text/plain": "      Game          Data                H_Team   H_Wins   H_Loss   H_W/D %   \\\n0        0    Thu, June 8            Miami Heat       52       30     0.634   \n1        1   Sun, June 11            Miami Heat       52       30     0.634   \n2        2   Tue, June 13      Dallas Mavericks       60       22     0.732   \n3        3   Thu, June 15      Dallas Mavericks       60       22     0.732   \n4        4   Sun, June 18      Dallas Mavericks       60       22     0.732   \n...    ...            ...                   ...      ...      ...       ...   \n1001  1001  Fri, April 21  Los Angeles Clippers       51       31     0.622   \n1002  1002  Sun, April 23  Los Angeles Clippers       51       31     0.622   \n1003  1003  Tue, April 25             Utah Jazz       51       31     0.622   \n1004  1004  Fri, April 28  Los Angeles Clippers       51       31     0.622   \n1005  1005  Sun, April 30             Utah Jazz       51       31     0.622   \n\n      H_SRS   H_Games   H_TotalPoints   H_AvgPointsPerGame   ...  A_TS%   \\\n0       3.59        82            8191                 99.9  ...   0.550   \n1       3.59        82            8191                 99.9  ...   0.550   \n2       5.96        82            8130                 99.1  ...   0.556   \n3       5.96        82            8130                 99.1  ...   0.556   \n4       5.96        82            8130                 99.1  ...   0.556   \n...      ...       ...             ...                  ...  ...     ...   \n1001    4.42        82            8911                108.7  ...   0.563   \n1002    4.42        82            8911                108.7  ...   0.563   \n1003    4.00        82            8258                100.7  ...   0.574   \n1004    4.42        82            8911                108.7  ...   0.563   \n1005    4.00        82            8258                100.7  ...   0.574   \n\n      A_eFG%   A_TOV%   A_ORB%   A_FT/FGA   A_OeFG%   A_OTOV%   A_DRB%   \\\n0       0.495     13.1     31.8      0.285     0.475      13.7     72.2   \n1       0.495     13.1     31.8      0.285     0.475      13.7     72.2   \n2       0.517     13.9     26.7      0.254     0.477      12.4     76.4   \n3       0.517     13.9     26.7      0.254     0.477      12.4     76.4   \n4       0.517     13.9     26.7      0.254     0.477      12.4     76.4   \n...       ...      ...      ...        ...       ...       ...      ...   \n1001    0.526     13.2     23.2      0.215     0.493      11.8     78.9   \n1002    0.526     13.2     23.2      0.215     0.493      11.8     78.9   \n1003    0.537     12.0     21.5      0.233     0.506      12.1     76.9   \n1004    0.526     13.2     23.2      0.215     0.493      11.8     78.9   \n1005    0.537     12.0     21.5      0.233     0.506      12.1     76.9   \n\n      A_OFT/FGA   WinOrLose  \n0          0.257          L  \n1          0.257          L  \n2          0.251          L  \n3          0.251          L  \n4          0.251          L  \n...          ...        ...  \n1001       0.195          W  \n1002       0.195          L  \n1003       0.211          W  \n1004       0.195          W  \n1005       0.211          W  \n\n[1006 rows x 135 columns]",
      "text/html": "<div>\n<style scoped>\n    .dataframe tbody tr th:only-of-type {\n        vertical-align: middle;\n    }\n\n    .dataframe tbody tr th {\n        vertical-align: top;\n    }\n\n    .dataframe thead th {\n        text-align: right;\n    }\n</style>\n<table border=\"1\" class=\"dataframe\">\n  <thead>\n    <tr style=\"text-align: right;\">\n      <th></th>\n      <th>Game</th>\n      <th>Data</th>\n      <th>H_Team</th>\n      <th>H_Wins</th>\n      <th>H_Loss</th>\n      <th>H_W/D %</th>\n      <th>H_SRS</th>\n      <th>H_Games</th>\n      <th>H_TotalPoints</th>\n      <th>H_AvgPointsPerGame</th>\n      <th>...</th>\n      <th>A_TS%</th>\n      <th>A_eFG%</th>\n      <th>A_TOV%</th>\n      <th>A_ORB%</th>\n      <th>A_FT/FGA</th>\n      <th>A_OeFG%</th>\n      <th>A_OTOV%</th>\n      <th>A_DRB%</th>\n      <th>A_OFT/FGA</th>\n      <th>WinOrLose</th>\n    </tr>\n  </thead>\n  <tbody>\n    <tr>\n      <th>0</th>\n      <td>0</td>\n      <td>Thu, June 8</td>\n      <td>Miami Heat</td>\n      <td>52</td>\n      <td>30</td>\n      <td>0.634</td>\n      <td>3.59</td>\n      <td>82</td>\n      <td>8191</td>\n      <td>99.9</td>\n      <td>...</td>\n      <td>0.550</td>\n      <td>0.495</td>\n      <td>13.1</td>\n      <td>31.8</td>\n      <td>0.285</td>\n      <td>0.475</td>\n      <td>13.7</td>\n      <td>72.2</td>\n      <td>0.257</td>\n      <td>L</td>\n    </tr>\n    <tr>\n      <th>1</th>\n      <td>1</td>\n      <td>Sun, June 11</td>\n      <td>Miami Heat</td>\n      <td>52</td>\n      <td>30</td>\n      <td>0.634</td>\n      <td>3.59</td>\n      <td>82</td>\n      <td>8191</td>\n      <td>99.9</td>\n      <td>...</td>\n      <td>0.550</td>\n      <td>0.495</td>\n      <td>13.1</td>\n      <td>31.8</td>\n      <td>0.285</td>\n      <td>0.475</td>\n      <td>13.7</td>\n      <td>72.2</td>\n      <td>0.257</td>\n      <td>L</td>\n    </tr>\n    <tr>\n      <th>2</th>\n      <td>2</td>\n      <td>Tue, June 13</td>\n      <td>Dallas Mavericks</td>\n      <td>60</td>\n      <td>22</td>\n      <td>0.732</td>\n      <td>5.96</td>\n      <td>82</td>\n      <td>8130</td>\n      <td>99.1</td>\n      <td>...</td>\n      <td>0.556</td>\n      <td>0.517</td>\n      <td>13.9</td>\n      <td>26.7</td>\n      <td>0.254</td>\n      <td>0.477</td>\n      <td>12.4</td>\n      <td>76.4</td>\n      <td>0.251</td>\n      <td>L</td>\n    </tr>\n    <tr>\n      <th>3</th>\n      <td>3</td>\n      <td>Thu, June 15</td>\n      <td>Dallas Mavericks</td>\n      <td>60</td>\n      <td>22</td>\n      <td>0.732</td>\n      <td>5.96</td>\n      <td>82</td>\n      <td>8130</td>\n      <td>99.1</td>\n      <td>...</td>\n      <td>0.556</td>\n      <td>0.517</td>\n      <td>13.9</td>\n      <td>26.7</td>\n      <td>0.254</td>\n      <td>0.477</td>\n      <td>12.4</td>\n      <td>76.4</td>\n      <td>0.251</td>\n      <td>L</td>\n    </tr>\n    <tr>\n      <th>4</th>\n      <td>4</td>\n      <td>Sun, June 18</td>\n      <td>Dallas Mavericks</td>\n      <td>60</td>\n      <td>22</td>\n      <td>0.732</td>\n      <td>5.96</td>\n      <td>82</td>\n      <td>8130</td>\n      <td>99.1</td>\n      <td>...</td>\n      <td>0.556</td>\n      <td>0.517</td>\n      <td>13.9</td>\n      <td>26.7</td>\n      <td>0.254</td>\n      <td>0.477</td>\n      <td>12.4</td>\n      <td>76.4</td>\n      <td>0.251</td>\n      <td>L</td>\n    </tr>\n    <tr>\n      <th>...</th>\n      <td>...</td>\n      <td>...</td>\n      <td>...</td>\n      <td>...</td>\n      <td>...</td>\n      <td>...</td>\n      <td>...</td>\n      <td>...</td>\n      <td>...</td>\n      <td>...</td>\n      <td>...</td>\n      <td>...</td>\n      <td>...</td>\n      <td>...</td>\n      <td>...</td>\n      <td>...</td>\n      <td>...</td>\n      <td>...</td>\n      <td>...</td>\n      <td>...</td>\n      <td>...</td>\n    </tr>\n    <tr>\n      <th>1001</th>\n      <td>1001</td>\n      <td>Fri, April 21</td>\n      <td>Los Angeles Clippers</td>\n      <td>51</td>\n      <td>31</td>\n      <td>0.622</td>\n      <td>4.42</td>\n      <td>82</td>\n      <td>8911</td>\n      <td>108.7</td>\n      <td>...</td>\n      <td>0.563</td>\n      <td>0.526</td>\n      <td>13.2</td>\n      <td>23.2</td>\n      <td>0.215</td>\n      <td>0.493</td>\n      <td>11.8</td>\n      <td>78.9</td>\n      <td>0.195</td>\n      <td>W</td>\n    </tr>\n    <tr>\n      <th>1002</th>\n      <td>1002</td>\n      <td>Sun, April 23</td>\n      <td>Los Angeles Clippers</td>\n      <td>51</td>\n      <td>31</td>\n      <td>0.622</td>\n      <td>4.42</td>\n      <td>82</td>\n      <td>8911</td>\n      <td>108.7</td>\n      <td>...</td>\n      <td>0.563</td>\n      <td>0.526</td>\n      <td>13.2</td>\n      <td>23.2</td>\n      <td>0.215</td>\n      <td>0.493</td>\n      <td>11.8</td>\n      <td>78.9</td>\n      <td>0.195</td>\n      <td>L</td>\n    </tr>\n    <tr>\n      <th>1003</th>\n      <td>1003</td>\n      <td>Tue, April 25</td>\n      <td>Utah Jazz</td>\n      <td>51</td>\n      <td>31</td>\n      <td>0.622</td>\n      <td>4.00</td>\n      <td>82</td>\n      <td>8258</td>\n      <td>100.7</td>\n      <td>...</td>\n      <td>0.574</td>\n      <td>0.537</td>\n      <td>12.0</td>\n      <td>21.5</td>\n      <td>0.233</td>\n      <td>0.506</td>\n      <td>12.1</td>\n      <td>76.9</td>\n      <td>0.211</td>\n      <td>W</td>\n    </tr>\n    <tr>\n      <th>1004</th>\n      <td>1004</td>\n      <td>Fri, April 28</td>\n      <td>Los Angeles Clippers</td>\n      <td>51</td>\n      <td>31</td>\n      <td>0.622</td>\n      <td>4.42</td>\n      <td>82</td>\n      <td>8911</td>\n      <td>108.7</td>\n      <td>...</td>\n      <td>0.563</td>\n      <td>0.526</td>\n      <td>13.2</td>\n      <td>23.2</td>\n      <td>0.215</td>\n      <td>0.493</td>\n      <td>11.8</td>\n      <td>78.9</td>\n      <td>0.195</td>\n      <td>W</td>\n    </tr>\n    <tr>\n      <th>1005</th>\n      <td>1005</td>\n      <td>Sun, April 30</td>\n      <td>Utah Jazz</td>\n      <td>51</td>\n      <td>31</td>\n      <td>0.622</td>\n      <td>4.00</td>\n      <td>82</td>\n      <td>8258</td>\n      <td>100.7</td>\n      <td>...</td>\n      <td>0.574</td>\n      <td>0.537</td>\n      <td>12.0</td>\n      <td>21.5</td>\n      <td>0.233</td>\n      <td>0.506</td>\n      <td>12.1</td>\n      <td>76.9</td>\n      <td>0.211</td>\n      <td>W</td>\n    </tr>\n  </tbody>\n</table>\n<p>1006 rows × 135 columns</p>\n</div>"
     },
     "execution_count": 11,
     "metadata": {},
     "output_type": "execute_result"
    }
   ]
  },
  {
   "cell_type": "markdown",
   "metadata": {
    "id": "0KwVFkRtriAE"
   },
   "source": [
    "**Dividindo em X (features) e Y (labels)**\n",
    "\n"
   ]
  },
  {
   "cell_type": "code",
   "metadata": {
    "id": "8VrPOccNr11s"
   },
   "source": [
    "X = df.iloc[:, :-1]\n",
    "y = df.iloc[:, -1]\n",
    "\n",
    "# Ou\n",
    "\n",
    "# X = df[df.columns[0:(len(df.columns) - 1)]]\n",
    "# y = df['diagnosis']"
   ],
   "execution_count": 12,
   "outputs": []
  },
  {
   "cell_type": "code",
   "metadata": {
    "id": "pjpXZkxjwTMG",
    "colab": {
     "base_uri": "https://localhost:8080/",
     "height": 461
    },
    "executionInfo": {
     "status": "ok",
     "timestamp": 1593630937677,
     "user_tz": 180,
     "elapsed": 1055,
     "user": {
      "displayName": "Robson Parmezan Bonidia",
      "photoUrl": "https://lh3.googleusercontent.com/a-/AOh14Gi7jMOD_1W0cfh-_nCN6_Lq5E6_RO4HNbsyzVEt=s64",
      "userId": "13164044841706986455"
     }
    },
    "outputId": "42f2f9f5-e769-4dda-f874-2b87e482b3ee"
   },
   "source": [
    "X"
   ],
   "execution_count": 13,
   "outputs": [
    {
     "data": {
      "text/plain": "      Game          Data                H_Team   H_Wins   H_Loss   H_W/D %   \\\n0        0    Thu, June 8            Miami Heat       52       30     0.634   \n1        1   Sun, June 11            Miami Heat       52       30     0.634   \n2        2   Tue, June 13      Dallas Mavericks       60       22     0.732   \n3        3   Thu, June 15      Dallas Mavericks       60       22     0.732   \n4        4   Sun, June 18      Dallas Mavericks       60       22     0.732   \n...    ...            ...                   ...      ...      ...       ...   \n1001  1001  Fri, April 21  Los Angeles Clippers       51       31     0.622   \n1002  1002  Sun, April 23  Los Angeles Clippers       51       31     0.622   \n1003  1003  Tue, April 25             Utah Jazz       51       31     0.622   \n1004  1004  Fri, April 28  Los Angeles Clippers       51       31     0.622   \n1005  1005  Sun, April 30             Utah Jazz       51       31     0.622   \n\n      H_SRS   H_Games   H_TotalPoints   H_AvgPointsPerGame   ...  A_3PAr   \\\n0       3.59        82            8191                 99.9  ...    0.175   \n1       3.59        82            8191                 99.9  ...    0.175   \n2       5.96        82            8130                 99.1  ...    0.227   \n3       5.96        82            8130                 99.1  ...    0.227   \n4       5.96        82            8130                 99.1  ...    0.227   \n...      ...       ...             ...                  ...  ...      ...   \n1001    4.42        82            8911                108.7  ...    0.327   \n1002    4.42        82            8911                108.7  ...    0.327   \n1003    4.00        82            8258                100.7  ...    0.329   \n1004    4.42        82            8911                108.7  ...    0.327   \n1005    4.00        82            8258                100.7  ...    0.329   \n\n      A_TS%   A_eFG%   A_TOV%   A_ORB%   A_FT/FGA   A_OeFG%   A_OTOV%   \\\n0      0.550    0.495     13.1     31.8      0.285     0.475      13.7   \n1      0.550    0.495     13.1     31.8      0.285     0.475      13.7   \n2      0.556    0.517     13.9     26.7      0.254     0.477      12.4   \n3      0.556    0.517     13.9     26.7      0.254     0.477      12.4   \n4      0.556    0.517     13.9     26.7      0.254     0.477      12.4   \n...      ...      ...      ...      ...        ...       ...       ...   \n1001   0.563    0.526     13.2     23.2      0.215     0.493      11.8   \n1002   0.563    0.526     13.2     23.2      0.215     0.493      11.8   \n1003   0.574    0.537     12.0     21.5      0.233     0.506      12.1   \n1004   0.563    0.526     13.2     23.2      0.215     0.493      11.8   \n1005   0.574    0.537     12.0     21.5      0.233     0.506      12.1   \n\n      A_DRB%   A_OFT/FGA   \n0        72.2       0.257  \n1        72.2       0.257  \n2        76.4       0.251  \n3        76.4       0.251  \n4        76.4       0.251  \n...       ...         ...  \n1001     78.9       0.195  \n1002     78.9       0.195  \n1003     76.9       0.211  \n1004     78.9       0.195  \n1005     76.9       0.211  \n\n[1006 rows x 134 columns]",
      "text/html": "<div>\n<style scoped>\n    .dataframe tbody tr th:only-of-type {\n        vertical-align: middle;\n    }\n\n    .dataframe tbody tr th {\n        vertical-align: top;\n    }\n\n    .dataframe thead th {\n        text-align: right;\n    }\n</style>\n<table border=\"1\" class=\"dataframe\">\n  <thead>\n    <tr style=\"text-align: right;\">\n      <th></th>\n      <th>Game</th>\n      <th>Data</th>\n      <th>H_Team</th>\n      <th>H_Wins</th>\n      <th>H_Loss</th>\n      <th>H_W/D %</th>\n      <th>H_SRS</th>\n      <th>H_Games</th>\n      <th>H_TotalPoints</th>\n      <th>H_AvgPointsPerGame</th>\n      <th>...</th>\n      <th>A_3PAr</th>\n      <th>A_TS%</th>\n      <th>A_eFG%</th>\n      <th>A_TOV%</th>\n      <th>A_ORB%</th>\n      <th>A_FT/FGA</th>\n      <th>A_OeFG%</th>\n      <th>A_OTOV%</th>\n      <th>A_DRB%</th>\n      <th>A_OFT/FGA</th>\n    </tr>\n  </thead>\n  <tbody>\n    <tr>\n      <th>0</th>\n      <td>0</td>\n      <td>Thu, June 8</td>\n      <td>Miami Heat</td>\n      <td>52</td>\n      <td>30</td>\n      <td>0.634</td>\n      <td>3.59</td>\n      <td>82</td>\n      <td>8191</td>\n      <td>99.9</td>\n      <td>...</td>\n      <td>0.175</td>\n      <td>0.550</td>\n      <td>0.495</td>\n      <td>13.1</td>\n      <td>31.8</td>\n      <td>0.285</td>\n      <td>0.475</td>\n      <td>13.7</td>\n      <td>72.2</td>\n      <td>0.257</td>\n    </tr>\n    <tr>\n      <th>1</th>\n      <td>1</td>\n      <td>Sun, June 11</td>\n      <td>Miami Heat</td>\n      <td>52</td>\n      <td>30</td>\n      <td>0.634</td>\n      <td>3.59</td>\n      <td>82</td>\n      <td>8191</td>\n      <td>99.9</td>\n      <td>...</td>\n      <td>0.175</td>\n      <td>0.550</td>\n      <td>0.495</td>\n      <td>13.1</td>\n      <td>31.8</td>\n      <td>0.285</td>\n      <td>0.475</td>\n      <td>13.7</td>\n      <td>72.2</td>\n      <td>0.257</td>\n    </tr>\n    <tr>\n      <th>2</th>\n      <td>2</td>\n      <td>Tue, June 13</td>\n      <td>Dallas Mavericks</td>\n      <td>60</td>\n      <td>22</td>\n      <td>0.732</td>\n      <td>5.96</td>\n      <td>82</td>\n      <td>8130</td>\n      <td>99.1</td>\n      <td>...</td>\n      <td>0.227</td>\n      <td>0.556</td>\n      <td>0.517</td>\n      <td>13.9</td>\n      <td>26.7</td>\n      <td>0.254</td>\n      <td>0.477</td>\n      <td>12.4</td>\n      <td>76.4</td>\n      <td>0.251</td>\n    </tr>\n    <tr>\n      <th>3</th>\n      <td>3</td>\n      <td>Thu, June 15</td>\n      <td>Dallas Mavericks</td>\n      <td>60</td>\n      <td>22</td>\n      <td>0.732</td>\n      <td>5.96</td>\n      <td>82</td>\n      <td>8130</td>\n      <td>99.1</td>\n      <td>...</td>\n      <td>0.227</td>\n      <td>0.556</td>\n      <td>0.517</td>\n      <td>13.9</td>\n      <td>26.7</td>\n      <td>0.254</td>\n      <td>0.477</td>\n      <td>12.4</td>\n      <td>76.4</td>\n      <td>0.251</td>\n    </tr>\n    <tr>\n      <th>4</th>\n      <td>4</td>\n      <td>Sun, June 18</td>\n      <td>Dallas Mavericks</td>\n      <td>60</td>\n      <td>22</td>\n      <td>0.732</td>\n      <td>5.96</td>\n      <td>82</td>\n      <td>8130</td>\n      <td>99.1</td>\n      <td>...</td>\n      <td>0.227</td>\n      <td>0.556</td>\n      <td>0.517</td>\n      <td>13.9</td>\n      <td>26.7</td>\n      <td>0.254</td>\n      <td>0.477</td>\n      <td>12.4</td>\n      <td>76.4</td>\n      <td>0.251</td>\n    </tr>\n    <tr>\n      <th>...</th>\n      <td>...</td>\n      <td>...</td>\n      <td>...</td>\n      <td>...</td>\n      <td>...</td>\n      <td>...</td>\n      <td>...</td>\n      <td>...</td>\n      <td>...</td>\n      <td>...</td>\n      <td>...</td>\n      <td>...</td>\n      <td>...</td>\n      <td>...</td>\n      <td>...</td>\n      <td>...</td>\n      <td>...</td>\n      <td>...</td>\n      <td>...</td>\n      <td>...</td>\n      <td>...</td>\n    </tr>\n    <tr>\n      <th>1001</th>\n      <td>1001</td>\n      <td>Fri, April 21</td>\n      <td>Los Angeles Clippers</td>\n      <td>51</td>\n      <td>31</td>\n      <td>0.622</td>\n      <td>4.42</td>\n      <td>82</td>\n      <td>8911</td>\n      <td>108.7</td>\n      <td>...</td>\n      <td>0.327</td>\n      <td>0.563</td>\n      <td>0.526</td>\n      <td>13.2</td>\n      <td>23.2</td>\n      <td>0.215</td>\n      <td>0.493</td>\n      <td>11.8</td>\n      <td>78.9</td>\n      <td>0.195</td>\n    </tr>\n    <tr>\n      <th>1002</th>\n      <td>1002</td>\n      <td>Sun, April 23</td>\n      <td>Los Angeles Clippers</td>\n      <td>51</td>\n      <td>31</td>\n      <td>0.622</td>\n      <td>4.42</td>\n      <td>82</td>\n      <td>8911</td>\n      <td>108.7</td>\n      <td>...</td>\n      <td>0.327</td>\n      <td>0.563</td>\n      <td>0.526</td>\n      <td>13.2</td>\n      <td>23.2</td>\n      <td>0.215</td>\n      <td>0.493</td>\n      <td>11.8</td>\n      <td>78.9</td>\n      <td>0.195</td>\n    </tr>\n    <tr>\n      <th>1003</th>\n      <td>1003</td>\n      <td>Tue, April 25</td>\n      <td>Utah Jazz</td>\n      <td>51</td>\n      <td>31</td>\n      <td>0.622</td>\n      <td>4.00</td>\n      <td>82</td>\n      <td>8258</td>\n      <td>100.7</td>\n      <td>...</td>\n      <td>0.329</td>\n      <td>0.574</td>\n      <td>0.537</td>\n      <td>12.0</td>\n      <td>21.5</td>\n      <td>0.233</td>\n      <td>0.506</td>\n      <td>12.1</td>\n      <td>76.9</td>\n      <td>0.211</td>\n    </tr>\n    <tr>\n      <th>1004</th>\n      <td>1004</td>\n      <td>Fri, April 28</td>\n      <td>Los Angeles Clippers</td>\n      <td>51</td>\n      <td>31</td>\n      <td>0.622</td>\n      <td>4.42</td>\n      <td>82</td>\n      <td>8911</td>\n      <td>108.7</td>\n      <td>...</td>\n      <td>0.327</td>\n      <td>0.563</td>\n      <td>0.526</td>\n      <td>13.2</td>\n      <td>23.2</td>\n      <td>0.215</td>\n      <td>0.493</td>\n      <td>11.8</td>\n      <td>78.9</td>\n      <td>0.195</td>\n    </tr>\n    <tr>\n      <th>1005</th>\n      <td>1005</td>\n      <td>Sun, April 30</td>\n      <td>Utah Jazz</td>\n      <td>51</td>\n      <td>31</td>\n      <td>0.622</td>\n      <td>4.00</td>\n      <td>82</td>\n      <td>8258</td>\n      <td>100.7</td>\n      <td>...</td>\n      <td>0.329</td>\n      <td>0.574</td>\n      <td>0.537</td>\n      <td>12.0</td>\n      <td>21.5</td>\n      <td>0.233</td>\n      <td>0.506</td>\n      <td>12.1</td>\n      <td>76.9</td>\n      <td>0.211</td>\n    </tr>\n  </tbody>\n</table>\n<p>1006 rows × 134 columns</p>\n</div>"
     },
     "execution_count": 13,
     "metadata": {},
     "output_type": "execute_result"
    }
   ]
  },
  {
   "cell_type": "code",
   "metadata": {
    "id": "udii_4HdwUYC",
    "colab": {
     "base_uri": "https://localhost:8080/",
     "height": 225
    },
    "executionInfo": {
     "status": "ok",
     "timestamp": 1593630939606,
     "user_tz": 180,
     "elapsed": 1044,
     "user": {
      "displayName": "Robson Parmezan Bonidia",
      "photoUrl": "https://lh3.googleusercontent.com/a-/AOh14Gi7jMOD_1W0cfh-_nCN6_Lq5E6_RO4HNbsyzVEt=s64",
      "userId": "13164044841706986455"
     }
    },
    "outputId": "e37cb37c-bcb9-46b4-bb83-b4d04dac56ed"
   },
   "source": [
    "y"
   ],
   "execution_count": 5,
   "outputs": [
    {
     "data": {
      "text/plain": "0       L\n1       L\n2       L\n3       L\n4       L\n       ..\n1001    W\n1002    L\n1003    W\n1004    W\n1005    W\nName: WinOrLose, Length: 1006, dtype: object"
     },
     "execution_count": 5,
     "metadata": {},
     "output_type": "execute_result"
    }
   ]
  },
  {
   "cell_type": "markdown",
   "metadata": {
    "id": "ccbJWGa-uK-2"
   },
   "source": [
    "**Splitting o dataset - Holdout**\n",
    "\n",
    "**train:** contém os recursos de treinamento\n",
    "\n",
    "**test:** contém os recursos de teste\n",
    "\n",
    "**train_labels:** contém o rótulo de treinamento\n",
    "\n",
    "**test_labels:** contém os rótulos de teste\n"
   ]
  },
  {
   "cell_type": "code",
   "metadata": {
    "id": "7rzg5lpUt-rq"
   },
   "source": [
    "from sklearn.model_selection import train_test_split\n",
    "\n",
    "train, test, train_labels, test_labels = train_test_split(X,\n",
    "                                                          y,\n",
    "                                                          test_size=0.3,\n",
    "                                                          random_state=12,\n",
    "                                                          stratify=y)"
   ],
   "execution_count": 6,
   "outputs": []
  },
  {
   "cell_type": "code",
   "metadata": {
    "id": "u75dHp6ovAU0",
    "colab": {
     "base_uri": "https://localhost:8080/",
     "height": 461
    },
    "executionInfo": {
     "status": "ok",
     "timestamp": 1593630946346,
     "user_tz": 180,
     "elapsed": 1095,
     "user": {
      "displayName": "Robson Parmezan Bonidia",
      "photoUrl": "https://lh3.googleusercontent.com/a-/AOh14Gi7jMOD_1W0cfh-_nCN6_Lq5E6_RO4HNbsyzVEt=s64",
      "userId": "13164044841706986455"
     }
    },
    "outputId": "1af06d43-7a75-4b59-a410-9ca164c7b439"
   },
   "source": [
    "train"
   ],
   "execution_count": 7,
   "outputs": [
    {
     "data": {
      "text/plain": "     Game          Data                 H_Team   H_Wins   H_Loss   H_W/D %   \\\n254   254    Thu, June 4          Orlando Magic       59       23     0.720   \n884   884  Tue, April 19         Boston Celtics       48       34     0.585   \n180   180    Wed, May 21      San Antonio Spurs       56       26     0.683   \n523   523    Fri, May 18         Boston Celtics       39       27     0.591   \n745   745     Thu, May 1  Oklahoma City Thunder       59       23     0.720   \n..    ...            ...                    ...      ...      ...       ...   \n322   322  Tue, April 28       Dallas Mavericks       50       32     0.610   \n582   582  Sun, April 29              Utah Jazz       36       30     0.545   \n979   979  Wed, April 19          Atlanta Hawks       43       39     0.524   \n440   440     Sun, May 8          Chicago Bulls       62       20     0.756   \n187   187    Sat, May 10         Boston Celtics       66       16     0.805   \n\n     H_SRS   H_Games   H_TotalPoints   H_AvgPointsPerGame   ...  A_3PAr   \\\n254    6.48        82            8286                101.0  ...    0.217   \n884    2.84        82            8669                105.7  ...    0.336   \n180    5.10        82            7820                 95.4  ...    0.257   \n523    2.26        66            6062                 91.8  ...    0.175   \n745    6.66        82            8705                106.2  ...    0.171   \n..      ...       ...             ...                  ...  ...      ...   \n322    1.68        82            8343                101.7  ...    0.248   \n582    0.92        66            6577                 99.7  ...    0.257   \n979   -1.23        82            8459                103.2  ...    0.284   \n440    6.53        82            8087                 98.6  ...    0.222   \n187    9.30        82            8245                100.5  ...    0.231   \n\n     A_TS%   A_eFG%   A_TOV%   A_ORB%   A_FT/FGA   A_OeFG%   A_OTOV%   \\\n254   0.555    0.513     12.3     29.4      0.230     0.490      14.2   \n884   0.552    0.516     13.8     19.1      0.185     0.480      14.4   \n180   0.570    0.525     12.9     26.3      0.256     0.485      12.9   \n523   0.511    0.480     10.9     24.4      0.161     0.460      13.5   \n745   0.529    0.494     13.1     28.3      0.184     0.497      13.8   \n..      ...      ...      ...      ...        ...       ...       ...   \n322   0.548    0.513     11.7     22.1      0.191     0.487      11.7   \n582   0.562    0.528     12.8     25.1      0.195     0.489      12.9   \n979   0.564    0.528     12.8     24.1      0.199     0.524      13.8   \n440   0.542    0.501     13.5     23.4      0.209     0.495      12.3   \n187   0.520    0.480     13.1     30.4      0.221     0.494      12.9   \n\n     A_DRB%   A_OFT/FGA   \n254     73.0       0.213  \n884     74.6       0.194  \n180     73.4       0.214  \n523     75.2       0.192  \n745     75.7       0.199  \n..       ...         ...  \n322     78.0       0.191  \n582     76.0       0.168  \n979     75.5       0.213  \n440     74.6       0.211  \n187     75.9       0.240  \n\n[704 rows x 134 columns]",
      "text/html": "<div>\n<style scoped>\n    .dataframe tbody tr th:only-of-type {\n        vertical-align: middle;\n    }\n\n    .dataframe tbody tr th {\n        vertical-align: top;\n    }\n\n    .dataframe thead th {\n        text-align: right;\n    }\n</style>\n<table border=\"1\" class=\"dataframe\">\n  <thead>\n    <tr style=\"text-align: right;\">\n      <th></th>\n      <th>Game</th>\n      <th>Data</th>\n      <th>H_Team</th>\n      <th>H_Wins</th>\n      <th>H_Loss</th>\n      <th>H_W/D %</th>\n      <th>H_SRS</th>\n      <th>H_Games</th>\n      <th>H_TotalPoints</th>\n      <th>H_AvgPointsPerGame</th>\n      <th>...</th>\n      <th>A_3PAr</th>\n      <th>A_TS%</th>\n      <th>A_eFG%</th>\n      <th>A_TOV%</th>\n      <th>A_ORB%</th>\n      <th>A_FT/FGA</th>\n      <th>A_OeFG%</th>\n      <th>A_OTOV%</th>\n      <th>A_DRB%</th>\n      <th>A_OFT/FGA</th>\n    </tr>\n  </thead>\n  <tbody>\n    <tr>\n      <th>254</th>\n      <td>254</td>\n      <td>Thu, June 4</td>\n      <td>Orlando Magic</td>\n      <td>59</td>\n      <td>23</td>\n      <td>0.720</td>\n      <td>6.48</td>\n      <td>82</td>\n      <td>8286</td>\n      <td>101.0</td>\n      <td>...</td>\n      <td>0.217</td>\n      <td>0.555</td>\n      <td>0.513</td>\n      <td>12.3</td>\n      <td>29.4</td>\n      <td>0.230</td>\n      <td>0.490</td>\n      <td>14.2</td>\n      <td>73.0</td>\n      <td>0.213</td>\n    </tr>\n    <tr>\n      <th>884</th>\n      <td>884</td>\n      <td>Tue, April 19</td>\n      <td>Boston Celtics</td>\n      <td>48</td>\n      <td>34</td>\n      <td>0.585</td>\n      <td>2.84</td>\n      <td>82</td>\n      <td>8669</td>\n      <td>105.7</td>\n      <td>...</td>\n      <td>0.336</td>\n      <td>0.552</td>\n      <td>0.516</td>\n      <td>13.8</td>\n      <td>19.1</td>\n      <td>0.185</td>\n      <td>0.480</td>\n      <td>14.4</td>\n      <td>74.6</td>\n      <td>0.194</td>\n    </tr>\n    <tr>\n      <th>180</th>\n      <td>180</td>\n      <td>Wed, May 21</td>\n      <td>San Antonio Spurs</td>\n      <td>56</td>\n      <td>26</td>\n      <td>0.683</td>\n      <td>5.10</td>\n      <td>82</td>\n      <td>7820</td>\n      <td>95.4</td>\n      <td>...</td>\n      <td>0.257</td>\n      <td>0.570</td>\n      <td>0.525</td>\n      <td>12.9</td>\n      <td>26.3</td>\n      <td>0.256</td>\n      <td>0.485</td>\n      <td>12.9</td>\n      <td>73.4</td>\n      <td>0.214</td>\n    </tr>\n    <tr>\n      <th>523</th>\n      <td>523</td>\n      <td>Fri, May 18</td>\n      <td>Boston Celtics</td>\n      <td>39</td>\n      <td>27</td>\n      <td>0.591</td>\n      <td>2.26</td>\n      <td>66</td>\n      <td>6062</td>\n      <td>91.8</td>\n      <td>...</td>\n      <td>0.175</td>\n      <td>0.511</td>\n      <td>0.480</td>\n      <td>10.9</td>\n      <td>24.4</td>\n      <td>0.161</td>\n      <td>0.460</td>\n      <td>13.5</td>\n      <td>75.2</td>\n      <td>0.192</td>\n    </tr>\n    <tr>\n      <th>745</th>\n      <td>745</td>\n      <td>Thu, May 1</td>\n      <td>Oklahoma City Thunder</td>\n      <td>59</td>\n      <td>23</td>\n      <td>0.720</td>\n      <td>6.66</td>\n      <td>82</td>\n      <td>8705</td>\n      <td>106.2</td>\n      <td>...</td>\n      <td>0.171</td>\n      <td>0.529</td>\n      <td>0.494</td>\n      <td>13.1</td>\n      <td>28.3</td>\n      <td>0.184</td>\n      <td>0.497</td>\n      <td>13.8</td>\n      <td>75.7</td>\n      <td>0.199</td>\n    </tr>\n    <tr>\n      <th>...</th>\n      <td>...</td>\n      <td>...</td>\n      <td>...</td>\n      <td>...</td>\n      <td>...</td>\n      <td>...</td>\n      <td>...</td>\n      <td>...</td>\n      <td>...</td>\n      <td>...</td>\n      <td>...</td>\n      <td>...</td>\n      <td>...</td>\n      <td>...</td>\n      <td>...</td>\n      <td>...</td>\n      <td>...</td>\n      <td>...</td>\n      <td>...</td>\n      <td>...</td>\n      <td>...</td>\n    </tr>\n    <tr>\n      <th>322</th>\n      <td>322</td>\n      <td>Tue, April 28</td>\n      <td>Dallas Mavericks</td>\n      <td>50</td>\n      <td>32</td>\n      <td>0.610</td>\n      <td>1.68</td>\n      <td>82</td>\n      <td>8343</td>\n      <td>101.7</td>\n      <td>...</td>\n      <td>0.248</td>\n      <td>0.548</td>\n      <td>0.513</td>\n      <td>11.7</td>\n      <td>22.1</td>\n      <td>0.191</td>\n      <td>0.487</td>\n      <td>11.7</td>\n      <td>78.0</td>\n      <td>0.191</td>\n    </tr>\n    <tr>\n      <th>582</th>\n      <td>582</td>\n      <td>Sun, April 29</td>\n      <td>Utah Jazz</td>\n      <td>36</td>\n      <td>30</td>\n      <td>0.545</td>\n      <td>0.92</td>\n      <td>66</td>\n      <td>6577</td>\n      <td>99.7</td>\n      <td>...</td>\n      <td>0.257</td>\n      <td>0.562</td>\n      <td>0.528</td>\n      <td>12.8</td>\n      <td>25.1</td>\n      <td>0.195</td>\n      <td>0.489</td>\n      <td>12.9</td>\n      <td>76.0</td>\n      <td>0.168</td>\n    </tr>\n    <tr>\n      <th>979</th>\n      <td>979</td>\n      <td>Wed, April 19</td>\n      <td>Atlanta Hawks</td>\n      <td>43</td>\n      <td>39</td>\n      <td>0.524</td>\n      <td>-1.23</td>\n      <td>82</td>\n      <td>8459</td>\n      <td>103.2</td>\n      <td>...</td>\n      <td>0.284</td>\n      <td>0.564</td>\n      <td>0.528</td>\n      <td>12.8</td>\n      <td>24.1</td>\n      <td>0.199</td>\n      <td>0.524</td>\n      <td>13.8</td>\n      <td>75.5</td>\n      <td>0.213</td>\n    </tr>\n    <tr>\n      <th>440</th>\n      <td>440</td>\n      <td>Sun, May 8</td>\n      <td>Chicago Bulls</td>\n      <td>62</td>\n      <td>20</td>\n      <td>0.756</td>\n      <td>6.53</td>\n      <td>82</td>\n      <td>8087</td>\n      <td>98.6</td>\n      <td>...</td>\n      <td>0.222</td>\n      <td>0.542</td>\n      <td>0.501</td>\n      <td>13.5</td>\n      <td>23.4</td>\n      <td>0.209</td>\n      <td>0.495</td>\n      <td>12.3</td>\n      <td>74.6</td>\n      <td>0.211</td>\n    </tr>\n    <tr>\n      <th>187</th>\n      <td>187</td>\n      <td>Sat, May 10</td>\n      <td>Boston Celtics</td>\n      <td>66</td>\n      <td>16</td>\n      <td>0.805</td>\n      <td>9.30</td>\n      <td>82</td>\n      <td>8245</td>\n      <td>100.5</td>\n      <td>...</td>\n      <td>0.231</td>\n      <td>0.520</td>\n      <td>0.480</td>\n      <td>13.1</td>\n      <td>30.4</td>\n      <td>0.221</td>\n      <td>0.494</td>\n      <td>12.9</td>\n      <td>75.9</td>\n      <td>0.240</td>\n    </tr>\n  </tbody>\n</table>\n<p>704 rows × 134 columns</p>\n</div>"
     },
     "execution_count": 7,
     "metadata": {},
     "output_type": "execute_result"
    }
   ]
  },
  {
   "cell_type": "code",
   "metadata": {
    "id": "H_ju2-pivC8s",
    "colab": {
     "base_uri": "https://localhost:8080/",
     "height": 461
    },
    "executionInfo": {
     "status": "ok",
     "timestamp": 1593630949272,
     "user_tz": 180,
     "elapsed": 1118,
     "user": {
      "displayName": "Robson Parmezan Bonidia",
      "photoUrl": "https://lh3.googleusercontent.com/a-/AOh14Gi7jMOD_1W0cfh-_nCN6_Lq5E6_RO4HNbsyzVEt=s64",
      "userId": "13164044841706986455"
     }
    },
    "outputId": "47eabf5b-062c-4b87-f52f-cb8e68625b37"
   },
   "source": [
    "test"
   ],
   "execution_count": 8,
   "outputs": [
    {
     "data": {
      "text/plain": "      Game          Data              H_Team   H_Wins   H_Loss   H_W/D %   \\\n632    632     Sat, May 4       Chicago Bulls       45       37     0.549   \n681    681    Fri, May 30      Indiana Pacers       56       26     0.683   \n947    947    Mon, May 15  Washington Wizards       49       33     0.598   \n113    113    Sun, May 13     Detroit Pistons       53       29     0.646   \n716    716     Sun, May 4       Brooklyn Nets       44       38     0.537   \n...    ...            ...                 ...      ...      ...       ...   \n233    233  Mon, April 28     Toronto Raptors       41       41     0.500   \n1005  1005  Sun, April 30           Utah Jazz       51       31     0.622   \n55      55  Sat, April 22       Chicago Bulls       41       41     0.500   \n718    718  Tue, April 22       Atlanta Hawks       38       44     0.463   \n395    395  Sat, April 24       Orlando Magic       59       23     0.720   \n\n      H_SRS   H_Games   H_TotalPoints   H_AvgPointsPerGame   ...  A_3PAr   \\\n632    -0.02        82            7641                 93.2  ...    0.269   \n681     3.63        82            7933                 96.7  ...    0.292   \n947     1.36        82            8953                109.2  ...    0.393   \n113     3.69        82            7872                 96.0  ...    0.186   \n716    -1.58        82            8079                 98.5  ...    0.285   \n...      ...       ...             ...                  ...  ...      ...   \n233     2.47        82            8215                100.2  ...    0.322   \n1005    4.00        82            8258                100.7  ...    0.329   \n55      0.51        82            8020                 97.8  ...    0.227   \n718    -0.88        82            8282                101.0  ...    0.235   \n395     7.12        82            8426                102.8  ...    0.211   \n\n      A_TS%   A_eFG%   A_TOV%   A_ORB%   A_FT/FGA   A_OeFG%   A_OTOV%   \\\n632    0.536    0.498     14.0     30.9      0.219     0.503      13.1   \n681    0.590    0.554     14.6     20.6      0.228     0.511      15.8   \n947    0.567    0.525     12.2     21.2      0.220     0.503      12.6   \n113    0.534    0.493     14.7     28.6      0.229     0.473      16.2   \n716    0.545    0.498     13.2     27.2      0.239     0.493      14.1   \n...      ...      ...      ...      ...        ...       ...       ...   \n233    0.575    0.537     13.6     23.4      0.256     0.484      12.3   \n1005   0.574    0.537     12.0     21.5      0.233     0.506      12.1   \n55     0.556    0.517     13.9     26.7      0.254     0.477      12.4   \n718    0.535    0.490     14.3     24.9      0.226     0.460      12.9   \n395    0.538    0.490     15.1     26.5      0.260     0.491      14.7   \n\n      A_DRB%   A_OFT/FGA   \n632      73.7       0.174  \n681      73.0       0.212  \n947      75.3       0.223  \n113      74.3       0.252  \n716      74.9       0.237  \n...       ...         ...  \n233      74.8       0.217  \n1005     76.9       0.211  \n55       76.4       0.251  \n718      76.8       0.197  \n395      74.2       0.194  \n\n[302 rows x 134 columns]",
      "text/html": "<div>\n<style scoped>\n    .dataframe tbody tr th:only-of-type {\n        vertical-align: middle;\n    }\n\n    .dataframe tbody tr th {\n        vertical-align: top;\n    }\n\n    .dataframe thead th {\n        text-align: right;\n    }\n</style>\n<table border=\"1\" class=\"dataframe\">\n  <thead>\n    <tr style=\"text-align: right;\">\n      <th></th>\n      <th>Game</th>\n      <th>Data</th>\n      <th>H_Team</th>\n      <th>H_Wins</th>\n      <th>H_Loss</th>\n      <th>H_W/D %</th>\n      <th>H_SRS</th>\n      <th>H_Games</th>\n      <th>H_TotalPoints</th>\n      <th>H_AvgPointsPerGame</th>\n      <th>...</th>\n      <th>A_3PAr</th>\n      <th>A_TS%</th>\n      <th>A_eFG%</th>\n      <th>A_TOV%</th>\n      <th>A_ORB%</th>\n      <th>A_FT/FGA</th>\n      <th>A_OeFG%</th>\n      <th>A_OTOV%</th>\n      <th>A_DRB%</th>\n      <th>A_OFT/FGA</th>\n    </tr>\n  </thead>\n  <tbody>\n    <tr>\n      <th>632</th>\n      <td>632</td>\n      <td>Sat, May 4</td>\n      <td>Chicago Bulls</td>\n      <td>45</td>\n      <td>37</td>\n      <td>0.549</td>\n      <td>-0.02</td>\n      <td>82</td>\n      <td>7641</td>\n      <td>93.2</td>\n      <td>...</td>\n      <td>0.269</td>\n      <td>0.536</td>\n      <td>0.498</td>\n      <td>14.0</td>\n      <td>30.9</td>\n      <td>0.219</td>\n      <td>0.503</td>\n      <td>13.1</td>\n      <td>73.7</td>\n      <td>0.174</td>\n    </tr>\n    <tr>\n      <th>681</th>\n      <td>681</td>\n      <td>Fri, May 30</td>\n      <td>Indiana Pacers</td>\n      <td>56</td>\n      <td>26</td>\n      <td>0.683</td>\n      <td>3.63</td>\n      <td>82</td>\n      <td>7933</td>\n      <td>96.7</td>\n      <td>...</td>\n      <td>0.292</td>\n      <td>0.590</td>\n      <td>0.554</td>\n      <td>14.6</td>\n      <td>20.6</td>\n      <td>0.228</td>\n      <td>0.511</td>\n      <td>15.8</td>\n      <td>73.0</td>\n      <td>0.212</td>\n    </tr>\n    <tr>\n      <th>947</th>\n      <td>947</td>\n      <td>Mon, May 15</td>\n      <td>Washington Wizards</td>\n      <td>49</td>\n      <td>33</td>\n      <td>0.598</td>\n      <td>1.36</td>\n      <td>82</td>\n      <td>8953</td>\n      <td>109.2</td>\n      <td>...</td>\n      <td>0.393</td>\n      <td>0.567</td>\n      <td>0.525</td>\n      <td>12.2</td>\n      <td>21.2</td>\n      <td>0.220</td>\n      <td>0.503</td>\n      <td>12.6</td>\n      <td>75.3</td>\n      <td>0.223</td>\n    </tr>\n    <tr>\n      <th>113</th>\n      <td>113</td>\n      <td>Sun, May 13</td>\n      <td>Detroit Pistons</td>\n      <td>53</td>\n      <td>29</td>\n      <td>0.646</td>\n      <td>3.69</td>\n      <td>82</td>\n      <td>7872</td>\n      <td>96.0</td>\n      <td>...</td>\n      <td>0.186</td>\n      <td>0.534</td>\n      <td>0.493</td>\n      <td>14.7</td>\n      <td>28.6</td>\n      <td>0.229</td>\n      <td>0.473</td>\n      <td>16.2</td>\n      <td>74.3</td>\n      <td>0.252</td>\n    </tr>\n    <tr>\n      <th>716</th>\n      <td>716</td>\n      <td>Sun, May 4</td>\n      <td>Brooklyn Nets</td>\n      <td>44</td>\n      <td>38</td>\n      <td>0.537</td>\n      <td>-1.58</td>\n      <td>82</td>\n      <td>8079</td>\n      <td>98.5</td>\n      <td>...</td>\n      <td>0.285</td>\n      <td>0.545</td>\n      <td>0.498</td>\n      <td>13.2</td>\n      <td>27.2</td>\n      <td>0.239</td>\n      <td>0.493</td>\n      <td>14.1</td>\n      <td>74.9</td>\n      <td>0.237</td>\n    </tr>\n    <tr>\n      <th>...</th>\n      <td>...</td>\n      <td>...</td>\n      <td>...</td>\n      <td>...</td>\n      <td>...</td>\n      <td>...</td>\n      <td>...</td>\n      <td>...</td>\n      <td>...</td>\n      <td>...</td>\n      <td>...</td>\n      <td>...</td>\n      <td>...</td>\n      <td>...</td>\n      <td>...</td>\n      <td>...</td>\n      <td>...</td>\n      <td>...</td>\n      <td>...</td>\n      <td>...</td>\n      <td>...</td>\n    </tr>\n    <tr>\n      <th>233</th>\n      <td>233</td>\n      <td>Mon, April 28</td>\n      <td>Toronto Raptors</td>\n      <td>41</td>\n      <td>41</td>\n      <td>0.500</td>\n      <td>2.47</td>\n      <td>82</td>\n      <td>8215</td>\n      <td>100.2</td>\n      <td>...</td>\n      <td>0.322</td>\n      <td>0.575</td>\n      <td>0.537</td>\n      <td>13.6</td>\n      <td>23.4</td>\n      <td>0.256</td>\n      <td>0.484</td>\n      <td>12.3</td>\n      <td>74.8</td>\n      <td>0.217</td>\n    </tr>\n    <tr>\n      <th>1005</th>\n      <td>1005</td>\n      <td>Sun, April 30</td>\n      <td>Utah Jazz</td>\n      <td>51</td>\n      <td>31</td>\n      <td>0.622</td>\n      <td>4.00</td>\n      <td>82</td>\n      <td>8258</td>\n      <td>100.7</td>\n      <td>...</td>\n      <td>0.329</td>\n      <td>0.574</td>\n      <td>0.537</td>\n      <td>12.0</td>\n      <td>21.5</td>\n      <td>0.233</td>\n      <td>0.506</td>\n      <td>12.1</td>\n      <td>76.9</td>\n      <td>0.211</td>\n    </tr>\n    <tr>\n      <th>55</th>\n      <td>55</td>\n      <td>Sat, April 22</td>\n      <td>Chicago Bulls</td>\n      <td>41</td>\n      <td>41</td>\n      <td>0.500</td>\n      <td>0.51</td>\n      <td>82</td>\n      <td>8020</td>\n      <td>97.8</td>\n      <td>...</td>\n      <td>0.227</td>\n      <td>0.556</td>\n      <td>0.517</td>\n      <td>13.9</td>\n      <td>26.7</td>\n      <td>0.254</td>\n      <td>0.477</td>\n      <td>12.4</td>\n      <td>76.4</td>\n      <td>0.251</td>\n    </tr>\n    <tr>\n      <th>718</th>\n      <td>718</td>\n      <td>Tue, April 22</td>\n      <td>Atlanta Hawks</td>\n      <td>38</td>\n      <td>44</td>\n      <td>0.463</td>\n      <td>-0.88</td>\n      <td>82</td>\n      <td>8282</td>\n      <td>101.0</td>\n      <td>...</td>\n      <td>0.235</td>\n      <td>0.535</td>\n      <td>0.490</td>\n      <td>14.3</td>\n      <td>24.9</td>\n      <td>0.226</td>\n      <td>0.460</td>\n      <td>12.9</td>\n      <td>76.8</td>\n      <td>0.197</td>\n    </tr>\n    <tr>\n      <th>395</th>\n      <td>395</td>\n      <td>Sat, April 24</td>\n      <td>Orlando Magic</td>\n      <td>59</td>\n      <td>23</td>\n      <td>0.720</td>\n      <td>7.12</td>\n      <td>82</td>\n      <td>8426</td>\n      <td>102.8</td>\n      <td>...</td>\n      <td>0.211</td>\n      <td>0.538</td>\n      <td>0.490</td>\n      <td>15.1</td>\n      <td>26.5</td>\n      <td>0.260</td>\n      <td>0.491</td>\n      <td>14.7</td>\n      <td>74.2</td>\n      <td>0.194</td>\n    </tr>\n  </tbody>\n</table>\n<p>302 rows × 134 columns</p>\n</div>"
     },
     "execution_count": 8,
     "metadata": {},
     "output_type": "execute_result"
    }
   ]
  },
  {
   "cell_type": "markdown",
   "metadata": {
    "id": "6_rcKjLwuepy"
   },
   "source": [
    "**Preprocessing**"
   ]
  },
  {
   "cell_type": "code",
   "metadata": {
    "id": "58I7GSn_u4SZ"
   },
   "source": [
    "from sklearn.preprocessing import MinMaxScaler\n",
    "\n",
    "sc = MinMaxScaler(feature_range=(0, 1))\n",
    "\n",
    "train = sc.fit_transform(train)\n",
    "\n",
    "test = sc.transform(test)"
   ],
   "execution_count": 9,
   "outputs": [
    {
     "ename": "ValueError",
     "evalue": "could not convert string to float: 'Thu, June 4'",
     "output_type": "error",
     "traceback": [
      "\u001B[0;31m---------------------------------------------------------------------------\u001B[0m",
      "\u001B[0;31mValueError\u001B[0m                                Traceback (most recent call last)",
      "\u001B[0;32m/tmp/ipykernel_89554/3836599790.py\u001B[0m in \u001B[0;36m<module>\u001B[0;34m\u001B[0m\n\u001B[1;32m      3\u001B[0m \u001B[0msc\u001B[0m \u001B[0;34m=\u001B[0m \u001B[0mMinMaxScaler\u001B[0m\u001B[0;34m(\u001B[0m\u001B[0mfeature_range\u001B[0m\u001B[0;34m=\u001B[0m\u001B[0;34m(\u001B[0m\u001B[0;36m0\u001B[0m\u001B[0;34m,\u001B[0m \u001B[0;36m1\u001B[0m\u001B[0;34m)\u001B[0m\u001B[0;34m)\u001B[0m\u001B[0;34m\u001B[0m\u001B[0;34m\u001B[0m\u001B[0m\n\u001B[1;32m      4\u001B[0m \u001B[0;34m\u001B[0m\u001B[0m\n\u001B[0;32m----> 5\u001B[0;31m \u001B[0mtrain\u001B[0m \u001B[0;34m=\u001B[0m \u001B[0msc\u001B[0m\u001B[0;34m.\u001B[0m\u001B[0mfit_transform\u001B[0m\u001B[0;34m(\u001B[0m\u001B[0mtrain\u001B[0m\u001B[0;34m)\u001B[0m\u001B[0;34m\u001B[0m\u001B[0;34m\u001B[0m\u001B[0m\n\u001B[0m\u001B[1;32m      6\u001B[0m \u001B[0;34m\u001B[0m\u001B[0m\n\u001B[1;32m      7\u001B[0m \u001B[0mtest\u001B[0m \u001B[0;34m=\u001B[0m \u001B[0msc\u001B[0m\u001B[0;34m.\u001B[0m\u001B[0mtransform\u001B[0m\u001B[0;34m(\u001B[0m\u001B[0mtest\u001B[0m\u001B[0;34m)\u001B[0m\u001B[0;34m\u001B[0m\u001B[0;34m\u001B[0m\u001B[0m\n",
      "\u001B[0;32m~/anaconda3/envs/fatec/lib/python3.8/site-packages/sklearn/base.py\u001B[0m in \u001B[0;36mfit_transform\u001B[0;34m(self, X, y, **fit_params)\u001B[0m\n\u001B[1;32m    688\u001B[0m         \u001B[0;32mif\u001B[0m \u001B[0my\u001B[0m \u001B[0;32mis\u001B[0m \u001B[0;32mNone\u001B[0m\u001B[0;34m:\u001B[0m\u001B[0;34m\u001B[0m\u001B[0;34m\u001B[0m\u001B[0m\n\u001B[1;32m    689\u001B[0m             \u001B[0;31m# fit method of arity 1 (unsupervised transformation)\u001B[0m\u001B[0;34m\u001B[0m\u001B[0;34m\u001B[0m\u001B[0;34m\u001B[0m\u001B[0m\n\u001B[0;32m--> 690\u001B[0;31m             \u001B[0;32mreturn\u001B[0m \u001B[0mself\u001B[0m\u001B[0;34m.\u001B[0m\u001B[0mfit\u001B[0m\u001B[0;34m(\u001B[0m\u001B[0mX\u001B[0m\u001B[0;34m,\u001B[0m \u001B[0;34m**\u001B[0m\u001B[0mfit_params\u001B[0m\u001B[0;34m)\u001B[0m\u001B[0;34m.\u001B[0m\u001B[0mtransform\u001B[0m\u001B[0;34m(\u001B[0m\u001B[0mX\u001B[0m\u001B[0;34m)\u001B[0m\u001B[0;34m\u001B[0m\u001B[0;34m\u001B[0m\u001B[0m\n\u001B[0m\u001B[1;32m    691\u001B[0m         \u001B[0;32melse\u001B[0m\u001B[0;34m:\u001B[0m\u001B[0;34m\u001B[0m\u001B[0;34m\u001B[0m\u001B[0m\n\u001B[1;32m    692\u001B[0m             \u001B[0;31m# fit method of arity 2 (supervised transformation)\u001B[0m\u001B[0;34m\u001B[0m\u001B[0;34m\u001B[0m\u001B[0;34m\u001B[0m\u001B[0m\n",
      "\u001B[0;32m~/anaconda3/envs/fatec/lib/python3.8/site-packages/sklearn/preprocessing/_data.py\u001B[0m in \u001B[0;36mfit\u001B[0;34m(self, X, y)\u001B[0m\n\u001B[1;32m    334\u001B[0m         \u001B[0;31m# Reset internal state before fitting\u001B[0m\u001B[0;34m\u001B[0m\u001B[0;34m\u001B[0m\u001B[0;34m\u001B[0m\u001B[0m\n\u001B[1;32m    335\u001B[0m         \u001B[0mself\u001B[0m\u001B[0;34m.\u001B[0m\u001B[0m_reset\u001B[0m\u001B[0;34m(\u001B[0m\u001B[0;34m)\u001B[0m\u001B[0;34m\u001B[0m\u001B[0;34m\u001B[0m\u001B[0m\n\u001B[0;32m--> 336\u001B[0;31m         \u001B[0;32mreturn\u001B[0m \u001B[0mself\u001B[0m\u001B[0;34m.\u001B[0m\u001B[0mpartial_fit\u001B[0m\u001B[0;34m(\u001B[0m\u001B[0mX\u001B[0m\u001B[0;34m,\u001B[0m \u001B[0my\u001B[0m\u001B[0;34m)\u001B[0m\u001B[0;34m\u001B[0m\u001B[0;34m\u001B[0m\u001B[0m\n\u001B[0m\u001B[1;32m    337\u001B[0m \u001B[0;34m\u001B[0m\u001B[0m\n\u001B[1;32m    338\u001B[0m     \u001B[0;32mdef\u001B[0m \u001B[0mpartial_fit\u001B[0m\u001B[0;34m(\u001B[0m\u001B[0mself\u001B[0m\u001B[0;34m,\u001B[0m \u001B[0mX\u001B[0m\u001B[0;34m,\u001B[0m \u001B[0my\u001B[0m\u001B[0;34m=\u001B[0m\u001B[0;32mNone\u001B[0m\u001B[0;34m)\u001B[0m\u001B[0;34m:\u001B[0m\u001B[0;34m\u001B[0m\u001B[0;34m\u001B[0m\u001B[0m\n",
      "\u001B[0;32m~/anaconda3/envs/fatec/lib/python3.8/site-packages/sklearn/preprocessing/_data.py\u001B[0m in \u001B[0;36mpartial_fit\u001B[0;34m(self, X, y)\u001B[0m\n\u001B[1;32m    367\u001B[0m \u001B[0;34m\u001B[0m\u001B[0m\n\u001B[1;32m    368\u001B[0m         \u001B[0mfirst_pass\u001B[0m \u001B[0;34m=\u001B[0m \u001B[0;32mnot\u001B[0m \u001B[0mhasattr\u001B[0m\u001B[0;34m(\u001B[0m\u001B[0mself\u001B[0m\u001B[0;34m,\u001B[0m \u001B[0;34m'n_samples_seen_'\u001B[0m\u001B[0;34m)\u001B[0m\u001B[0;34m\u001B[0m\u001B[0;34m\u001B[0m\u001B[0m\n\u001B[0;32m--> 369\u001B[0;31m         X = self._validate_data(X, reset=first_pass,\n\u001B[0m\u001B[1;32m    370\u001B[0m                                 \u001B[0mestimator\u001B[0m\u001B[0;34m=\u001B[0m\u001B[0mself\u001B[0m\u001B[0;34m,\u001B[0m \u001B[0mdtype\u001B[0m\u001B[0;34m=\u001B[0m\u001B[0mFLOAT_DTYPES\u001B[0m\u001B[0;34m,\u001B[0m\u001B[0;34m\u001B[0m\u001B[0;34m\u001B[0m\u001B[0m\n\u001B[1;32m    371\u001B[0m                                 force_all_finite=\"allow-nan\")\n",
      "\u001B[0;32m~/anaconda3/envs/fatec/lib/python3.8/site-packages/sklearn/base.py\u001B[0m in \u001B[0;36m_validate_data\u001B[0;34m(self, X, y, reset, validate_separately, **check_params)\u001B[0m\n\u001B[1;32m    418\u001B[0m                     \u001B[0;34mf\"requires y to be passed, but the target y is None.\"\u001B[0m\u001B[0;34m\u001B[0m\u001B[0;34m\u001B[0m\u001B[0m\n\u001B[1;32m    419\u001B[0m                 )\n\u001B[0;32m--> 420\u001B[0;31m             \u001B[0mX\u001B[0m \u001B[0;34m=\u001B[0m \u001B[0mcheck_array\u001B[0m\u001B[0;34m(\u001B[0m\u001B[0mX\u001B[0m\u001B[0;34m,\u001B[0m \u001B[0;34m**\u001B[0m\u001B[0mcheck_params\u001B[0m\u001B[0;34m)\u001B[0m\u001B[0;34m\u001B[0m\u001B[0;34m\u001B[0m\u001B[0m\n\u001B[0m\u001B[1;32m    421\u001B[0m             \u001B[0mout\u001B[0m \u001B[0;34m=\u001B[0m \u001B[0mX\u001B[0m\u001B[0;34m\u001B[0m\u001B[0;34m\u001B[0m\u001B[0m\n\u001B[1;32m    422\u001B[0m         \u001B[0;32melse\u001B[0m\u001B[0;34m:\u001B[0m\u001B[0;34m\u001B[0m\u001B[0;34m\u001B[0m\u001B[0m\n",
      "\u001B[0;32m~/anaconda3/envs/fatec/lib/python3.8/site-packages/sklearn/utils/validation.py\u001B[0m in \u001B[0;36minner_f\u001B[0;34m(*args, **kwargs)\u001B[0m\n\u001B[1;32m     70\u001B[0m                           FutureWarning)\n\u001B[1;32m     71\u001B[0m         \u001B[0mkwargs\u001B[0m\u001B[0;34m.\u001B[0m\u001B[0mupdate\u001B[0m\u001B[0;34m(\u001B[0m\u001B[0;34m{\u001B[0m\u001B[0mk\u001B[0m\u001B[0;34m:\u001B[0m \u001B[0marg\u001B[0m \u001B[0;32mfor\u001B[0m \u001B[0mk\u001B[0m\u001B[0;34m,\u001B[0m \u001B[0marg\u001B[0m \u001B[0;32min\u001B[0m \u001B[0mzip\u001B[0m\u001B[0;34m(\u001B[0m\u001B[0msig\u001B[0m\u001B[0;34m.\u001B[0m\u001B[0mparameters\u001B[0m\u001B[0;34m,\u001B[0m \u001B[0margs\u001B[0m\u001B[0;34m)\u001B[0m\u001B[0;34m}\u001B[0m\u001B[0;34m)\u001B[0m\u001B[0;34m\u001B[0m\u001B[0;34m\u001B[0m\u001B[0m\n\u001B[0;32m---> 72\u001B[0;31m         \u001B[0;32mreturn\u001B[0m \u001B[0mf\u001B[0m\u001B[0;34m(\u001B[0m\u001B[0;34m**\u001B[0m\u001B[0mkwargs\u001B[0m\u001B[0;34m)\u001B[0m\u001B[0;34m\u001B[0m\u001B[0;34m\u001B[0m\u001B[0m\n\u001B[0m\u001B[1;32m     73\u001B[0m     \u001B[0;32mreturn\u001B[0m \u001B[0minner_f\u001B[0m\u001B[0;34m\u001B[0m\u001B[0;34m\u001B[0m\u001B[0m\n\u001B[1;32m     74\u001B[0m \u001B[0;34m\u001B[0m\u001B[0m\n",
      "\u001B[0;32m~/anaconda3/envs/fatec/lib/python3.8/site-packages/sklearn/utils/validation.py\u001B[0m in \u001B[0;36mcheck_array\u001B[0;34m(array, accept_sparse, accept_large_sparse, dtype, order, copy, force_all_finite, ensure_2d, allow_nd, ensure_min_samples, ensure_min_features, estimator)\u001B[0m\n\u001B[1;32m    596\u001B[0m                     \u001B[0marray\u001B[0m \u001B[0;34m=\u001B[0m \u001B[0marray\u001B[0m\u001B[0;34m.\u001B[0m\u001B[0mastype\u001B[0m\u001B[0;34m(\u001B[0m\u001B[0mdtype\u001B[0m\u001B[0;34m,\u001B[0m \u001B[0mcasting\u001B[0m\u001B[0;34m=\u001B[0m\u001B[0;34m\"unsafe\"\u001B[0m\u001B[0;34m,\u001B[0m \u001B[0mcopy\u001B[0m\u001B[0;34m=\u001B[0m\u001B[0;32mFalse\u001B[0m\u001B[0;34m)\u001B[0m\u001B[0;34m\u001B[0m\u001B[0;34m\u001B[0m\u001B[0m\n\u001B[1;32m    597\u001B[0m                 \u001B[0;32melse\u001B[0m\u001B[0;34m:\u001B[0m\u001B[0;34m\u001B[0m\u001B[0;34m\u001B[0m\u001B[0m\n\u001B[0;32m--> 598\u001B[0;31m                     \u001B[0marray\u001B[0m \u001B[0;34m=\u001B[0m \u001B[0mnp\u001B[0m\u001B[0;34m.\u001B[0m\u001B[0masarray\u001B[0m\u001B[0;34m(\u001B[0m\u001B[0marray\u001B[0m\u001B[0;34m,\u001B[0m \u001B[0morder\u001B[0m\u001B[0;34m=\u001B[0m\u001B[0morder\u001B[0m\u001B[0;34m,\u001B[0m \u001B[0mdtype\u001B[0m\u001B[0;34m=\u001B[0m\u001B[0mdtype\u001B[0m\u001B[0;34m)\u001B[0m\u001B[0;34m\u001B[0m\u001B[0;34m\u001B[0m\u001B[0m\n\u001B[0m\u001B[1;32m    599\u001B[0m             \u001B[0;32mexcept\u001B[0m \u001B[0mComplexWarning\u001B[0m\u001B[0;34m:\u001B[0m\u001B[0;34m\u001B[0m\u001B[0;34m\u001B[0m\u001B[0m\n\u001B[1;32m    600\u001B[0m                 raise ValueError(\"Complex data not supported\\n\"\n",
      "\u001B[0;32m~/anaconda3/envs/fatec/lib/python3.8/site-packages/pandas/core/generic.py\u001B[0m in \u001B[0;36m__array__\u001B[0;34m(self, dtype)\u001B[0m\n\u001B[1;32m   1991\u001B[0m \u001B[0;34m\u001B[0m\u001B[0m\n\u001B[1;32m   1992\u001B[0m     \u001B[0;32mdef\u001B[0m \u001B[0m__array__\u001B[0m\u001B[0;34m(\u001B[0m\u001B[0mself\u001B[0m\u001B[0;34m,\u001B[0m \u001B[0mdtype\u001B[0m\u001B[0;34m:\u001B[0m \u001B[0mNpDtype\u001B[0m \u001B[0;34m|\u001B[0m \u001B[0;32mNone\u001B[0m \u001B[0;34m=\u001B[0m \u001B[0;32mNone\u001B[0m\u001B[0;34m)\u001B[0m \u001B[0;34m->\u001B[0m \u001B[0mnp\u001B[0m\u001B[0;34m.\u001B[0m\u001B[0mndarray\u001B[0m\u001B[0;34m:\u001B[0m\u001B[0;34m\u001B[0m\u001B[0;34m\u001B[0m\u001B[0m\n\u001B[0;32m-> 1993\u001B[0;31m         \u001B[0;32mreturn\u001B[0m \u001B[0mnp\u001B[0m\u001B[0;34m.\u001B[0m\u001B[0masarray\u001B[0m\u001B[0;34m(\u001B[0m\u001B[0mself\u001B[0m\u001B[0;34m.\u001B[0m\u001B[0m_values\u001B[0m\u001B[0;34m,\u001B[0m \u001B[0mdtype\u001B[0m\u001B[0;34m=\u001B[0m\u001B[0mdtype\u001B[0m\u001B[0;34m)\u001B[0m\u001B[0;34m\u001B[0m\u001B[0;34m\u001B[0m\u001B[0m\n\u001B[0m\u001B[1;32m   1994\u001B[0m \u001B[0;34m\u001B[0m\u001B[0m\n\u001B[1;32m   1995\u001B[0m     def __array_wrap__(\n",
      "\u001B[0;31mValueError\u001B[0m: could not convert string to float: 'Thu, June 4'"
     ]
    }
   ]
  },
  {
   "cell_type": "code",
   "metadata": {
    "id": "D8bgctaYweDS",
    "colab": {
     "base_uri": "https://localhost:8080/",
     "height": 243
    },
    "executionInfo": {
     "status": "ok",
     "timestamp": 1593630954610,
     "user_tz": 180,
     "elapsed": 801,
     "user": {
      "displayName": "Robson Parmezan Bonidia",
      "photoUrl": "https://lh3.googleusercontent.com/a-/AOh14Gi7jMOD_1W0cfh-_nCN6_Lq5E6_RO4HNbsyzVEt=s64",
      "userId": "13164044841706986455"
     }
    },
    "outputId": "061c2e56-5c9c-4fbe-9769-95198ced7961"
   },
   "source": [
    "train"
   ],
   "execution_count": null,
   "outputs": []
  },
  {
   "cell_type": "code",
   "metadata": {
    "id": "v3iLD56WwfZF",
    "colab": {
     "base_uri": "https://localhost:8080/",
     "height": 243
    },
    "executionInfo": {
     "status": "ok",
     "timestamp": 1593630955786,
     "user_tz": 180,
     "elapsed": 595,
     "user": {
      "displayName": "Robson Parmezan Bonidia",
      "photoUrl": "https://lh3.googleusercontent.com/a-/AOh14Gi7jMOD_1W0cfh-_nCN6_Lq5E6_RO4HNbsyzVEt=s64",
      "userId": "13164044841706986455"
     }
    },
    "outputId": "788b14ba-217d-4ebf-e925-52b8e3f0d7d0"
   },
   "source": [
    "test"
   ],
   "execution_count": null,
   "outputs": []
  },
  {
   "cell_type": "markdown",
   "metadata": {
    "id": "nlESPhyawoFi"
   },
   "source": [
    "**Construindo o modelo**"
   ]
  },
  {
   "cell_type": "code",
   "metadata": {
    "id": "422JcemBwtxz"
   },
   "source": [
    "from sklearn import tree\n",
    "\n",
    "classifier = tree.DecisionTreeClassifier()"
   ],
   "execution_count": null,
   "outputs": []
  },
  {
   "cell_type": "markdown",
   "metadata": {
    "id": "MzsRY0mCw1vw"
   },
   "source": [
    "**Ajustando o classificador no treino**"
   ]
  },
  {
   "cell_type": "code",
   "metadata": {
    "id": "maI72nrjw0X2",
    "colab": {
     "base_uri": "https://localhost:8080/",
     "height": 121
    },
    "executionInfo": {
     "status": "ok",
     "timestamp": 1593630960706,
     "user_tz": 180,
     "elapsed": 1076,
     "user": {
      "displayName": "Robson Parmezan Bonidia",
      "photoUrl": "https://lh3.googleusercontent.com/a-/AOh14Gi7jMOD_1W0cfh-_nCN6_Lq5E6_RO4HNbsyzVEt=s64",
      "userId": "13164044841706986455"
     }
    },
    "outputId": "1db6373a-ebc8-431c-8874-1cee7fbbf253"
   },
   "source": [
    "classifier.fit(train, train_labels)"
   ],
   "execution_count": null,
   "outputs": []
  },
  {
   "cell_type": "markdown",
   "metadata": {
    "id": "VwECCRgsw-ct"
   },
   "source": [
    "**Testando o modelo**"
   ]
  },
  {
   "cell_type": "code",
   "metadata": {
    "id": "QoMyIlx8w7RL"
   },
   "source": [
    "preds = classifier.predict(test)"
   ],
   "execution_count": null,
   "outputs": []
  },
  {
   "cell_type": "code",
   "metadata": {
    "id": "zjS3LD3zxD2X",
    "colab": {
     "base_uri": "https://localhost:8080/",
     "height": 260
    },
    "executionInfo": {
     "status": "ok",
     "timestamp": 1593630965347,
     "user_tz": 180,
     "elapsed": 813,
     "user": {
      "displayName": "Robson Parmezan Bonidia",
      "photoUrl": "https://lh3.googleusercontent.com/a-/AOh14Gi7jMOD_1W0cfh-_nCN6_Lq5E6_RO4HNbsyzVEt=s64",
      "userId": "13164044841706986455"
     }
    },
    "outputId": "c98e4be3-26dd-4d78-a391-14ce2f51de22"
   },
   "source": [
    "preds"
   ],
   "execution_count": null,
   "outputs": []
  },
  {
   "cell_type": "markdown",
   "metadata": {
    "id": "BCp2V-RXxJjy"
   },
   "source": [
    "**Avaliando**"
   ]
  },
  {
   "cell_type": "code",
   "metadata": {
    "id": "S7YwFCX4xH7J",
    "colab": {
     "base_uri": "https://localhost:8080/",
     "height": 347
    },
    "executionInfo": {
     "status": "ok",
     "timestamp": 1593630976718,
     "user_tz": 180,
     "elapsed": 1069,
     "user": {
      "displayName": "Robson Parmezan Bonidia",
      "photoUrl": "https://lh3.googleusercontent.com/a-/AOh14Gi7jMOD_1W0cfh-_nCN6_Lq5E6_RO4HNbsyzVEt=s64",
      "userId": "13164044841706986455"
     }
    },
    "outputId": "61eed0c4-141d-427b-aeac-0f6ba04d4405"
   },
   "source": [
    "import warnings\n",
    "warnings.filterwarnings(\"ignore\")\n",
    "from sklearn.metrics import roc_auc_score\n",
    "from sklearn.metrics import accuracy_score\n",
    "from sklearn.metrics import cohen_kappa_score\n",
    "from sklearn.metrics import confusion_matrix\n",
    "from sklearn.metrics import hamming_loss\n",
    "from sklearn.metrics import f1_score\n",
    "from sklearn.metrics import precision_score\n",
    "from sklearn.metrics import recall_score\n",
    "from sklearn.metrics import matthews_corrcoef\n",
    "#from imblearn.metrics import geometric_mean_score\n",
    "\n",
    "accuracy = accuracy_score(test_labels, preds)\n",
    "matriz = (pd.crosstab(test_labels, preds, rownames=[\"REAL\"], colnames=[\"PREDITO\"], margins=True))\n",
    "hamming = hamming_loss(test_labels, preds)\n",
    "# matriz_confu = confusion_matrix(test_labels, preds)\n",
    "f1 = f1_score(test_labels, preds, average=None)\n",
    "mcc = matthews_corrcoef(test_labels, preds) \n",
    "\n",
    "print(\"Accuracy %s\" % (accuracy))\n",
    "print(\"\\n\")\n",
    "print(\"%s\" % (matriz))\n",
    "print(\"\\n\")\n",
    "print(\"Hamming %s\" % (hamming))\n",
    "print(\"\\n\")\n",
    "print(\"F1 Score %s\" % (f1))\n",
    "print(\"\\n\")\n",
    "print(\"MCC %s\" % (mcc))\n",
    "print(\"\\n\")   "
   ],
   "execution_count": null,
   "outputs": []
  }
 ]
}